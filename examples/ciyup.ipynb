{
 "cells": [
  {
   "cell_type": "code",
   "execution_count": 1,
   "metadata": {},
   "outputs": [],
   "source": [
    "import jieba\n",
    "import wordcloud\n",
    "from imageio import imread"
   ]
  },
  {
   "cell_type": "code",
   "execution_count": 3,
   "metadata": {},
   "outputs": [
    {
     "name": "stdout",
     "output_type": "stream",
     "text": [
      "735338\n"
     ]
    }
   ],
   "source": [
    "# 0、停用词表\n",
    "def stopwordslist():\n",
    "    stopwords = [line.strip() for line in open('sw.txt',encoding='UTF-8').readlines()]\n",
    "    return stopwords\n",
    "\n",
    "# 1、进行词云分析，即词云图的制作\n",
    "def ciyun():\n",
    "    mask = imread(\"bgr.jpg\")   # 打开词云背景图\n",
    "    tf = open('redall.txt','rt',encoding = 'utf-8')   # 打开txt文档\n",
    "#     tf = open('monkey.txt','rt',encoding = 'utf-8')   # 打开txt文档\n",
    "    txt = ''\n",
    "    for line in tf.readlines():\n",
    "        txt += line.strip()\n",
    "    jieba_cut = jieba.lcut(txt)   # 利用jieba对文档进行全文分词\n",
    "#     with open('jieba_cut.txt', 'w', encoding = 'utf-8') as fo:\n",
    "#         fo.write(str(jieba_cut))\n",
    "    sw = stopwordslist()\n",
    "    outstr = ''\n",
    "    for word in jieba_cut:\n",
    "        if word not in sw:\n",
    "            if word != '\\t':\n",
    "                outstr += word\n",
    "                outstr += \" \"\n",
    "\n",
    "    print(len(outstr))           \n",
    "    c = wordcloud.WordCloud(width = 1200,\n",
    "                            font_path = 'msyh.ttc',\n",
    "                            height = 800,\n",
    "                            background_color='white',\n",
    "                            mask=mask)   # 进行背景、画布大小、颜色等处理\n",
    "    c.generate(' '.join(outstr))\n",
    "#     c.to_file('红楼梦.png')\n",
    "    c.to_file('红.png')\n",
    "    tf.close()\n",
    "ciyun() "
   ]
  },
  {
   "cell_type": "code",
   "execution_count": null,
   "metadata": {},
   "outputs": [],
   "source": [
    "\n",
    "贾政[0 0 1] \n",
    "老爷[0 1 0]\n",
    "宝玉[1 0 0 ]"
   ]
  }
 ],
 "metadata": {
  "kernelspec": {
   "display_name": "Python 3",
   "language": "python",
   "name": "python3"
  },
  "language_info": {
   "codemirror_mode": {
    "name": "ipython",
    "version": 3
   },
   "file_extension": ".py",
   "mimetype": "text/x-python",
   "name": "python",
   "nbconvert_exporter": "python",
   "pygments_lexer": "ipython3",
   "version": "3.7.0"
  }
 },
 "nbformat": 4,
 "nbformat_minor": 2
}
