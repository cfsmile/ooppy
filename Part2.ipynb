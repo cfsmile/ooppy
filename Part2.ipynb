{
 "cells": [
  {
   "cell_type": "markdown",
   "metadata": {},
   "source": [
    "## Part 2 Object-oriented programming\n",
    "\n",
    "- [Object oriented programming python ](https://pythonguides.com/object-oriented-programming-python/)"
   ]
  },
  {
   "cell_type": "markdown",
   "metadata": {},
   "source": [
    "### 第七章　基本面向对象技术\n",
    "结构化编程，重点在编写函数，处理数据。数据和函数分开定义，松散关联。面向对象编程，重点在创建对象。若干对象交互作用，完成任务。对象包含数据，又包含处理数据函数，二者定义在同一个数据类型中，紧密关联。这个数据类型称为*类*。类是自定义的数据类型。程序运行时，依据类中的定义，以类为模范，创建对象。面向对象技术的思路，是在程序中，创建对象，依靠对象间沟通、协调、合作，解决问题，完成任务。\n",
    "\n",
    "面向对象程序设计技术源于对隐藏信息的需要。结构化编程与面向对象编程，如海大和吉大图书馆，分别采用开放数据与控制访问制度。书就像数据，控制访问情况下，只能通过馆员借还书，绝对不允许自己动手。面向对象程序中，对象的数据称为*属性*，对象的函数称为*方法*。这样的程序中，数据仿佛被隐藏和保护起来，访问受到严格控制，只能通过特定函数读取、修改数据。这种隐藏和保护数据术语称为*信息封装*。\n",
    "\n",
    "面向对象技术中的重要概念有，类class, 对象object, 属性attribute，方法method, 继承inheritance,多态polymorphism，封装encapsulation，数据抽象data abstraction等。"
   ]
  },
  {
   "cell_type": "markdown",
   "metadata": {},
   "source": [
    "####　TODO: 事件响应模式 Event driven programming\n",
    "\n",
    "[source:](https://stackoverflow.com/questions/22101731/what-is-the-relation-of-event-driven-and-object-oriented-programming)\n",
    "\n",
    "1. Object Oriented Programming (OOP) and Event-Driven Programming (EDP) are orthogonal, which means that they can be used together.\n",
    "2. In OOP with EDP all OOP principles (encapsulation, inheritance and polymorphism) stay intact.\n",
    "3. In OOP with EDP objects acquire some mechanism of publishing event notifications and subscribing to event notifications from other objects.\n",
    "4. The difference between OOP with / without EDP is control flow between objects.\n",
    "5. In OOP without EDP control moves from one object to another object on a method call. Object mainly invokes methods of other objects.\n",
    "6. In OOP with EDP control moves from one object to another object on event notification. Object subscribes on notifications from other objects, then waits for notifications from the objects it is subscribed on, does some work based on notification and publishes it's own notifications.\n",
    "7. Conclusion: OOP+EDP is \"exactly our old friend OOP\" with control flow inverted thanks to Event-Driven Design.\n",
    "\n",
    "\n",
    "\n",
    "\n",
    "The algorithm of a sequential (non-event-driven) program is like a recipe: begin at the beginning, work through until you get to the end, then stop.\n",
    "\n",
    "An event-driven program is more like the controls of a car: anything can happen any time in any order.\n",
    "\n",
    "The Object-Oriented principle seems more applicable to an event-driven model because each of the \"controls\" is basically unrelated to the others (separation of concerns), and order of events is mostly not important, as is coincidence in time: you can turn on the wipers, turn off the defroster, steer and accelerate all at the same time, and the actions do not affect each other. That is also possible in some cases with a recipe, but it is up to the chef (compiler / optimizer / cpu) to deduce it.\n",
    "\n",
    "A sequential program can be OO: nobody minds if the blender and the oven are disconnected and do their own thing. I hope this was a useful analogy.\n"
   ]
  },
  {
   "cell_type": "markdown",
   "metadata": {},
   "source": [
    "#### 一切皆对象\n",
    "python是多范式编程语言，支持过程式编程、面向对象编程、以及函数式编程。\n",
    "\n",
    "面向对象编程(以对象为中心，一切围绕对象)，将数据和操作数据的函数抽象为一整体，用术语*对象*来刻画这个整体。每个对象有唯一的标识、属于某种数据类型，有值。Python中所有事物都是对象。列表是对象，42是对象，模块是对象，函数是对象。\n",
    "\n",
    "> One of my goals for Python was to make it so that all objects were ``first class.\"  By this, I meant that I wanted all objects that could be named in the language(e.g., integers, strings, functions, classes, modules, methods, and so on) to have equal status. That is, they can be assigned to variables, placed in lists, stored in dictionaryes, passed as argumetns, and so forth.''\n",
    "    --Guido van Rossum(Blog, The History of Python, February 27, 2009)"
   ]
  },
  {
   "cell_type": "markdown",
   "metadata": {},
   "source": [
    "##### 对象标识\n",
    "id(object)显示一个对象的标识。"
   ]
  },
  {
   "cell_type": "code",
   "execution_count": 1,
   "metadata": {},
   "outputs": [
    {
     "data": {
      "text/plain": [
       "140533142349264"
      ]
     },
     "execution_count": 1,
     "metadata": {},
     "output_type": "execute_result"
    }
   ],
   "source": [
    "def foo(): pass\n",
    "\n",
    "type(foo), id(foo)\n",
    "# (<class 'function'>, 38110760)   #  function is an object\n",
    "type(foo.__code__)\n",
    "id(foo.__code__)\n",
    "# (<class 'code'>, 38111680)  #  code is an object"
   ]
  },
  {
   "cell_type": "markdown",
   "metadata": {},
   "source": [
    "##### 对象的数据类型\n",
    "一般的数据类型定义该类型的取值范围，运算规则。\n",
    "对象数据类型定义了对象数据的取值范围，定义了对象可以完成的操作。数据类型自身也是对象，它的数据类型就是其自身。"
   ]
  },
  {
   "cell_type": "code",
   "execution_count": 2,
   "metadata": {},
   "outputs": [
    {
     "data": {
      "text/plain": [
       "module"
      ]
     },
     "execution_count": 2,
     "metadata": {},
     "output_type": "execute_result"
    }
   ],
   "source": [
    "type(42)\n",
    "#  <class 'int'>\n",
    "type(type(42))\n",
    "#  <class 'type'>\n",
    "type(type(type(42)))\n",
    "#  <class 'type'>\n",
    "def f(x):\n",
    "    return x+1\n",
    "type(f)\n",
    "import math\n",
    "type(math)"
   ]
  },
  {
   "cell_type": "markdown",
   "metadata": {},
   "source": [
    "#### 类\n",
    "类是自定义对象的数据类型，是创建对象的模板。定义类语法如下。\n",
    "<pre>\n",
    "class 类名(父类1, 父类2...):\n",
    "      \"\"\"类说明\"\"\"\n",
    "      def __init__(self, arg1, arg2...):\n",
    "          \"\"\"方法说明\"\"\"\n",
    "          构造器方法体\n",
    "\n",
    "      def method1(self, arg1, arg2...):\n",
    "          \"\"\"方法说明\"\"\"\n",
    "          方法1语句\n",
    "\n",
    "      ……\n",
    "</pre>\n",
    "下面例子用类的语法，创建一个学生类。"
   ]
  },
  {
   "cell_type": "code",
   "execution_count": null,
   "metadata": {},
   "outputs": [],
   "source": [
    "# 简单学生类\n",
    "# create a class\n",
    "class student:\n",
    "    roll = 1\n",
    "print(student)"
   ]
  },
  {
   "cell_type": "code",
   "execution_count": 6,
   "metadata": {},
   "outputs": [
    {
     "data": {
      "text/plain": [
       "type"
      ]
     },
     "execution_count": 6,
     "metadata": {},
     "output_type": "execute_result"
    }
   ],
   "source": [
    "# 稍复杂的学生类\n",
    "class Human:\n",
    "    pass\n",
    "\n",
    "\n",
    "class Student(Human): \n",
    "    def __init__(self, name='Adam', sex='Male', age=18):\n",
    "        self.name = name\n",
    "        self.sex = sex\n",
    "        self.age = age\n",
    "\n",
    "    def ChangeName(self, new_name):\n",
    "        self.name = name\n",
    "         \n",
    "s = Student('Mary', 'Female, 19')\n",
    "type(s)\n",
    "type(type(s))"
   ]
  },
  {
   "cell_type": "markdown",
   "metadata": {},
   "source": [
    "上面例子中，按Python语法，创造了自定义数据类型学生类。术语“类”和“数据类型”是同一个概念的两个名字。为防混淆，一般称内置数据类型为数据类型，称自定义数据类型为类。类合数据和操作为一，提供创造新数据类型的机制。创建一个类，就是创建了某种对象的新数据类型。类有属性，描述状态，代表类的数据，表示类的静态方面；类有方法，修改状态，代表了类的行为，表示类的动态方面。数据抽象主要思想是鼓励程序定义自己的数据类型。"
   ]
  },
  {
   "cell_type": "markdown",
   "metadata": {},
   "source": [
    "##### 实例\n",
    "\n",
    "对象是拥有状态和行为的实体，python中，一切皆对象。我们更多的关注，实例对象，即由类实例化而来的对象。\n",
    "\n",
    "实例（instance）是对象的同义语。 “实例是某数据类型的对象”。例如，42是int数据类型的实例，即42是一个整型对象。上例中，s是学生类的实例，是学生对象，用来表示一个具体的学生Mary，其数据类型是学生类。\n",
    "\n",
    "类是对象的模板，对象是类的实例。类是编译时实体。实例是运行时实体。\n",
    "\n",
    "回想下，我们已在前面学习中，接触到类和对象了。比如，列表是类，具体的列表是列表实例，而列表方法，正是该类的方法。"
   ]
  },
  {
   "cell_type": "code",
   "execution_count": null,
   "metadata": {},
   "outputs": [],
   "source": [
    "# 由类实例化而得到的对象\n",
    "class student:\n",
    "    roll = 1\n",
    "a1 = student\n",
    "print(a1.roll)"
   ]
  },
  {
   "cell_type": "markdown",
   "metadata": {},
   "source": [
    "##### 增加实例属性和方法\n",
    "属性描述类的性质。类的不同实例初始化为对象后，有各自的属性值，对象属性值描述每个对象的状态。属性与变量一样，赋值即定义。属性赋值语句：object.attribute = value。习惯上，在构造函数内，声明对象属性并赋值。\n",
    "\n",
    "方法描述类的行为，指明类的对象能做哪些事情。对象方法做的主要事情，就是改变对象的属性值，即改变对象的状态，完成从一个状态到另一个状态的转移。方法和函数的区别在于，方法必须依附于某个对象。因此，方法的所有参数中，第一个参数必须是调用该方法的对象，即该方法依附的对象。习惯上，这个参数命名为self。\n",
    "\n",
    "一般，属性指对象的属性，方法指对象的方法。后面还要学习类属性、类方法，它们与对象的属性和方法不同。\n",
    "\n",
    "##### 读取属性和调用方法\n",
    "读取属性语法为object.attribute，调用方法语法为object.method(arg1,arg2...)。有同学可能会注意到，调用方法时，参数列表中第一个参数并没有提供self对象。这如何解释？可以这样理解mehtod(object, arg1, arg2)。这也再次说明了方法与函数的差别。"
   ]
  },
  {
   "cell_type": "code",
   "execution_count": null,
   "metadata": {},
   "outputs": [],
   "source": [
    "# 增加和访问属性\n",
    "class teacher:\n",
    "    def __init__(self):\n",
    "        self.name=\"John\"\n",
    "        self.salary=100000\n",
    "t1=teacher()\n",
    "print(t1.name)\n",
    "print(t1.salary)"
   ]
  },
  {
   "cell_type": "markdown",
   "metadata": {},
   "source": [
    "##### 类属性\n",
    "类属性依附于类，而不依附于类的实例。对类所有实例对象而言，类属性不变。类属性定义在类中，而不是像实例属性那样，定义在方法中。类所有实例共享该类的类属性。"
   ]
  },
  {
   "cell_type": "code",
   "execution_count": null,
   "metadata": {},
   "outputs": [],
   "source": [
    "class teacher:\n",
    "    value = \"Welcome\"\n",
    "\n",
    "# Note, there is not any teacher obejcts existing right now.    \n",
    "print(teacher.value)"
   ]
  },
  {
   "cell_type": "markdown",
   "metadata": {},
   "source": [
    "##### 构造器和析构器\n",
    "\\_\\_init\\_\\_()称为*构造器*，该方法用于创造一个实例化的类——对象。该方法是创建对象后，第一个调用的方法。构造器用于给实例属性绑定初值。\n",
    "\n",
    "\\_\\_del\\_\\_()称为*析构器*，该方法用于摧毁对象。由于Python有支持垃圾收集技术（garbage collection），析构器几乎很少使用。"
   ]
  },
  {
   "cell_type": "code",
   "execution_count": null,
   "metadata": {},
   "outputs": [],
   "source": [
    "class student:\n",
    "    def __init__(self, name, roll):\n",
    "        self.name = name\n",
    "        self.roll = roll\n",
    "\n",
    "a1 = student(\"Eelon\", 24)\n",
    "print(a1.name)\n",
    "print(a1.roll)"
   ]
  },
  {
   "cell_type": "markdown",
   "metadata": {},
   "source": [
    "##### 方法\n",
    "方法是定义在类内的函数，用以规定实例的行为。\n",
    "\n",
    "方法的例子：\n",
    "- [String methods in Python with examples](https://pythonguides.com/string-methods-in-python/)\n",
    "- [Python Dictionary Methods + Examples ](https://pythonguides.com/python-dictionary-methods/)\n",
    "- [11 Python list methods](https://pythonguides.com/python-list-methods/)"
   ]
  },
  {
   "cell_type": "code",
   "execution_count": 30,
   "metadata": {},
   "outputs": [
    {
     "name": "stdout",
     "output_type": "stream",
     "text": [
      "Welcome to python Elon\n"
     ]
    }
   ],
   "source": [
    "class student:\n",
    "    def __init__(self, name, roll):\n",
    "        self.name = name\n",
    "        self.roll = roll\n",
    "    \n",
    "    def function(self):\n",
    "        print(\"Welcome to python \" + self.name)\n",
    "        \n",
    "a1 = student(\"Elon\", 24)\n",
    "a1.function()"
   ]
  },
  {
   "cell_type": "markdown",
   "metadata": {},
   "source": [
    "- self这个参数用于指示类的实例，含义为“自己”，类中方法的第一个参数必须是self\n",
    "- 使用self，可以访问实例的属性和方法\n",
    "- 其字面量名字，不必是self。约定俗成，大家都用self\n",
    "- method(self,arg1,arg2)就是类的方法"
   ]
  },
  {
   "cell_type": "markdown",
   "metadata": {},
   "source": [
    "- 类是一组对象的模板，定义了对象公共的属性和方法。\n",
    "- 对象是类的实例，拥有状态和行为\n",
    "- 对象的属性值（状态）是可以改变的"
   ]
  },
  {
   "cell_type": "code",
   "execution_count": null,
   "metadata": {},
   "outputs": [],
   "source": [
    "class teacher():\n",
    "    def __init__(self,name,id,salary):\n",
    "        self.name = name\n",
    "        self.id = id\n",
    "        self.salary = salary\n",
    "obj1 = teacher(\"Simon\",101,12500)\n",
    "print(obj1.__dict__) "
   ]
  },
  {
   "cell_type": "code",
   "execution_count": null,
   "metadata": {},
   "outputs": [],
   "source": [
    "class student:\n",
    "    def __init__(self, name, roll):\n",
    "        self.name = name\n",
    "        self.roll = roll\n",
    "    def function(self):\n",
    "        print(\"Welcome to python \" + self.name)\n",
    "a1 = student(\"Elon\", 24)\n",
    "a1.roll = 30\n",
    "print(a1.roll)"
   ]
  },
  {
   "cell_type": "code",
   "execution_count": 2,
   "metadata": {},
   "outputs": [
    {
     "name": "stdout",
     "output_type": "stream",
     "text": [
      "__init__ has been executed!\n",
      "Hi, I am a robot without a name.\n",
      "__init__ has been executed!\n",
      "Hi, I amMarvin\n",
      "Deleting x\n",
      "Robot has been destroyed\n",
      "Deleting y\n",
      "Robot has been destroyed\n"
     ]
    }
   ],
   "source": [
    "# 下面这个例子，展示了构造器、析构器、属性、方法的用法。读懂这个例子后，做后面的练习。\n",
    "# coding: utf-8\n",
    "#!/usr/bin/env python\n",
    "\n",
    "\n",
    "class Robot:\n",
    "    \"\"\"A Robot class\"\"\"\n",
    "    def __init__(self, name=None):\n",
    "\n",
    "        print(\"__init__ has been executed!\")\n",
    "        self.name = name\n",
    "\n",
    "    def __del__(self):\n",
    "        \"\"\"Deconstructor is rarely used\"\"\"\n",
    "        print(\"Robot has been destroyed\")\n",
    "\n",
    "    def say_hi(self):\n",
    "\n",
    "        if self.name:\n",
    "            print(\"Hi, I am\" + self.name)\n",
    "        else:\n",
    "            print(\"Hi, I am a robot without a name.\")\n",
    "\n",
    "\n",
    "x = Robot()\n",
    "x.say_hi()\n",
    "\n",
    "y = Robot(\"Marvin\")\n",
    "y.say_hi()\n",
    "\n",
    "print(\"Deleting x\")\n",
    "del x\n",
    "print(\"Deleting y\")\n",
    "del y"
   ]
  },
  {
   "cell_type": "code",
   "execution_count": null,
   "metadata": {},
   "outputs": [],
   "source": []
  },
  {
   "cell_type": "markdown",
   "metadata": {},
   "source": [
    "##### 练习：创建类\n",
    "二维平面中，视点为一个实体，其属性为直角坐标系下横纵坐标，如(0, 0)、(x, y)。与点有关的操作有，计算该点到原点距离，计算该点到某点的两点间距离，计算两点的中点坐标，或该点是否在某个矩形或圆形范围内等等。\n",
    "\n",
    "尝试自定义类Point，代表二维平面上的点Point，该类有两个属性，分别代表横纵坐标。方法有：构造器；移动，修改点的坐标；重置，将点坐标设置为原点；计算距离，如果已知另一个点，则可计算其与本点的欧式距离。"
   ]
  },
  {
   "cell_type": "code",
   "execution_count": 7,
   "metadata": {},
   "outputs": [
    {
     "name": "stdout",
     "output_type": "stream",
     "text": [
      "5.0\n",
      "4.47213595499958\n",
      "0.0\n"
     ]
    }
   ],
   "source": [
    "# coding: utf-8\n",
    "#!/usr/bin/env python\n",
    "\n",
    "\n",
    "import math\n",
    "\n",
    "\n",
    "class Point:\n",
    "    \"\"\" Represents a point in two-dimensional geometric coordinates. \"\"\"\n",
    "\n",
    "    def __init__(self):\n",
    "        \"\"\"Initialize the position of a new point. The x and y coords can be\n",
    "  specified. If they are not, the point default to the (1,1).\"\"\"\n",
    "        self.x = 1\n",
    "        self.y = 1\n",
    "\n",
    "    def move(self, x, y):\n",
    "        \"\"\"Move the point to a new location in 2D space.\"\"\"\n",
    "        self.x = x\n",
    "        self.y = y\n",
    "\n",
    "    def reset(self):\n",
    "        \"\"\" Reset the point back to the origin(0,0)\"\"\"\n",
    "        self.move(0, 0)\n",
    "\n",
    "    def calculate_distance(self, other_point):\n",
    "        \"\"\"Calculate the distance from this point to a second point passed as\n",
    "  aparameter.\"\"\"\n",
    "        return math.sqrt(\n",
    "            (self.x - other_point.x) ** 2 +\n",
    "            (self.y - other_point.y) ** 2)\n",
    "\n",
    "\n",
    "# useage\n",
    "p1 = Point()\n",
    "p2 = Point()\n",
    "\n",
    "p1.reset()\n",
    "p2.move(5, 0)\n",
    "\n",
    "print(p2.calculate_distance(p1))\n",
    "\n",
    "assert (p2.calculate_distance(p1) == p1.calculate_distance(p2))\n",
    "\n",
    "p1.move(3, 4)\n",
    "print(p1.calculate_distance(p2))\n",
    "print(p1.calculate_distance(p1))\n",
    "\n",
    "# Any idea to polish the code?\n",
    "# In the programming world, duplicate code is considered evil.\n",
    "# Is the second version __init__ better than the previous?\n",
    "#    def __init__(self, x=1, y=1):\n",
    "#        self.move(x, y)"
   ]
  },
  {
   "cell_type": "markdown",
   "metadata": {},
   "source": [
    "#### 对象特征\n",
    "面向对象语言支持一些强大的技术。这些技术也成为面向对象程序最显著的特征。结构化语言不支持这些特征\n",
    "\n",
    "##### 信息封装\n",
    "信息封装是一种信息访问保护机制，用于控制对属性和方法的读取和修改。属性和方法的封装类型一般分三个层次。\n",
    "- 属性和方法名  类型  类型含义 \n",
    "- name        公开  常规命名，供所有类自由访问、调用，没有限制\n",
    "- \\_name      保护  前缀下划线，供该类及其子类使用，其他类不应该访问\n",
    "- \\_\\_name    私有  前缀双下划线，仅供该类使用，其他类绝不应该访问\n",
    "\n",
    "从技术角度看，Python在语言层面没有提供严格访问保护机制，所有属性和方法本质上都是公开的。 程序中，如果该属性供内部使用，不希望其他类访问，应在文档中注明，这是一个内部方法。或者，按大多数Python程序员的习惯做法，修饰名称（name mangling）。这个术语指这样一种技术，通过给属性或方法名，加一个下划线前缀，来标记这是一个应该隐藏的属性。更强烈的标记是前缀双下划线。事实上，访问双下划线属性也是可以的，只不过写法上费点事。如此费事，岂不正是程序员强烈提醒用户不要使用此属性或方法。另外，双下划线，是许多特名（special names）的标志，比如构造器。因此，程序员给属性、方法起名，为了标识信息隐藏，一个下划线足够，尽量不要使用双下划线。"
   ]
  },
  {
   "cell_type": "code",
   "execution_count": 9,
   "metadata": {},
   "outputs": [
    {
     "data": {
      "text/plain": [
       "'I am protected'"
      ]
     },
     "execution_count": 9,
     "metadata": {},
     "output_type": "execute_result"
    }
   ],
   "source": [
    "# coding: utf-8\n",
    "#!/usr/bin/env python\n",
    "class A():\n",
    "    \"\"\"Example for information hiding\"\"\"\n",
    "\n",
    "    def __init__(self):\n",
    "\n",
    "        self.__priv = \"I am private\"\n",
    "        self._prot = \"I am protected\"\n",
    "        self.pub = \"I am public\"\n",
    "\n",
    "\n",
    "x = A()\n",
    "\n",
    "x.pub\n",
    "x.pub = x.pub + \" and my value can be changed\"\n",
    "x.pub\n",
    "\n",
    "x._prot\n",
    "# print(x.__priv)"
   ]
  },
  {
   "cell_type": "markdown",
   "metadata": {},
   "source": [
    "##### 继承\n",
    "继承是面向对象程序设计最显著的特征，是重用代码的一种方法。\n",
    "\n",
    "继承使得一个类（甲）得到了另一个类（乙）的全部属性和方法。甲称为子类或继承类，乙称为父类或基类。\n",
    "\n",
    "甚至有人说：“如果没有继承，面向对象程序设计几乎不值一提。”继承允许在两个乃至多个类之间建立表示上位类和下位类的继承（is a）关系。上位类称为父类、超类，下位类称为子类。由此，在类之间建立了层次关系。这与自然界中生物间继承关系很像。采用继承技术的主要动力是重用代码，即希望不要在两个相似的类中，重复撰写相同的代码，而是让子类继承父类的属性和方法，达到复用目的。一般将共性的属性、方法放到父类中，将个性的属性、方法放到子类中，则子类通过继承同时拥有共性和个性的属性和方法。\n",
    "\n",
    "Python中每个类都使用了继承关系，所有类都继承自一个特殊类object。这个类几乎没有实用功能。但它提供了统一的视角，看待所有Python类。大家都是object类的子类。"
   ]
  },
  {
   "cell_type": "code",
   "execution_count": null,
   "metadata": {},
   "outputs": [],
   "source": [
    "# 简单继承例子\n",
    "class Teacher():\n",
    "    def myfirst(self):\n",
    "        print('This is my first function')\n",
    "class Child(Teacher):\n",
    "    def mysecond(self):\n",
    "        print('This is my second function')\n",
    "obj = Child()\n",
    "obj.myfirst()\n",
    "obj.mysecond()"
   ]
  },
  {
   "cell_type": "markdown",
   "metadata": {},
   "source": [
    "继承主要分单继承和多继承，Python支持多继承。也有更为细致的划分继承类型，如下。但３、４、５都是１、２的变形。主要的还是单、多继承。\n",
    "1. 单继承　Single Inheritance\n",
    "2. 多继承　Multiple Inheritance\n",
    "3. 多层继承　Multilevel Inheritance\n",
    "4. 层次继承　Hierarchical Inheritance\n",
    "5. 混合继承　Hybrid Inheritance\n",
    "\n",
    "###### 单继承\n",
    "一个类仅继承一个父类。子类继承了唯一一个父类的属性、方法。可以通过子类访问父类的属性和方法。"
   ]
  },
  {
   "cell_type": "code",
   "execution_count": 1,
   "metadata": {},
   "outputs": [
    {
     "name": "stdout",
     "output_type": "stream",
     "text": [
      "This is my first function\n",
      "This is my second function\n"
     ]
    }
   ],
   "source": [
    "class Teacher():\n",
    "    def myfirst1(self):\n",
    "        print('This is my first function')\n",
    "class Child(Teacher):\n",
    "    def mysecond2(self):\n",
    "        print('This is my second function')\n",
    "obj = Child()\n",
    "obj.myfirst1()\n",
    "obj.mysecond2()"
   ]
  },
  {
   "cell_type": "markdown",
   "metadata": {},
   "source": [
    "###### 多继承\n",
    "一个类继承一个以上父类。子类继承了所有父类的属性和方法。可以通过子类防务新父类的属性和方法。"
   ]
  },
  {
   "cell_type": "code",
   "execution_count": null,
   "metadata": {},
   "outputs": [],
   "source": [
    "class Teacher1:\n",
    "    def myfirst1(self):\n",
    "        print('This is my first function')\n",
    "\n",
    "class Teacher2:\n",
    "    def mysecond2(self):\n",
    "        print('This is my second function')\n",
    "\n",
    "class Child(Teacher1,Teacher2):\n",
    "    def mythird3(self):\n",
    "        print('This is my third function')\n",
    "obj = Child()\n",
    "obj.myfirst1()\n",
    "obj.mysecond2()\n",
    "obj.mythird3()"
   ]
  },
  {
   "cell_type": "markdown",
   "metadata": {},
   "source": [
    "###### 多层继承\n",
    "一个类处于中间位置，它继承了某个类，同时另一个类又继承了它。类似父亲角色，上有祖父母，下有子女。"
   ]
  },
  {
   "cell_type": "code",
   "execution_count": 3,
   "metadata": {},
   "outputs": [
    {
     "name": "stdout",
     "output_type": "stream",
     "text": [
      "This is my parent\n",
      "This is me\n",
      "This is my child\n"
     ]
    }
   ],
   "source": [
    "class GrandParent:\n",
    "    def myfirst1(self):\n",
    "        print('This is my parent')\n",
    "\n",
    "class Parent(GrandParent):\n",
    "    def mysecond2(self):\n",
    "        print('This is me')\n",
    "\n",
    "class Child(Parent):\n",
    "    def mythird3(self):\n",
    "        print('This is my child')\n",
    "\n",
    "obj = Child()\n",
    "obj.myfirst1()\n",
    "obj.mysecond2()\n",
    "obj.mythird3()"
   ]
  },
  {
   "cell_type": "markdown",
   "metadata": {},
   "source": [
    "###### 多个继承\n",
    "多个同层次子类，继承同一个父类。这些同层次类，形成兄弟关系。"
   ]
  },
  {
   "cell_type": "code",
   "execution_count": null,
   "metadata": {},
   "outputs": [],
   "source": [
    "class Teacher:\n",
    "    def myfirst1(self):\n",
    "        print('This is my first function')\n",
    "\n",
    "class Child(Teacher):\n",
    "    def mysecond2(self):\n",
    "        print('This is my second function')\n",
    "\n",
    "class Child2(Teacher):\n",
    "    def mythird3(self):\n",
    "        print('This is my third function')\n",
    "obj = Child()\n",
    "obj1 = Child2()\n",
    "obj.myfirst1()\n",
    "obj.mysecond2()\n",
    "obj1.myfirst1()\n",
    "obj1.mythird3()"
   ]
  },
  {
   "cell_type": "markdown",
   "metadata": {},
   "source": [
    "###### 混合继承\n",
    "程序中包含若干上述继承形式，可称为混合继承。"
   ]
  },
  {
   "cell_type": "code",
   "execution_count": 4,
   "metadata": {},
   "outputs": [
    {
     "name": "stdout",
     "output_type": "stream",
     "text": [
      "This is my first function\n",
      "This is my second function\n"
     ]
    }
   ],
   "source": [
    "class Teacher:\n",
    "    def myfirst1(self):\n",
    "        print('This is my first function')\n",
    "\n",
    "class Child(Teacher):\n",
    "    def mysecond2(self):\n",
    "        print('This is my second function')\n",
    "\n",
    "class Child2(Teacher):\n",
    "    def mythird3(self):\n",
    "        print('This is my third function')\n",
    "\n",
    "class Child3(Child,Teacher):\n",
    "    def myfourth4(self):\n",
    "        print('This is my fourth function')\n",
    "\n",
    "obj = Child3()\n",
    "obj.myfirst1()\n",
    "obj.mysecond2()"
   ]
  },
  {
   "cell_type": "code",
   "execution_count": 10,
   "metadata": {},
   "outputs": [
    {
     "name": "stdout",
     "output_type": "stream",
     "text": [
      "Michael Jordan\n",
      "Kobe Bryant\n",
      "LeBron James\n",
      "Kobe Bryant,1001\n",
      "LeBron James, who is major in Computer Science\n"
     ]
    }
   ],
   "source": [
    "# coding: utf-8\n",
    "#!/usr/bin/env python\n",
    "\n",
    "\"\"\"A example of single inheritance.\"\"\"\n",
    "\n",
    "\n",
    "class Person():\n",
    "    \"\"\"Super class Person\"\"\"\n",
    "    def __init__(self, first, last):\n",
    "        self.firstname = first\n",
    "        self.lastname = last\n",
    "\n",
    "    def Name(self):\n",
    "        \"\"\"Return full name\"\"\"\n",
    "        return self.firstname + \" \" + self.lastname\n",
    "\n",
    "\n",
    "class Teacher(Person):\n",
    "    \"\"\"Subclass Teacher\"\"\"\n",
    "    def __init__(self, first, last, major):\n",
    "        Person.__init__(self, first, last)\n",
    "        self.major = major\n",
    "\n",
    "    def get_tchr(self):\n",
    "        \"\"\"Retrun name and major.\"\"\"\n",
    "        return self.Name() + \", who is major in \" + self.major\n",
    "\n",
    "\n",
    "class Student(Person):\n",
    "    \"\"\"Subclass Student\"\"\"\n",
    "    def __init__(self, first, last, stu_num):\n",
    "        Person.__init__(self, first, last)\n",
    "        self.stu_num = stu_num\n",
    "\n",
    "    def get_stu(self):\n",
    "        \"\"\"Return name and student number.\"\"\"\n",
    "        return self.Name() + \",\" + self.stu_num\n",
    "\n",
    "\n",
    "a = Person(\"Michael\", \"Jordan\")\n",
    "b = Student('Kobe', 'Bryant', \"1001\")\n",
    "c = Teacher('LeBron', 'James', 'Computer Science')\n",
    "\n",
    "print(a.Name())\n",
    "print(b.Name())\n",
    "print(c.Name())\n",
    "\n",
    "# print(a.get_stu())  # error\n",
    "print(b.get_stu())\n",
    "# print(c.get_stu())  # error\n",
    "print(c.get_tchr())"
   ]
  },
  {
   "cell_type": "markdown",
   "metadata": {},
   "source": [
    "可以看出，人可以做自己的事情，即调用自己的方法，教师、学生可以做各自事情。此外，人和学生、人和教师通过继承建立种属（is a）关系。学生是人，当然可以做人可以做的事情。教师是人，可以做人做的事情。而人未必是学生，人不能做学生做的事情，人未必是教师，人不能做教师做的事情。学生不是教师，教师也不是学生，互相不能做对方的事情。这就是继承的优势，子类继承父亲的属性和行为，同时增加自己特有的属性和行为。教师、学生都复用了人的属性和方法，而不必在自己类内将这些方法重写一遍。"
   ]
  },
  {
   "cell_type": "markdown",
   "metadata": {},
   "source": [
    "#### 多态\n",
    "多态（polymorphism）技术，指当不知道调用方法的子类是哪个时，系统会自动根据子类所属类别，执行相应的方法，产生不同的行为。\n",
    "多态有两种具体表现形式\n",
    "- overload重载\n",
    "- override覆盖\n",
    "\n",
    "##### 重载\n",
    "- 重载表示有若干方法，他们可以有相同的名字，却有不同数量的参数。\n",
    "- 以不同方式（传递不同数量的参数）调用同一个方法，称为重载。重载是编译时多态。 Method overloading is an example of compile-time polymorphism."
   ]
  },
  {
   "cell_type": "code",
   "execution_count": 13,
   "metadata": {},
   "outputs": [
    {
     "name": "stdout",
     "output_type": "stream",
     "text": [
      "Missy: Meow!\n",
      "Mr. Mistoffelees: Meow!\n",
      "Lassie: Woof! Woof!\n",
      "I am a Person, my name is Tim\n",
      "I am a Student, my name is Bob\n",
      "I am a Teacher, my name is Alice\n"
     ]
    }
   ],
   "source": [
    "# *** polymorphism demo 1 ***\n",
    "\n",
    "\n",
    "class Animal:\n",
    "    def __init__(self, name):    # Constructor\n",
    "        self.name = name\n",
    "\n",
    "    def talk(self):              # Abstract method, defined by convention only\n",
    "        raise NotImplementedError(\"Subclass must implement abstract method\")\n",
    "\n",
    "\n",
    "class Cat(Animal):\n",
    "    def talk(self):\n",
    "        return 'Meow!'\n",
    "\n",
    "\n",
    "class Dog(Animal):\n",
    "    def talk(self):\n",
    "        return 'Woof! Woof!'\n",
    "\n",
    "\n",
    "animals = [Cat('Missy'),\n",
    "           Cat('Mr. Mistoffelees'),\n",
    "           Dog('Lassie')]\n",
    "\n",
    "for animal in animals:\n",
    "    \"\"\"python automatically decide which subclass does an animal belong.\n",
    "    And do the corresponding behavior.\"\"\"\n",
    "    print(animal.name + ': ' + animal.talk())\n",
    "\n",
    "# Missy: Meow!\n",
    "# Mr. Mistoffelees: Meow!\n",
    "# Lassie: Woof! Woof!\n",
    "\n",
    "# *** polymorphism demo2 ***\n",
    "\n",
    "\n",
    "class Person(object):\n",
    "    def __init__(self, name, gender):\n",
    "        self.name = name\n",
    "        self.gender = gender\n",
    "\n",
    "    def whoAmI(self):\n",
    "        return 'I am a Person, my name is %s' % self.name\n",
    "\n",
    "\n",
    "class Student(Person):\n",
    "    def __init__(self, name, gender, score):\n",
    "        super().__init__(name, gender)\n",
    "        self.score = score\n",
    "\n",
    "    def whoAmI(self):\n",
    "        return 'I am a Student, my name is %s' % self.name\n",
    "\n",
    "\n",
    "class Teacher(Person):\n",
    "    def __init__(self, name, gender, course):\n",
    "        super().__init__(name, gender)\n",
    "        self.course = course\n",
    "\n",
    "    def whoAmI(self):\n",
    "        return 'I am a Teacher, my name is %s' % self.name\n",
    "\n",
    "\n",
    "def who_am_i(x):\n",
    "    \"\"\"Another style. This function is like a factory.\n",
    "    It produce various objects. These object could properly\n",
    "    do their jobs .\"\"\"\n",
    "    print(x.whoAmI())\n",
    "\n",
    "\n",
    "p = Person('Tim', 'Male')\n",
    "s = Student('Bob', 'Male', 88)\n",
    "t = Teacher('Alice', 'Female', 'English')\n",
    "\n",
    "who_am_i(p)\n",
    "who_am_i(s)\n",
    "who_am_i(t)"
   ]
  },
  {
   "cell_type": "markdown",
   "metadata": {},
   "source": [
    "##### 覆盖\n",
    "\n",
    "覆盖（override）技术，指子类用同名，内容不同的新方法替换父类中的方法。子类方法覆盖、遮蔽同名的父类方法。\n",
    "\n",
    "例子，覆盖父类方法。"
   ]
  },
  {
   "cell_type": "code",
   "execution_count": 11,
   "metadata": {},
   "outputs": [
    {
     "name": "stdout",
     "output_type": "stream",
     "text": [
      "Hello, I'm A\n",
      "Hello, I'm B\n"
     ]
    }
   ],
   "source": [
    "class A:\n",
    "    def hello(self):\n",
    "        print(\"Hello, I'm A\")\n",
    "\n",
    "\n",
    "class B(A):\n",
    "    # pass\n",
    "    def hello(self):  # override superclass's hello()\n",
    "        print(\"Hello, I'm B\")\n",
    "\n",
    "\n",
    "a = A()\n",
    "b = B()\n",
    "a.hello()\n",
    "b.hello()"
   ]
  },
  {
   "cell_type": "markdown",
   "metadata": {},
   "source": [
    "覆盖是继承机制中很重要的一项技术，对于构造函数尤其重要。子类通过覆盖，继承了父类方法名字，但改变了父类的行为。上例是完全改变父类行为。学生例子中，扩展了父类行为。学生继承人的属性和方法，但使用覆盖技术，子类的\\_\\_init\\_\\_()方法，覆盖了父类的\\_\\_init\\_\\_()方法，表示除父类的行为外，子类还要增加行为，形成自己的行为。调用Person.\\_\\_init\\_\\_()，表示学生全盘继承人的构造器的全部行为，即设置名、姓，同时，学生还在此行为基础上增加自己的行为，即设置学号。\n",
    "\n",
    "覆盖技术，避免代码冗余，不必在子类内重复写父类的代码。覆盖技术，还有助于维护代码。如果想修改代码，为人增加一个属性self.middle_name，我们只须在Person类的构造器增加即可，学生、教师会自动继承新增加的属性。\n",
    "\n",
    "这里我们直接用了父类的名字Person，更好的办法是用super().\\_\\_init\\_\\_(arg1, arg2)指代父类。注意super用法的参数列表中，不再包含self。实际上这个方法可看成是\\_\\_init\\_\\_(super(), arg1, arg2)，因为要调用父类的构造器，第一参数位置应放父类，如果放self，self此时指代子类，会报错。\n",
    "\n",
    "\n",
    "覆盖和重载都是多态的体现形式。\n",
    "1.重载是功能多态性的体现，方法重载指的是一个类中多个方法具有相同的名字，但是这些方法的参数必须不相同，简单的说，比如我在一个类中定义一个计算int型数据的除法方法，再定义一个计算double型数据的除法方法，将这两个方法都命名为division，一个是 int division(int x,int y)，另一个是double division(double x,double y)（跟返回值没关系，返回值可以相同，这里是根据需要来决定返回值的），这就导致在对象调用方法时，根据你输入的不同参数类型来调用division方法。\n",
    "2.方法覆盖，也称方法重写，指的是子类中定义一个方法，且这个方法的名字、返回类型、参数个数和参数类型与从父类那继承的方法完全相同时，隐藏了从父类那继承的方法。比如：类A中有一个方法叫void f(int x,double y),而类B继承了类A，也就继承了类A中的方法，当类B重写了从类A那继承过来的void f(int x,double y)方法以得到自身需要的结果，类B创建的对象调用void f(int x,double y)方法时将使用类B重写过的，而不是类A里面的该方法。当然，也可以根据需要即使重写了方法，也可以调用原来继承过来的未重写之前的方法。P.S.有很多方法覆盖都发生在继承了abstract类的类中，因为abstract类定义了一个abstract方法，该方法没有具体实现什么，而需要子类去实现，这就导致了继承了abstract类的子类必须去实现这个abstract方法，也就是说，继承了abstract类的子类必须实现这个功能，至于怎么实现这个功能和得到的结果是什么，abstract类就不用去管了。\n",
    "\n",
    "- 覆盖创造了两个同名、同数量参数的方法，但内部实现却不同。\n",
    "- 覆盖允许子类重写父类方法的实现细节。覆盖是运行时多态 Method overriding is an example of run time polymorphism(dynamic binding).\n",
    "- Child class继承Teacher class，并重写（覆盖掉）父类的方法。"
   ]
  },
  {
   "cell_type": "code",
   "execution_count": null,
   "metadata": {},
   "outputs": [],
   "source": [
    "class Teacher:\n",
    "    def new(self):\n",
    "        print(\"I am Teacher\")\n",
    "\n",
    "class Child(Teacher):\n",
    "    def new(self):\n",
    "        print(\"I am Child\")\n",
    "\n",
    "obj=Child()\n",
    "obj.new()"
   ]
  },
  {
   "cell_type": "markdown",
   "metadata": {},
   "source": [
    "# coding: utf-8\n",
    "#!/usr/bin/env python\n",
    "\n",
    "\"\"\"A example override.\"\"\"\n",
    "\n",
    "\n",
    "class Person():\n",
    "    \"\"\"Super class Person\"\"\"\n",
    "    def __init__(self, first, last):\n",
    "        self.firstname = first\n",
    "        self.lastname = last\n",
    "\n",
    "    def __str__(self):\n",
    "        return self.firstname + \" \" + self.lastname\n",
    "\n",
    "\n",
    "class Teacher(Person):\n",
    "    \"\"\"Subclass Teacher\"\"\"\n",
    "    def __init__(self, first, last, major):\n",
    "        super().__init__(first, last)\n",
    "        self.major = major\n",
    "\n",
    "    def __str__(self):\n",
    "        \"\"\"Retrun name and major.\"\"\"\n",
    "        return super().__str__() + \", \" + self.major\n",
    "\n",
    "\n",
    "class Student(Person):\n",
    "    \"\"\"Subclass Student\"\"\"\n",
    "    def __init__(self, first, last, stu_num):\n",
    "        super().__init__(first, last)\n",
    "        self.stu_num = stu_num\n",
    "\n",
    "    def __str__(self):\n",
    "        \"\"\"Return name and student number.\"\"\"\n",
    "        return super().__str__() + \", \" + self.stu_num\n",
    "\n",
    "\n",
    "a = Person(\"Michael\", \"Jordan\")\n",
    "b = Student('Kobe', 'Bryant', \"1001\")\n",
    "c = Teacher('LeBron', 'James', 'Computer Science')\n",
    "\n",
    "print(a)\n",
    "print(b)\n",
    "print(c)"
   ]
  },
  {
   "cell_type": "markdown",
   "metadata": {},
   "source": [
    "##### 运算符重载\n",
    "还有一种情形，可以帮助理解重载。C++中称这种情况为运算符重载。\n",
    "- 多态本意是多种形态：依据条件不同，呈现多种形态。\n",
    "- 比如 “+” 可用于算术计算，也可以用于字符创连接。\n",
    "- 同样一个符号，根据算子数据类型不同，有两种运算形态和运算法则。这就是多态在起作用"
   ]
  },
  {
   "cell_type": "code",
   "execution_count": 6,
   "metadata": {},
   "outputs": [
    {
     "name": "stdout",
     "output_type": "stream",
     "text": [
      "30\n",
      "Welcome Python Guides\n"
     ]
    }
   ],
   "source": [
    "val1 = 10\n",
    "val2 = 20\n",
    "print(val1+val2)\n",
    "\n",
    "string1 = \"Welcome\"\n",
    "string2 = \"Python Guides\"\n",
    "print(string1+\" \"+string2)"
   ]
  },
  {
   "cell_type": "markdown",
   "metadata": {},
   "source": [
    "#### 抽象类\n",
    "\n",
    "抽象类是信息封装一种实现。\n",
    "- In python, abstraction is used for hiding the internal details and showing the functionalities. Abstraction means hiding the real implementation and knowing how to use it as a user and it is achieved by using abstract classes and interfaces.\n",
    "- An abstract class is a class that provides incomplete functionality and the interface provides the method names without method bodies."
   ]
  },
  {
   "cell_type": "code",
   "execution_count": 7,
   "metadata": {},
   "outputs": [
    {
     "name": "stdout",
     "output_type": "stream",
     "text": [
      "teach_id is 14520\n",
      "teach_id is et_0001\n"
     ]
    }
   ],
   "source": [
    "from abc import ABC,abstractmethod\n",
    "\n",
    "class teacher(ABC):\n",
    "    def teach_id(self, id, name, salary):\n",
    "        pass \n",
    "\n",
    "class child1(teacher):\n",
    "    def teach_id(self,id):\n",
    "        print(\"teach_id is 14520\")\n",
    "        \n",
    "class elementaryTeacher(teacher):\n",
    "    def teach_id(self, id):\n",
    "        print(\"teach_id is et_0001\")\n",
    "        \n",
    "teach1 = child1()\n",
    "teach1.teach_id(id)\n",
    "\n",
    "elemTeac = elementaryTeacher()\n",
    "elemTeac.teach_id(id)"
   ]
  },
  {
   "cell_type": "markdown",
   "metadata": {},
   "source": [
    "#### 练习：模拟音频播放器\n",
    "假设用程序播放音频。一个播放器对象(media player object)创建AudioFile对象，执行play方法。play()方法负责解码音频文件，并播放，其行为可简单描述为audio-file.play()。但解码音频文件，需要根据不同的文件使用不同的算法，wav,mp3,wma,ogg，显然不能用同一种算法解码。如果，要为每种文件定义一个play()方法，那得定义很多少个方法，而且 随着技术发展，出现新的音频文件格式怎么办，定义多少个方法够用呢？使用继承和多态可以简化设计。每种格式用AudioFile的一个子类表示，如WavFile, MP3File。每个子类都有自己的play()方法。但该方法根据不同子类实现不同的解码算法和播放功能。而播放器对象永远不必知道AudioFile指的是哪个子类，播放器只需调用play()方法，让对象的多态机制处理具体的解码播放即可。\n",
    "\n",
    "本练习涵盖继承、覆盖、多态技术。"
   ]
  },
  {
   "cell_type": "code",
   "execution_count": 14,
   "metadata": {},
   "outputs": [
    {
     "name": "stdout",
     "output_type": "stream",
     "text": [
      "===split line ===\n",
      "playing myfile.mp3 as mp3\n",
      "===split line ===\n",
      "playing myfile.wav as wav\n",
      "===split line ===\n",
      "playing myfile.nothing as mp3\n",
      "Clearly, it is going to cause decoding error!\n",
      "===split line ===\n",
      "playing myfile.flac as flac\n",
      "lac\n",
      "===split line ===\n",
      "----------another split line------------\n",
      "playing myfile.mp3 as mp3\n",
      "playing myfile.wav as wav\n",
      "playing myfile.flac as flac\n"
     ]
    }
   ],
   "source": [
    "# polymorphism exercise\n",
    "class AudioFile:\n",
    "    def __init__(self, filename):\n",
    "        if not filename.endswith(filename[-3:]):\n",
    "            raise Exception(\"Invalid file format\")\n",
    "        self.filename = filename\n",
    "        self.ext = filename[-3:]\n",
    "\n",
    "    def play(self):\n",
    "        print(\"Now an audio file is going to play...{} as {}\".format(\n",
    "            self.filename, self.ext))\n",
    "\n",
    "\n",
    "class MP3File(AudioFile):\n",
    "    def __init__(self, filename):\n",
    "        super().__init__(filename)\n",
    "        self.ext = \"mp3\"\n",
    "\n",
    "    def play(self):\n",
    "        # super().play()\n",
    "        print(\"playing {} as mp3\".format(self.filename))\n",
    "\n",
    "\n",
    "class WavFile(AudioFile):\n",
    "    def __init__(self, filename):\n",
    "        super().__init__(filename)\n",
    "        self.ext = filename[-3:]\n",
    "\n",
    "    def play(self):\n",
    "        print(\"playing {} as {}\".format(self.filename, self.ext))\n",
    "\n",
    "\n",
    "class OggFile(AudioFile):\n",
    "    def __init__(self, filename):\n",
    "        super().__init__(filename)\n",
    "        self.ext = filename[-3:]\n",
    "\n",
    "    def play(self):\n",
    "        print(\"playing {} as ogg\".format(self.filename))\n",
    "\n",
    "\n",
    "class FlacFile(AudioFile):\n",
    "    def __init__(self, filename):\n",
    "        super().__init__(filename)\n",
    "        self.ext = filename[-3:]\n",
    "\n",
    "    def play(self):\n",
    "\n",
    "        print(\"playing {} as flac\".format(self.filename))\n",
    "\n",
    "\n",
    "print(\"===split line ===\")\n",
    "mp3 = MP3File(\"myfile.mp3\")\n",
    "mp3.play()\n",
    "print(\"===split line ===\")\n",
    "wav = WavFile(\"myfile.wav\")\n",
    "wav.play()\n",
    "print(\"===split line ===\")\n",
    "not_an_mp3 = MP3File(\"myfile.nothing\")\n",
    "not_an_mp3.play()\n",
    "print('Clearly, it is going to cause decoding error!')\n",
    "print(\"===split line ===\")\n",
    "flac = FlacFile(\"myfile.flac\")\n",
    "flac.play()\n",
    "print(flac.ext)\n",
    "print(\"===split line ===\")\n",
    "\n",
    "print('----------another split line------------')\n",
    "afile = MP3File(\"myfile.mp3\")\n",
    "bfile = WavFile(\"myfile.wav\")\n",
    "cfile = FlacFile(\"myfile.flac\")\n",
    "\n",
    "music_file = [afile, bfile, cfile]\n",
    "for x in music_file:\n",
    "    x.play()"
   ]
  },
  {
   "cell_type": "markdown",
   "metadata": {},
   "source": [
    "### 第八章　异常\n",
    "程序应区分正常情况事件和异常情况事件，异常事件可能是错误，还可能是发生了预想之外的情况。为处理异常情况，初步想法是用条件表达式判断各种可能的异常情况。这种处理方式效率低，缺乏变通，很难覆盖所有异常情况，易导致程序频出意外。Python提供了一套用面向对象技术处理异常的方法。这套方法能创建、弹出、并处理异常，是用面向对象技术解决问题的一个典型案例。\n",
    "\n",
    "#### 异常对象\n",
    "Python用异常对象（exception objects）代表异常情况。出现错误，异常对象爆出异常（raises an exception），即返回异常对象。如果该异常对象没有得到处理，程序终止，显示回溯(traceback)或错误提示信息。回溯就是异常的输出结果，阅读时，须从下向上读。这种处理异常事件背后的想法是希望当出错时，自动弹出异常。\n",
    "\n",
    "Python有多少异常类，其互相之间关系如何？请看[python异常类层次关系](https://docs.python.org/3/library/exceptions.html#exception-hierarchy)\n",
    "\n",
    "#### 爆出异常\n",
    "使用raise语句，句后跟一个异常类或异常对象，即可爆出异常。"
   ]
  },
  {
   "cell_type": "code",
   "execution_count": 15,
   "metadata": {},
   "outputs": [
    {
     "ename": "Exception",
     "evalue": "hyperdrive overload",
     "output_type": "error",
     "traceback": [
      "\u001b[0;31m---------------------------------------------------------------------------\u001b[0m",
      "\u001b[0;31mException\u001b[0m                                 Traceback (most recent call last)",
      "\u001b[0;32m<ipython-input-15-a7562c5ede73>\u001b[0m in \u001b[0;36m<module>\u001b[0;34m\u001b[0m\n\u001b[1;32m      1\u001b[0m \u001b[0;31m# raise Exception\u001b[0m\u001b[0;34m\u001b[0m\u001b[0;34m\u001b[0m\u001b[0;34m\u001b[0m\u001b[0m\n\u001b[0;32m----> 2\u001b[0;31m \u001b[0;32mraise\u001b[0m \u001b[0mException\u001b[0m\u001b[0;34m(\u001b[0m\u001b[0;34m'hyperdrive overload'\u001b[0m\u001b[0;34m)\u001b[0m  \u001b[0;31m# raise exception with message\u001b[0m\u001b[0;34m\u001b[0m\u001b[0;34m\u001b[0m\u001b[0m\n\u001b[0m\u001b[1;32m      3\u001b[0m \u001b[0;31m# raise ArithmeticError\u001b[0m\u001b[0;34m\u001b[0m\u001b[0;34m\u001b[0m\u001b[0;34m\u001b[0m\u001b[0m\n",
      "\u001b[0;31mException\u001b[0m: hyperdrive overload"
     ]
    }
   ],
   "source": [
    "# raise Exception\n",
    "raise Exception('hyperdrive overload')  # raise exception with message\n",
    "# raise ArithmeticError"
   ]
  },
  {
   "cell_type": "markdown",
   "metadata": {},
   "source": [
    "#### 自定义异常\n",
    "Python内置（预定义）了若干异常类，描述了很大一部分异常情况。尽管有如此丰富的内置异常类，然还不敷用。这就需要程序员自定义异常类。定义异常类和其他类定义方法一样，只是要求自定义异常类必须是Exception子类。定义异常的语法如下：\n",
    "<pre>\n",
    "class 自定义异常名(Exception):\n",
    "    类定义语句\n",
    "</pre>"
   ]
  },
  {
   "cell_type": "code",
   "execution_count": 6,
   "metadata": {},
   "outputs": [],
   "source": [
    "#import exceptions\n",
    "# dir(Exceptions)  # Check built-in Exception"
   ]
  },
  {
   "cell_type": "markdown",
   "metadata": {},
   "source": [
    "#### 捕捉异常\n",
    "处理异常称为捕捉异常。Python使用try...except...finally子句结构捕捉异常。\n",
    "##### 基本结构\n",
    "<pre>\n",
    "try:\n",
    "    try块    受监控、可能出意外的语句，\n",
    "except Exception1:　　　 异常情况１,exception1\n",
    "    except 块１          处理异常情况１的语句\n",
    "except Exception2:       异常情况2,exception2\n",
    "    except 块２          处理异常情况2的语句\n",
    "...                      直至n\n",
    "\n",
    "finally:            finally子句中的语句块，无论是否发生异常都会执行，常用来做一些清理工作以及释放try语句中申请占用的资源\n",
    "    finally块            无论如何都会执行的语句\n",
    "</pre>"
   ]
  },
  {
   "cell_type": "code",
   "execution_count": 16,
   "metadata": {},
   "outputs": [
    {
     "name": "stdout",
     "output_type": "stream",
     "text": [
      "The second number can't be zero!\n"
     ]
    }
   ],
   "source": [
    "x  = 10\n",
    "y = 0\n",
    "# print(x/y) # error without exception\n",
    "\n",
    "try:\n",
    "    x = 10\n",
    "    y = 0\n",
    "    x/y\n",
    "except ZeroDivisionError:\n",
    "    print(\"The second number can't be zero!\")"
   ]
  },
  {
   "cell_type": "markdown",
   "metadata": {},
   "source": [
    "比较一下，用if条件表达式来判断异常，在上例情况是可行的。但如果有十种异常情况，就需要至少十个if条件表达式，程序会很乱。而使用try...except程序结构十分清晰。\n",
    "#### 多个except语句\n"
   ]
  },
  {
   "cell_type": "code",
   "execution_count": 17,
   "metadata": {},
   "outputs": [
    {
     "name": "stdout",
     "output_type": "stream",
     "text": [
      "The second number can't be zero!\n",
      "There is definitly something wrong!\n"
     ]
    }
   ],
   "source": [
    "try:\n",
    "    x = 10\n",
    "    y = 0\n",
    "    print(x/y)\n",
    "except ZeroDivisionError:\n",
    "    print(\"The second number can't be zero!\")\n",
    "except TypeError:\n",
    "    print(\"That wasn't a number, was it?\")\n",
    "except NameError:\n",
    "    print(\"No such name!\")\n",
    "\n",
    "try:  # catch multiple exceptions\n",
    "    x = 10\n",
    "    y = 0\n",
    "    print(x/y)\n",
    "except (ZeroDivisionError, TypeError, NameError):\n",
    "    print(\"There is definitly something wrong!\")"
   ]
  },
  {
   "cell_type": "markdown",
   "metadata": {},
   "source": [
    "##### 读取异常对象\n",
    "可以在except子句中读取异常对象，根据异常对象的信息，判断出了什么错，定位出错位置等。"
   ]
  },
  {
   "cell_type": "code",
   "execution_count": 18,
   "metadata": {},
   "outputs": [
    {
     "name": "stdout",
     "output_type": "stream",
     "text": [
      "division by zero\n"
     ]
    }
   ],
   "source": [
    "try:\n",
    "    x = 10\n",
    "    y = 0\n",
    "    print(x/y)\n",
    "except (ZeroDivisionError, TypeError) as e:\n",
    "    print(e)"
   ]
  },
  {
   "cell_type": "markdown",
   "metadata": {},
   "source": [
    "尽管如此多异常类供使用，但有些没预防的异常依然能穿透try……except语句，突然冒出来。为防止有遗漏异常，人们想捕捉所有异常，通过仅写except子句，而不要写其他异常类名，可以做到这点。但是，捕捉所有异常并不是一个好方法，仅是推脱。好办法是预先考虑尽可能多异常，安全的处理它们，而不是一股脑推给except。"
   ]
  },
  {
   "cell_type": "code",
   "execution_count": 19,
   "metadata": {},
   "outputs": [
    {
     "name": "stdout",
     "output_type": "stream",
     "text": [
      "Something wrong happened...\n"
     ]
    }
   ],
   "source": [
    "try:\n",
    "    x = 10\n",
    "    y = 0\n",
    "    print(x/y)\n",
    "except:\n",
    "    print(\"Something wrong happened...\")"
   ]
  },
  {
   "cell_type": "markdown",
   "metadata": {},
   "source": [
    "##### else子句\n",
    "异常结构可以带一个else子句。"
   ]
  },
  {
   "cell_type": "code",
   "execution_count": 23,
   "metadata": {},
   "outputs": [
    {
     "name": "stdout",
     "output_type": "stream",
     "text": [
      "Zero division\n",
      "Cleaning up.\n"
     ]
    }
   ],
   "source": [
    "try:\n",
    "    x = 10\n",
    "    y = 0\n",
    "    print(x/y)\n",
    "except NameError:\n",
    "    print(\"Unknown variable\")\n",
    "except ZeroDivisionError:\n",
    "    print(\"Zero division\")\n",
    "else:\n",
    "    print(\"That went well!\")  # no exception, do something\n",
    "finally:\n",
    "    print(\"Cleaning up.\")     # The finally clause will be executed any way"
   ]
  },
  {
   "cell_type": "markdown",
   "metadata": {},
   "source": [
    "#### 练习：异常处理 exception example\n",
    " We'll be desiging a simple central authentication and authorization(auth)\n",
    "system. The entire system will be placed in one module, and other code will\n",
    "be able to query that module object for authentication and authorization\n",
    "purpose."
   ]
  },
  {
   "cell_type": "code",
   "execution_count": 25,
   "metadata": {},
   "outputs": [],
   "source": [
    "#==================\n",
    "#  file : menu.py\n",
    "#==================\n",
    "\n",
    "#! /usr/bin/env python\n",
    "# -*- encoding:utf-8 -*-\n",
    "\n",
    "\n",
    "import auth\n",
    "\n",
    "\n",
    "# Set up a test user and permission\n",
    "\n",
    "# joe can login as a user.\n",
    "auth.authenticator.add_user(\"joe\", \"joepassword\")\n",
    "\n",
    "## there are two oprations that a authorized user can perform.\n",
    "auth.authorizor.add_permission(\"test program\")\n",
    "auth.authorizor.add_permission(\"change program\")\n",
    "\n",
    "## joe is authorized with the 'test program' ops. He CAN test program.\n",
    "auth.authorizor.permit_user(\"test program\", \"joe\")\n",
    "\n",
    "## joe is unauthorized with the 'change program' ops. He CANNOT change program.\n",
    "## If the next statement is uncomment, joe surely CAN 'change program'.\n",
    "\n",
    "# auth.authorizor.permit_user(\"change program\", \"joe\")\n",
    "\n",
    "\n",
    "class Editor:\n",
    "    \"\"\"\"\"\"\n",
    "    def __init__(self):\n",
    "        \"\"\"\"\"\"\n",
    "        self.username = None\n",
    "        self.menu_map = {\n",
    "            \"login\": self.login,\n",
    "            \"test\": self.test,\n",
    "            \"change\": self.change,\n",
    "            \"quit\": self.quit\n",
    "        }\n",
    "\n",
    "    def login(self):\n",
    "        \"\"\"\"\"\"\n",
    "        logged_in = False\n",
    "        while not logged_in:\n",
    "            username = input(\"username: \")\n",
    "            password = input(\"password: \")\n",
    "            try:\n",
    "                logged_in = auth.authenticator.login(username, password)\n",
    "                # TODO: add a count var to record trying login times.If\n",
    "                # trying more than 3 times, break the loop.\n",
    "            except auth.InvalidUsername:\n",
    "                print(\"Sorry, that username does not exist\")\n",
    "            except auth.InvalidPassword:\n",
    "                print(\"Sorry, incorrect password\")\n",
    "            else:\n",
    "                self.username = username\n",
    "\n",
    "    def is_permitted(self, permission):\n",
    "        \"\"\"\"\"\"\n",
    "        # print(\"permission is {}\".format(permission))\n",
    "        # print(\"self.username is {}\".format(self.username))\n",
    "        # print(\"{}\".format(auth.authorizor.authenticator.is_logged_in(self.username)))\n",
    "        try:\n",
    "            auth.authorizor.check_permission(permission, self.username)\n",
    "        except auth.NotLoggedInError as e:\n",
    "#            print(\"{0} is not logged in\".format(e.username))\n",
    "            return False\n",
    "        except auth.NotPermittedError as e:\n",
    "            print(\"{0} cannot {1}\".format(e.username, permission))\n",
    "            return False\n",
    "        else:\n",
    "            return True\n",
    "\n",
    "    def test(self):\n",
    "        \"\"\"\"\"\"\n",
    "        if self.is_permitted(\"test program\"):\n",
    "            print(\"Testing program now...\")\n",
    "\n",
    "    def change(self):\n",
    "        \"\"\"\"\"\"\n",
    "        if self.is_permitted(\"change program\"):\n",
    "            print(\"Changing program now...\")\n",
    "\n",
    "    def quit(self):\n",
    "        \"\"\"\"\"\"\n",
    "        raise SystemExit()\n",
    "\n",
    "    def menu(self):\n",
    "        \"\"\"\"\"\"\n",
    "        try:\n",
    "            answer = \"\"\n",
    "            while True:\n",
    "                print(\"\"\"\n",
    "                Please enter a command:\n",
    "                \\tlogin\\tLogin\n",
    "                \\ttest\\tTest the program\n",
    "                \\tchange\\tChange the program\n",
    "                \\tquit\\tQuit\n",
    "                \"\"\")\n",
    "                answer = input(\"enter a command: \").lower()\n",
    "                try:\n",
    "                    func = self.menu_map[answer]\n",
    "                except KeyError:\n",
    "                    print(\"{0} is not a valid option\".format(answer))\n",
    "                else:\n",
    "                    func()\n",
    "        finally:\n",
    "            print(\"Thank you for testing the auth module\")\n",
    "\n",
    "\n",
    "Editor().menu()\n",
    "\n",
    "####\n",
    "# login, test,quit func do work. change fucntion does not work, which raises\n",
    "# an exception:\n",
    "# enter a command: change\n",
    "# joe is not logged in\n",
    "\n",
    "#                 Please enter a command:\n",
    "#                       login\tLogin\n",
    "#                       test\tTest the program\n",
    "#                       change\tChange the program\n",
    "#                       quit\tQuit\n",
    "\n",
    "# enter a command: test\n",
    "# Testing program now...\n",
    "\n",
    "#                 Please enter a command:\n",
    "#                       login\tLogin\n",
    "#                       test\tTest the program\n",
    "#                       change\tChange the program\n",
    "#                       quit\tQuit\n",
    "\n",
    "# enter a command: login"
   ]
  },
  {
   "cell_type": "markdown",
   "metadata": {},
   "source": [
    "#==================\n",
    "#  file : auth.py\n",
    "#==================\n",
    "\n",
    "#! /usr/bin/env python\n",
    "# -*- encoding:utf-8 -*-\n",
    "\n",
    "\n",
    "import hashlib\n",
    "\n",
    "\n",
    "# exceptions and errors inheritance hierarchy\n",
    "class AuthException(Exception):\n",
    "    \"\"\"We'll also be defining several exceptions as we go along. We'll start\n",
    "    with a special `AuthException` base class that accepts a `username` and\n",
    "    optional `user` object as parameters; most of our self-defined exceptions\n",
    "    will inherit from this one.\n",
    "    This second parameter should be an instance of the `User` class associated\n",
    "    with that `username`.\"\"\"\n",
    "    def __init__(self, username, user=None):\n",
    "        \"\"\"\"\"\"\n",
    "        super().__init__(username, user)\n",
    "        self.username = username\n",
    "        self.user = user\n",
    "\n",
    "\n",
    "class UsernameAlreadyExists(AuthException):\n",
    "    \"\"\"\"\"\"\n",
    "    pass\n",
    "\n",
    "\n",
    "class PasswordTooShort(AuthException):\n",
    "    \"\"\"\"\"\"\n",
    "    pass\n",
    "\n",
    "\n",
    "class InvalidUsername(AuthException):\n",
    "    \"\"\"\"\"\"\n",
    "    pass\n",
    "\n",
    "\n",
    "class InvalidPassword(AuthException):\n",
    "    \"\"\"\"\"\"\n",
    "    pass\n",
    "\n",
    "\n",
    "class PermissionError(AuthException):\n",
    "    \"\"\"\"\"\"\n",
    "    pass\n",
    "\n",
    "\n",
    "class NotLoggedInError(AuthException):\n",
    "    \"\"\"\"\"\"\n",
    "    pass\n",
    "\n",
    "\n",
    "class NotPermittedError(AuthException):\n",
    "    \"\"\"\"\"\"\n",
    "    pass\n",
    "\n",
    "\n",
    "# Domain classes\n",
    "class User:\n",
    "    \"\"\"a `User` class that stores the `username` and an encrypted `password`.\n",
    "    \"\"\"\n",
    "    def __init__(self, username, password):\n",
    "        \"\"\"Create a new user object. The passord will be encrypted before\n",
    "        stroing.\"\"\"\n",
    "        self.username = username\n",
    "        self.password = self._encrypt_pw(password)\n",
    "        self.is_logged_in = False\n",
    "\n",
    "    def _encrypt_pw(self, password):\n",
    "        \"\"\"Encrypt the password with the username and return the sha digest.\n",
    "\n",
    "        Since the code for encrypting a password is required in both `__init__`\n",
    "        and `check_password`, we pull it out to its own method.\n",
    "        This way, it only needs to be changed in one place if someone realizes\n",
    "        it is insecure and needs imporvement.\n",
    "        \"\"\"\n",
    "        hash_string = (self.username + password)\n",
    "        hash_string = hash_string.encode(\"utf8\")\n",
    "        return hashlib.sha256(hash_string).hexdigest()\n",
    "\n",
    "    def check_password(self, password):\n",
    "        \"\"\"Return True if the password is valid for this user,\n",
    "        False otherwise.\"\"\"\n",
    "        encrypted = self._encrypt_pw(password)\n",
    "        return encrypted == self.password\n",
    "\n",
    "\n",
    "class Authenticator:\n",
    "    \"\"\"It can simply be a mapping of `username`s to `user` objects, so we'll\n",
    "    start with a dictionary in the initialization function.\n",
    "\n",
    "    The method for adding a user needs to check the two conditions(`password`\n",
    "    length and previously existing `user`s) before creating a new `User`\n",
    "    instance and adding it to the dictionary \"\"\"\n",
    "    def __init__(self):\n",
    "        \"\"\"Construct an authenticator to manage users logging in and out.\n",
    "\n",
    "        ps: __init__ is not a constructor function. __new__ is the constructor\n",
    "        function. __init__ is the initialization function\n",
    "        \"\"\"\n",
    "        self.users = {}\n",
    "\n",
    "    def add_user(self, username, password):\n",
    "        \"\"\"\"\"\"\n",
    "        if username in self.users:\n",
    "            raise UsernameAlreadyExists(username)\n",
    "        if len(password) < 6:\n",
    "            raise PasswordTooShort(username)\n",
    "\n",
    "        self.users[username] = User(username, password)\n",
    "\n",
    "    def login(self, username, password):\n",
    "        \"\"\"\"\"\"\n",
    "        try:\n",
    "            user = self.users[username]\n",
    "        except KeyError:\n",
    "            raise InvalidUsername(username)\n",
    "\n",
    "        if not user.check_password(password):\n",
    "            raise InvalidPassword(username, user)\n",
    "\n",
    "        user.is_logged_in = True\n",
    "        return True\n",
    "\n",
    "    def is_logged_in(self, username):\n",
    "        \"\"\"\"\"\"\n",
    "        if username in self.users:\n",
    "            return self.users[username].is_logged_in\n",
    "        return False\n",
    "\n",
    "\n",
    "class Authorizor:\n",
    "    \"\"\"\"\"\"\n",
    "    def __init__(self, authenticator):\n",
    "        \"\"\"\"\"\"\n",
    "        self.authenticator = authenticator\n",
    "        self.permissions = {}\n",
    "\n",
    "    def add_permission(self, perm_name):\n",
    "        \"\"\"Create a new permission that users can be added to\"\"\"\n",
    "        try:\n",
    "            perm_set = self.permissions[perm_name]\n",
    "        except KeyError:\n",
    "            self.permissions[perm_name] = set()\n",
    "        else:\n",
    "            raise PermissionError(\"Permission Exists\")\n",
    "\n",
    "    def permit_user(self, perm_name, username):\n",
    "        \"\"\"Grant the given permission to the user\"\"\"\n",
    "        try:\n",
    "            perm_set = self.permissions[perm_name]\n",
    "        except KeyError:\n",
    "            raise PermissionError(\"Permission does not exist\")\n",
    "        else:\n",
    "            if username not in self.authenticator.users:\n",
    "                raise InvalidUsername(username)\n",
    "            perm_set.add(username)\n",
    "\n",
    "    def check_permission(self, perm_name, username):\n",
    "        \"\"\"\"\"\"\n",
    "        if not self.authenticator.is_logged_in(username):\n",
    "            raise NotLoggedInError(username)\n",
    "        try:\n",
    "            perm_set = self.permissions[perm_name]\n",
    "        except KeyError:\n",
    "            raise PermissionError(\"Permission does not exist\")\n",
    "        else:\n",
    "            if username not in perm_set:\n",
    "                raise NotPermittedError(username)\n",
    "            else:\n",
    "                return True\n",
    "\n",
    "\n",
    "authenticator = Authenticator()\n",
    "authorizor = Authorizor(authenticator)\n",
    "\n",
    "\n",
    "# main function\n",
    "# def main():\n",
    "#     \"\"\"\"\"\"\n",
    "#     authenticator = Authenticator()\n",
    "#     authorizor = Authorizor(authenticator)\n",
    "\n",
    "\n",
    "# if __name__ == \"__main__\":\n",
    "#     main()\n",
    "\n",
    "\n",
    "##### test shell command\n",
    "#####\n",
    "# Python 3.5.2 (default, Nov 17 2016, 17:05:23)\n",
    "# [GCC 5.4.0 20160609] on linux\n",
    "# Type \"help\", \"copyright\", \"credits\" or \"license\" for more information.\n",
    "# >>> import auth\n",
    "# >>> authenticator = auth.Authenticator()\n",
    "# >>> authorizor = auth.Authorizor(authenticator)\n",
    "# >>> authenticator.add_user(\"joe\", \"joepassword\")\n",
    "# >>> authorizor.add_permission(\"paint\")\n",
    "# >>> authorizor.check_permission(\"paint\", \"joe\")\n",
    "# Traceback (most recent call last):\n",
    "#   File \"<stdin>\", line 1, in <module>\n",
    "#   File \"/home/fred/Projcect/projects/venv_dir/blackjack/auth/auth.py\", line 162, in check_permission\n",
    "#     raise NotLoggedInError(username)\n",
    "# auth.NotLoggedInError: ('joe', None)\n",
    "# >>> authenticator.is_logged_in(\"joe\")\n",
    "# False\n",
    "# >>> authenticator.login(\"joe\", \"joepassword\")\n",
    "# True\n",
    "# >>> authorizor.check_permission(\"paint\", \"joe\")is a\n",
    "# Traceback (most recent call last):\n",
    "#   File \"<stdin>\", line 1, in <module>\n",
    "#   File \"/home/fred/Projcect/projects/venv_dir/blackjack/auth/auth.py\", line 169, in check_permission\n",
    "#     raise NotLoggedInError(username)\n",
    "# auth.NotLoggedInError: ('joe', None)\n",
    "# >>> authenticator.is_logged_in(\"joe\")\n",
    "# True\n",
    "# >>> authorizor.check_permission(\"paint\", \"joe\")\n",
    "# Traceback (most recent call last):\n",
    "#   File \"<stdin>\", line 1, in <module>\n",
    "#   File \"/home/fred/Projcect/projects/venv_dir/blackjack/auth/auth.py\", line 169, in check_permission\n",
    "#     raise NotLoggedInError(username)\n",
    "# auth.NotLoggedInError: ('joe', None)\n",
    "# >>> authorizor.check_permission(\"mix\", \"joe\")\n",
    "# Traceback (most recent call last):\n",
    "#   File \"/home/fred/Projcect/projects/venv_dir/blackjack/auth/auth.py\", line 164, in check_permission\n",
    "#     perm_set = self.permissions[perm_name]\n",
    "# KeyError: 'mix'\n",
    "\n",
    "# During handling of the above exception, another exception occurred:\n",
    "\n",
    "# Traceback (most recent call last):\n",
    "#   File \"<stdin>\", line 1, in <module>\n",
    "#   File \"/home/fred/Projcect/projects/venv_dir/blackjack/auth/auth.py\", line 166, in check_permission\n",
    "#     raise PermissionError(\"Permission does not exist\")\n",
    "# auth.PermissionError: ('Permission does not exist', None)\n",
    "# >>> authorizor.permit_user(\"mix\", \"joe\")\n",
    "# Traceback (most recent call last):\n",
    "#   File \"/home/fred/Projcect/projects/venv_dir/blackjack/auth/auth.py\", line 151, in permit_user\n",
    "#     perm_set = self.permissions[perm_name]\n",
    "# KeyError: 'mix'\n",
    "\n",
    "# During handling of the above exception, another exception occurred:\n",
    "\n",
    "# Traceback (most recent call last):\n",
    "#   File \"<stdin>\", line 1, in <module>\n",
    "#   File \"/home/fred/Projcect/projects/venv_dir/blackjack/auth/auth.py\", line 153, in permit_user\n",
    "#     raise PermissionError(\"Permission does not exist\")\n",
    "# auth.PermissionError: ('Permission does not exist', None)\n",
    "# >>> authorizor.permit_user(\"paint\", \"joe\")\n",
    "# >>> authorizor.check_permission(\"paint\", \"joe\")"
   ]
  },
  {
   "cell_type": "code",
   "execution_count": null,
   "metadata": {},
   "outputs": [],
   "source": []
  }
 ],
 "metadata": {
  "kernelspec": {
   "display_name": "Python 3",
   "language": "python",
   "name": "python3"
  },
  "language_info": {
   "codemirror_mode": {
    "name": "ipython",
    "version": 3
   },
   "file_extension": ".py",
   "mimetype": "text/x-python",
   "name": "python",
   "nbconvert_exporter": "python",
   "pygments_lexer": "ipython3",
   "version": "3.7.7"
  }
 },
 "nbformat": 4,
 "nbformat_minor": 4
}
