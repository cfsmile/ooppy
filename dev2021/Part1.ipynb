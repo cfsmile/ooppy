{
 "cells": [
  {
   "cell_type": "markdown",
   "metadata": {},
   "source": [
    "# Object-oriented programming and python"
   ]
  },
  {
   "cell_type": "markdown",
   "metadata": {},
   "source": [
    "## Part 1 Procedural programming"
   ]
  },
  {
   "cell_type": "markdown",
   "metadata": {},
   "source": [
    "### 第一章　安装并搭建环境\n",
    "#### 简介\n",
    "Python是通用、解释型高级计算机程序设计语言，融合结构化、面向对象、及函数式编程特征，主要特征是面向对象。该语言由荷兰人Guido van Rossum（BDFL, Benevolent Dictator For Life）创制，1991年发行第一个公开版本。之后，持续发展，衍生出2.x和3.x两个系列。目前，官方已停止2.x，完全转向3.x开发和支持。python版本有两个系列,2.x与3.x,互不兼容。[python倒计时](https://pythonclock.org)。我们学习、使用3.x。\n",
    "#### 安装\n",
    "\n",
    "1. Microsoft window\n",
    "官网[Anaconda Suite for Windows](https://www.anaconda.com)。\n",
    "国内安装指南[清华大学tuna镜像](https://mirrors.tuna.tsinghua.edu.cn/help/anaconda/)。\n",
    "\n",
    "2. Linux\n",
    "Linux发行版自带Python2.x，使用Python3.x需另安装。若安装Anaconda Suite for Linux，不用操心版本、扩展库兼容问题。\n",
    "[安装指南 : How to Install anaconda in ubuntu 16.04](https://poweruphosting.com/blog/install-anaconda-python-ubuntu-16-04 )\n",
    "\n",
    "#### 编程环境、工具\n",
    "- Jupyter Lab/Notebook\n",
    "- IDLE\n",
    "- Command line\n",
    "- Git/[Github](https//github.com)，[高质量的Git中文教程](https://github.com/geeeeeeeeek/git-recipes)\n",
    "- 记笔记：Evernote, Wiznote, 博客，云盘\n",
    "- 展示代码运行工具：[Philip Guo](www.pythontutor.com)"
   ]
  },
  {
   "cell_type": "markdown",
   "metadata": {},
   "source": [
    "#### 练习\n",
    "##### 交互模式"
   ]
  },
  {
   "cell_type": "code",
   "execution_count": 9,
   "metadata": {},
   "outputs": [
    {
     "name": "stdout",
     "output_type": "stream",
     "text": [
      "Hello, World!\n"
     ]
    },
    {
     "data": {
      "text/plain": [
       "sys.version_info(major=3, minor=6, micro=9, releaselevel='final', serial=0)"
      ]
     },
     "execution_count": 9,
     "metadata": {},
     "output_type": "execute_result"
    }
   ],
   "source": [
    "print('Hello, World!')  \n",
    "\n",
    "# print python version\n",
    "import sys\n",
    "sys.version\n",
    "# sys.winver for Jupter Notebook only\n",
    "sys.version_info"
   ]
  },
  {
   "cell_type": "markdown",
   "metadata": {},
   "source": [
    "##### 脚本模式"
   ]
  },
  {
   "cell_type": "code",
   "execution_count": 10,
   "metadata": {},
   "outputs": [
    {
     "name": "stdout",
     "output_type": "stream",
     "text": [
      "Hello world!\n"
     ]
    }
   ],
   "source": [
    "%run examples/hello.py"
   ]
  },
  {
   "cell_type": "markdown",
   "metadata": {},
   "source": [
    "#### 编程话题\n",
    "\n",
    "- 计算思维，Computational thinking ：[How to Think Like a Computer Scientist](http://openbookproject.net/thinkcs/python/english3e/index.html)\n",
    "- 阅读并理解别人的代码 Understand code ：Reading code is one of the best way to learn programming, beside writing code.\n",
    "- 理解计算的能与不能 Understand limits and abilities ：Something(not everything) can be computed。例如，表示浮点数。\n",
    "- 解决问题方法 Map problem into computational solution。\n",
    "  * 观察、提出问题\n",
    "  * 分析问题、提出方案\n",
    "  * 设计实验、实施方案\n",
    "  * 分析结果及反馈\n",
    "\n",
    "#### 知识类别\n",
    "##### 陈述式知识:事实。\n",
    "- 饭店的菜肴介绍，配料成分、色香味、照片\n",
    "- 算术，包括数字:自然数、有理数等；算符:加减乘除\n",
    "  \n",
    "##### 程序式知识: 完成某件工作的一系列*操作步骤*的描述，这些描述用一系列步骤刻画*计算过程*\n",
    "- 菜肴的烹制方法和过程，各种相关操作及其执行顺序，西红柿炒蛋\n",
    "- 四则运算法则，先乘除后加减\n",
    "\n",
    "计算机做计算，就是刻画程序式知识。\n",
    "例如：欧几里德算法又称辗转相除法，用于计算两个整数m, n的最大公约数。其计算原理依定理：gcd(m, n) = gcd(n, m mod n)。这个定理的意思是：整数m、n的最大公约数等于n和m除以n的余数的最大公约数。\n",
    "\n",
    "例： 有两个整数：120和45，我们按照上面的方法求他们的最大公约数。 \n",
    "1. gcd(120, 45) = gcd(45, 120 mod 45) = gcd(45, 30) \n",
    "2. gcd(45, 30) = gcd(30, 45 mod 30) = gcd(30, 15) \n",
    "3. gcd(30, 15) = gcd(15, 30 mod 15) = gcd(15, 0) = 15 \n",
    "\n",
    "当 m mod n 等于零时，即求15和0的最大公约数时，这个循环应该终止，15就是120和45的最大公约数。\n",
    "\n",
    "算法强调*计算过程*，强调结果的类别，而个别计算结果。\n",
    "\n",
    "编程:将程序式知识，通过计算机程序设计语言表示出来，存储在文件中，可执行。\n",
    "\n",
    "##### 如何编程序\n",
    "编程： 告诉计算机做什么。程序用某种计算机能理解的语言编写算法，输入计算机，计算机编译或解释执行语言，实现功能。\n",
    "\n",
    "算法： 类似菜谱、说明手册，详细说明做事步骤。\n",
    "<pre>\n",
    "例如： 西红柿炒蛋\n",
    "  放入鸡蛋翻炒\n",
    "  放入西红柿\n",
    "　如果　没熟：\n",
    "　　　　继续翻炒\n",
    "　　　　直至熟了，不再翻炒\n",
    "  加盐调味\n",
    "  如果　不入味：\n",
    "　　　　继续加盐\n",
    "　　　　直至口感合适\n",
    "  出锅盛盘\n",
    "</pre>\n",
    "该算法包含原料，如鸡蛋、西红柿、盐，代表被操作的数据，及程序指令，如放入、翻炒、加盐、出锅，代表操作动作。\n",
    "\n",
    "再如欧几里得法。\n",
    "![Euclidean](diagrams/EuclideanAlgorithm.jpeg)\n",
    "\n",
    "版权允许情况下，算法、程序可自由修改、发布、分享。在自由软件（Free software）、开源（Open source）、社会化编程（Social programming）影响下，获得、学习、改进开源程序成为风尚。\n",
    "\n",
    "##### 计算机程序设计语言\n",
    "1936年，Alan Turing认为用6条基本指令，一切都可以解决。由此推论，只要能在一种语言中实现，就能在另一种语言中实现。 C中能实现的没有Fortran不能实现的。这称为“图灵兼容”(Turing compatible)。 这个论断表明语言只是工具，图灵兼容意义上无差别，只不过，实际使用,每种语言有其特别适用处。\n",
    "\n",
    "语言分类: 高级语言 vs. 低级语言；通用 vs. 专用；编译型 vs. 解释型； 过程式 vs. 面向对象 vs. 函数式。\n",
    "\n",
    "#### 课后阅读\n",
    "\n",
    "- [Python官网](https://www.python.org)\n",
    "- [《新手指南》](https://wiki.python.org/moin/BeginnersGuide)\n",
    "- [《入门指南》](https://docs.python.org/3/tutorial)\n",
    "- [Anaconda官网](http://www.anaconda.com)\n",
    "- [Anaconda文档](https://docs.anaconda.com)\n",
    "- 《计算机科学导论》"
   ]
  },
  {
   "cell_type": "markdown",
   "metadata": {},
   "source": [
    "### 第二章　基本数据类型\n",
    "#### 字面量 literal\n",
    "字面量是某些内置数据类型常量值的记号，这些记号指称特定的实体。 一般可认为一个实体由两个组成部分。记号代表指称该实体的名字，值代表该实体要表达的内容。记号就像贴在实体上的标签，起指代作用，却不是实体值本身。记号和它指称的实体值之间的关系，会有这样的情况，实体值唯一，而指称该值的记号却有多个，还可以改换。例如：“1”, “one”, “一”是记号，而数学概念“1”是实体。与之相对，还存在另一种可能的情况。比如，两个人都叫“张三”，重名了。这是一种记号相同，所指实体值却不同的情况。这时指称出现了歧义，所指不清，会产生混淆。1m\n",
    "\n",
    "后面学习的变量也会出现重名歧义情况，Python为消除变量歧义，采用了一种名为“命名空间”的技术。\n",
    "\n",
    "#### 数字 numeric\n",
    "数字，亦称数字类型，是字面量。共有三种类型的数字字面量： 整数、浮点数、复数。数字字面量不含正负符号。例如，-1不是字面量，而是表达式，是由操作符负号（-）和字面量1组成的表达式。\n",
    "##### 整数\n",
    "1. 整数的机内表示是准确的。\n",
    "- 十进制整数 decimal 0,-1,9,123\n",
    "- 十六进整制 hexadecimal 0x10, 0xfa\n",
    "- 八进制整数 octals 0o35\n",
    "- 二进制整数 0b0101\n",
    "2. 浮点数\n",
    "浮点数是实数的近似（不精确）表示。自学：浮点数的机内存储。\n",
    "- 练习：浮点数()"
   ]
  },
  {
   "cell_type": "code",
   "execution_count": 1,
   "metadata": {},
   "outputs": [
    {
     "name": "stdout",
     "output_type": "stream",
     "text": [
      "0.10000000000000001\n"
     ]
    }
   ],
   "source": [
    "x = 0.1\n",
    "print(format(0.1, '.17f'))  # 0.10000000000000001"
   ]
  },
  {
   "cell_type": "markdown",
   "metadata": {},
   "source": [
    "编写算术运算程序，一应避免用很小的小数做除数，二应避免两个相近的浮点数相减、相除：这两种操作都会损失精度，造成结果失真。\n",
    "\n",
    "实际工作中，做科学计算和数值分析，一般不直接使用Python自带的计算功能，而用 import numpy，引入并使用专用数值计算工具包。\n",
    "3. 复数\n",
    "<pre>\n",
    "  a = 3 + 4j\n",
    "  b = 5 + 6j\n",
    "  c = a + b\n",
    "</pre>\n",
    "\n",
    "#### 运算符 operator\n",
    "数字称为算子，是参与运算的数，被操作的数。运算符称为算符，是运算的方式，操作的动作。算子和算符组合成为运算表达式，简称表达式。\n",
    "Python的运算符包括算术运算符、关系运算符、逻辑运算符、归属运算符、同一运算符、集合运算符和位运算符。运算符之间存在优先级等级。\n",
    "\n",
    "运算符示例："
   ]
  },
  {
   "cell_type": "code",
   "execution_count": 2,
   "metadata": {},
   "outputs": [
    {
     "data": {
      "text/plain": [
       "True"
      ]
     },
     "execution_count": 2,
     "metadata": {},
     "output_type": "execute_result"
    }
   ],
   "source": [
    "# -*- encoding: utf-8 -*-\n",
    "#!/usr/bin/env python\n",
    "\n",
    "\n",
    "# arithmetic operators\n",
    "53672 + 235253\n",
    "10 - 3\n",
    "10 * 3\n",
    "10 / 3  # integer division\n",
    "10 // 3  # mod\n",
    "-3\n",
    "10 % 3\n",
    "abs(-10)\n",
    "int(10.3)\n",
    "float(10)\n",
    "complex(10, 3)\n",
    "divmod(10, 3)  # the pair(10 // 3, 10 % 3)\n",
    "pow(10, 3)\n",
    "x = 10\n",
    "y = 3\n",
    "x ** y\n",
    "\n",
    "# note the priority\n",
    "-3 ** 2\n",
    "(-3) ** 2\n",
    "\n",
    "# relational operators\n",
    "10 < 3\n",
    "10 <= 3\n",
    "10 > 3\n",
    "10 >= 3\n",
    "10 == 3\n",
    "10 != 3\n",
    "\n",
    "# boolean operators\n",
    "x = True\n",
    "y = False\n",
    "\n",
    "x or y\n",
    "x and y\n",
    "not x\n",
    "\n",
    "# membership\n",
    "'a' in ('a', 'b')\n",
    "\n",
    "# identidy\n",
    "p = None\n",
    "q = None\n",
    "p is q\n",
    "# for example:\n",
    "a = 2\n",
    "b = 2\n",
    "c = 2.0\n",
    "a is b\n",
    "a is c\n",
    "b is not c\n",
    "\n",
    "# set operators\n",
    "# bit operators | ^ & << >> ~"
   ]
  },
  {
   "cell_type": "markdown",
   "metadata": {},
   "source": [
    "#### 字符串 string\n",
    "字符串（strings），是不可变字符序列（sequence），正式名称是字符串字面量。\n",
    "- 字符串可用单、双、三引号作为界定符，三引号界定的字符串可以跨行\n",
    "- 字符串可以连接，'Hello, ' + 'world!' 或'hello, '  'world!'\n",
    "- str()将其他数据类型值转换为字符串类型，如，str(9)\n",
    "- input()接受用户输入的字符相当于c语言的scanf()\n",
    "- python3中，字符串以Unicode编码\n",
    "\n",
    "##### 字符的转义\n",
    "当字符串中含有有特殊含义的符号时，会用到转义符“\\”。有一种字符串称为原生字符串（raw stings），原生字符串前缀r。原生字符串忽视转义符，原样输出字符\n",
    "\n",
    "练习：转义符"
   ]
  },
  {
   "cell_type": "code",
   "execution_count": 3,
   "metadata": {},
   "outputs": [
    {
     "name": "stdout",
     "output_type": "stream",
     "text": [
      "Hello, \n",
      "world!\n",
      "c:\n",
      "owhere\n",
      "c:\\program files\\fnord\\foo\\bar\\baz\\frozz\\bozz\n",
      "c:\\nowhere\n",
      "c:\\program files\\fnord\\foo\\bar\\baz\\frozz\\bozz\n",
      "Let\\'s go!\n",
      "c:\\program files\\foo\\bar\\\n"
     ]
    }
   ],
   "source": [
    "print('Hello, \\nworld!')\n",
    "\n",
    "path = 'c:\\nowhere'\n",
    "print(path)\n",
    "\n",
    "cpath = 'c:\\\\program files\\\\fnord\\\\foo\\\\bar\\\\baz\\\\frozz\\\\bozz'\n",
    "print(cpath)\n",
    "\n",
    "print(r'c:\\nowhere')\n",
    "rpath = r'c:\\program files\\fnord\\foo\\bar\\baz\\frozz\\bozz'\n",
    "print(rpath)\n",
    "\n",
    "print(r'Let\\'s go!')  # leave \\' as it be\n",
    "\n",
    "# print(r'This is illegal\\')\n",
    "print(r'c:\\program files\\foo\\bar''\\\\')"
   ]
  },
  {
   "cell_type": "markdown",
   "metadata": {},
   "source": [
    "##### 课后阅读:字符编码\n",
    "\n",
    "[ASCII](https://en.wikipedia.org/wiki/ASCII)\n",
    "\n",
    "[Unicode](https://www.unicode.org/standard/WhatIsUnicode.html)\n",
    "\n",
    "[UTF-8](https://en.wikipedia.org/wiki/UTF-8)\n",
    "\n",
    "#### 变量\n",
    "- 变量（variable）是一个指代某值（数字、字符串）的名字\n",
    "- 变量最常见操作，称为赋值或绑定，\\ x = 3 操作。变量被绑定到值后，可代替其所指的值参与运算: 10 + x\n",
    "- 变量优势在于可以在不关心其值的情况下，参与运算\n",
    "- Python不需要事先声明变量名及其数据类型，Python解释器根据绑定或运算来推断变量的数据类型。绑定即声明，Python中变量都是先绑定后使用\n",
    "- 允许多个变量指向，即被绑定到，同一个值。回想下，字面量中，提到的不同记号指称同一值的情况\n",
    "  * 变量：值，就好像名：实\n",
    "  * 某人张三，可以两名指此人（张三、老张、那人，或化名李四）\n",
    "  * 不可一名指两人（重名，歧义，二义性），为消歧，须前缀命名空间（namespace）或域（scope）。如，1班张三，2班张三\n",
    "  * x人行必有我师， y人成虎, 桃园z结义\n",
    "- 变量命名规则\n",
    "  * 变量以字母或下划线开头，下划线开头变量在Python中有特定含义\n",
    "  * 变量中不能有空格及常用标点符号\n",
    "  * 不能使用关键字作为变量名\n",
    "  * 建议不要使用系统内置的模块名、类型名、函数名及已引入的模块名及其属性名，预防重名引起混淆\n",
    "  * 变量区分大小写  \n",
    "\n",
    "练习：关键字"
   ]
  },
  {
   "cell_type": "code",
   "execution_count": 15,
   "metadata": {},
   "outputs": [
    {
     "name": "stdout",
     "output_type": "stream",
     "text": [
      "['False', 'None', 'True', 'and', 'as', 'assert', 'break', 'class', 'continue', 'def', 'del', 'elif', 'else', 'except', 'finally', 'for', 'from', 'global', 'if', 'import', 'in', 'is', 'lambda', 'nonlocal', 'not', 'or', 'pass', 'raise', 'return', 'try', 'while', 'with', 'yield']\n"
     ]
    }
   ],
   "source": [
    "import keyword\n",
    "print(keyword.kwlist)"
   ]
  },
  {
   "cell_type": "markdown",
   "metadata": {},
   "source": [
    "#### 表达式和语句\n",
    "表达式 = 算子 + 算符。算子可以是值，也可以是变量。表达式可求值。表达式2 + 2，值为4。若x = 2,则表达式　x * 3值为6。\n",
    "\n",
    "语句是Python解释器可以执行的合法指令。执行语句表明做某些事情，改变某些情况。如语句x = 2，执行后，变量x被绑定到2这个值上。\n",
    "\n",
    "我们目前学习了两个语句：赋值和引入import。此外，注意print在python2中是语句，在python3中是函数。\n",
    "\n",
    "##### 几个特有语句\n",
    "- 序列解包赋值\n",
    "<pre>\n",
    "  x, y, z = 1, 2, 3\n",
    "  values = 4, 5, 6\n",
    "  x, y, z = values\n",
    "  # x, y, z = 1, 2\n",
    "  # x, y ,z  = 1, 2, 3, 4\n",
    "</pre>\n",
    "- 链式赋值: 链式赋值是将若干变量绑定到一个值的捷径，x = y = z = 22\n",
    "- 增量赋值: x = 3, x += 1, x *= 3\n",
    "- 空语句: pass什么也不做，作用是占位。\n",
    "\n",
    "练习：空语句\n",
    "\n",
    "*注意* 第一部分代码无法调试，更不会运行，因python中留白语句块非法。因此，常用技巧是用空语句pass占留白语句块的位置，让程序运行起来。"
   ]
  },
  {
   "cell_type": "code",
   "execution_count": 7,
   "metadata": {},
   "outputs": [
    {
     "ename": "IndentationError",
     "evalue": "expected an indented block (<ipython-input-7-07e7b1c8d16e>, line 7)",
     "output_type": "error",
     "traceback": [
      "\u001b[0;36m  File \u001b[0;32m\"<ipython-input-7-07e7b1c8d16e>\"\u001b[0;36m, line \u001b[0;32m7\u001b[0m\n\u001b[0;31m    elif name == 'Charlie':\u001b[0m\n\u001b[0m       ^\u001b[0m\n\u001b[0;31mIndentationError\u001b[0m\u001b[0;31m:\u001b[0m expected an indented block\n"
     ]
    }
   ],
   "source": [
    "name = 'Adam'\n",
    "\n",
    "if name == 'Adam':\n",
    "    print('Hello')\n",
    "# elif name == 'Bob':  # invalid syntax. This will pop up an exception.\n",
    "    # Not finished yet...to be continued\n",
    "elif name == 'Charlie':\n",
    "    print('Access Denied')\n",
    "\n",
    "\n",
    "if name == 'Adam':\n",
    "    print('Hello')\n",
    "elif name == 'Bob':  # correct usage\n",
    "    # Not finished yet...to be continued\n",
    "    pass\n",
    "elif name == 'Charlie':\n",
    "    print('Access Denied')"
   ]
  },
  {
   "cell_type": "markdown",
   "metadata": {},
   "source": [
    "#### 函数和模块\n",
    "##### 函数\n",
    "- 一个函数（functions）就是一小段程序，负责执行特定的任务\n",
    "  * Python自带大量内置函数可完成许多日常工作，同时还有数量庞大的第三方工具包提供了更多的函数，供程序员使用\n",
    "  * 如果这些还不够用，程序员可以编写自定义函数完成特定的工作\n",
    "  * Python自带的标准函数称为内置（built-in）函数\n",
    "  * 例： 2 ** 3 可用pow(2,3)函数代替完成任务，二者功能上是等价的\n",
    "- 使用函数的方法是调用函数。调用者调用函数同时提供参数，函数执行完毕后，向调用者返回值\n",
    "  * pow(2, 3)，2、3是传递给函数的参数，8是返回值。\n",
    "  * print(x)返回值就是输出内容。该函数相当于c语言的printf()\n",
    "- 由于函数返回值，即函数可以求值，函数可以视为表达式。因此，可以将函数与运算符组合，组成功能更丰富的表达式。例：\\ 10 + pow(2, 3*5) / 3.0 \n",
    "- Python内置函数：\n",
    "[python内置函数表](https://docs.python.org/3/library/functions.html)\n",
    "\n",
    "##### 模块\n",
    "对于非内置函数，使用import语句引入模块。该语句相当于ｃ语言的#include。通过语法格式module.function使用该模块的函数。\n",
    "自定义模块有绝对引入 (absolute import) 和相对引入 (relative import)，两种引入方法。\n",
    "<pre>\n",
    "\\begin{python \n",
    "  import ecommerce.products\n",
    "  from .database import Database\n",
    "  from ..database import Database\n",
    "\\end{python \n",
    "</pre>\n",
    "练习：引入模块。如何确认是否成功引入模块？"
   ]
  },
  {
   "cell_type": "code",
   "execution_count": 8,
   "metadata": {},
   "outputs": [
    {
     "name": "stdout",
     "output_type": "stream",
     "text": [
      "32\n",
      "3.0\n",
      "1j\n"
     ]
    }
   ],
   "source": [
    "# import usage\n",
    "# 1.\n",
    "import math\n",
    "print(math.floor(32.9))\n",
    "\n",
    "# 2.\n",
    "from math import sqrt\n",
    "\n",
    "# 3. from math import *\n",
    "print(sqrt(9))\n",
    "\n",
    "# 4.\n",
    "# print(sqrt(-1))\n",
    "import cmath as cm\n",
    "print(cm.sqrt(-1))\n",
    "\n",
    "# 5. wierd usage, like binding\n",
    "from math import sqrt as st1\n",
    "from cmath import sqrt as st2"
   ]
  },
  {
   "cell_type": "markdown",
   "metadata": {},
   "source": [
    "#### 小结\n",
    "须掌握的概念: 数字、字符串、变量、赋值、绑定、运算符、算子、表达式、语句、引入、函数、模块。"
   ]
  },
  {
   "cell_type": "markdown",
   "metadata": {},
   "source": [
    "### 第三章 控制流：选择与循环\n",
    "\n",
    "#### 代码风格\n",
    "Python有几个突出特点：\n",
    "- 不使用分号（;）做语句结束符\n",
    "- 不使用成对花括号（{ ）作为边界符， 而是使用缩进，一般是4个空格，来界定语句块\n",
    "- 不要忽略冒号(:)\n",
    "- #是注释符\n",
    "\n",
    "写程序就是填空，见下例。\n",
    "<pre>\n",
    "def 函数名(参数列表):\n",
    "    \"\"\"\n",
    "    docstring： 函数说明，说明函数功能，使用何种算法，参数个数、类型，\n",
    "                返回值等。\n",
    "    \"\"\"\n",
    "    #  注释\n",
    "    代码块（函数体）\n",
    "    1. 输入\n",
    "    2. 处理\n",
    "    3. 输出\n",
    "    return 返回值\n",
    "</pre>\n",
    "\n",
    "练习：pythonic"
   ]
  },
  {
   "cell_type": "code",
   "execution_count": 9,
   "metadata": {},
   "outputs": [
    {
     "name": "stdout",
     "output_type": "stream",
     "text": [
      "The Zen of Python, by Tim Peters\n",
      "\n",
      "Beautiful is better than ugly.\n",
      "Explicit is better than implicit.\n",
      "Simple is better than complex.\n",
      "Complex is better than complicated.\n",
      "Flat is better than nested.\n",
      "Sparse is better than dense.\n",
      "Readability counts.\n",
      "Special cases aren't special enough to break the rules.\n",
      "Although practicality beats purity.\n",
      "Errors should never pass silently.\n",
      "Unless explicitly silenced.\n",
      "In the face of ambiguity, refuse the temptation to guess.\n",
      "There should be one-- and preferably only one --obvious way to do it.\n",
      "Although that way may not be obvious at first unless you're Dutch.\n",
      "Now is better than never.\n",
      "Although never is often better than *right* now.\n",
      "If the implementation is hard to explain, it's a bad idea.\n",
      "If the implementation is easy to explain, it may be a good idea.\n",
      "Namespaces are one honking great idea -- let's do more of those!\n"
     ]
    }
   ],
   "source": [
    "def fibs(num):\n",
    "    \"\"\"\n",
    "    This is a Fibnacci function\n",
    "    \"\"\"\n",
    "    result = [0, 1]\n",
    "    for i in range(num-2):\n",
    "        result.append(result[-2] + result[-1])\n",
    "    return result  # This is a comment\n",
    "\n",
    "import this"
   ]
  },
  {
   "cell_type": "markdown",
   "metadata": {},
   "source": [
    "#### 课后阅读\n",
    "[Python推荐编码风格](https://www.python.org/dev/peps/pep-0008)"
   ]
  },
  {
   "cell_type": "markdown",
   "metadata": {},
   "source": [
    "#### 语句块\n",
    "块（block）是一组语句，是一个整体。冒号表明语句块起点，缩进界定语句块。所有连续、同缩进格式的语句属于同一个语句块。当条件表达式值为“真”时，可在循环中执行语句块若干次。\n",
    "\n",
    "#### 条件表达式\n",
    "Python中，单个常量、变量、任意合法表达式、或由简单条件表达式与运算符组合而成的复杂条件表达式都可视为条件表达式。这些表达式的值就是条件表达式的值。\n",
    "\n",
    "条件表达式有且仅有两个值，任意条件表达式值必居其一:\n",
    "- 假： Fasle, 0, 0.0, 0j, None, 空列表[],空元组(),空集合，空字典{ ，空字符串''，空range或其他空iterable对象\n",
    "- 真: 其他情形\n",
    "\n",
    "程序可以根据条件表达式的值，决定是否执行某个语句块。\n",
    "\n",
    "##### 组合条件表达式\n",
    "例如，((a > 10) and < (a < 20))。 组合后，其值依然“真”、“假”必居其一。\n",
    "\n",
    "##### 相等运算符和同一运算符\n",
    "- ==：相等运算符\n",
    "- is：同一运算符， 似乎与==相类，实在是有本质区别\n",
    "\n",
    "两个运算符的区别在于：\n",
    "- is 判断的是同一性（identity），而不是（值）相等（equality）。 x和y被绑定到同一列表，z被绑定到另一个列表，该列表恰与xy列表值相等。 尽管值等，但z与xy不是同一对象\n",
    "- xy与z代表的列表值相等， 但不是同一个实体\n",
    "- 用法： 用==判断两个对象值是否相等，用is判断两个对象是否同一\n",
    "- 在CPython实现中，python的同一指x、y存储了同一个对象的内存地址\n",
    "\n",
    "练习：相等和同一"
   ]
  },
  {
   "cell_type": "code",
   "execution_count": 10,
   "metadata": {},
   "outputs": [
    {
     "name": "stdout",
     "output_type": "stream",
     "text": [
      "True\n",
      "False\n"
     ]
    },
    {
     "data": {
      "text/plain": [
       "False"
      ]
     },
     "execution_count": 10,
     "metadata": {},
     "output_type": "execute_result"
    }
   ],
   "source": [
    "print(\"foo\" == \"foo\")\n",
    "print(\"foo\" == \"bar\")\n",
    "\n",
    "x = y = [1, 2, 3]\n",
    "z = [1, 2, 3]\n",
    "x == y\n",
    "x == z\n",
    "x is y\n",
    "x is z"
   ]
  },
  {
   "cell_type": "markdown",
   "metadata": {},
   "source": [
    "#### 分支结构\n",
    "##### 单分支\n",
    "<pre>\n",
    "  if 表达式：\n",
    "      语句块\n",
    "</pre>\n",
    "##### 双分支\n",
    "<pre>\n",
    "if 表达式：\n",
    "    语句块1\n",
    "else:  #   else clauses\n",
    "    语句块2\n",
    "</pre>\n",
    "\n",
    "##### 多分支\n",
    "Python 不支持switch case关键字，多分支结构的功能用 if...elif...else完成。\n",
    "<pre>\n",
    "if 表达式1：\n",
    "    语句块1\n",
    "elif 表达式2:  #   elif clauses\n",
    "    语句块2\n",
    "elif 表达式3:\n",
    "    :\n",
    "    :\n",
    "    :\n",
    "else:\n",
    "    语句块n\n",
    "</pre>\n",
    "\n",
    "\n",
    "##### 嵌套分支\n",
    "使用嵌套结构一定严格控制不同级别语句块的缩进量，因缩进量决定着语句块的从属关系，影响着程序的执行路径和逻辑功能。\n",
    "<pre>\n",
    "if 表达式1：\n",
    "    语句块1\n",
    "    if 表达式2:\n",
    "        语句块2\n",
    "    else:\n",
    "        语句块3\n",
    "else:\n",
    "    if 表达式4:\n",
    "        语句块4\n",
    "\n",
    "</pre>\n",
    "\n",
    "#### 断言\n",
    "assert逻辑上等价于“如果不”（if not），常用于*测试*程序。assert语句用法为，声明断言某表达式（通常是布尔表达式）为真，并附言解释为何如此。程序执行到该断言语句时，进行判断，若该断言表达式为真，则什么都不发生，表明该断言测试的值在合理范围内，没出错。若该表达式为假时，assert爆出(pop up)异常，显示附言，终止程序，表明测试的值超出范围，出错了。\n",
    "\n",
    "##### 阅读材料\n",
    "- [The writing and reporting of assertions in tests](https://docs.pytest.org/en/latest/assert.html)\n",
    "\n",
    "- [mars code](https://cacm.acm.org/magazines/2014/2/171689-mars-code/abstract)\n",
    "\n",
    "#### 循环\n",
    "- while\n",
    "- for循环:Python风格for循环：for var in iterable/range\n",
    "- 终止循环\n",
    "  * break语句，退出当前循环，提前结束整个循环\n",
    "  * continue语句，终止本次循环，忽略continue之后的所有语句，直接回到循环顶端，提前结束本次循环，进入下一次循环\n",
    "\n",
    "- 带else子句的循环(c语言中没有此特性)\n",
    "语句可独立存在，子句（clause）不能独立存在，必须依附于某些语句，才起作用。\n",
    "\n",
    "#### 课堂练习\n",
    "阅读并理解程序。\n",
    "<pre>\n",
    "  # 1. 计算1 + 2 + 3 + ... + 100的值\n",
    "  s = 0\n",
    "  for i in range(1, 101):\n",
    "      s = s + i\n",
    "  print(s)\n",
    "  print(sum(range(1, 101)))\n",
    "\n",
    "  # 2. 求1-100间能同时被7整除，不能被5整除的所有整数。\n",
    "  # 那同时能被7和5整除的整数呢？\n",
    "  for i in range(1, 101):\n",
    "      if ((i % 7) == 0) and ((i % 5) != 0):\n",
    "          print(i)\n",
    "\n",
    "  # 3. 水仙花数输出“水仙花数”，所谓水仙花数，指3位十进制数，其各位数字立方\n",
    "  # 之和等于该数，例如 153 = 1^3 + 5^3 + 3^3\n",
    "  for i in range(100, 1000):\n",
    "      ge = i % 10\n",
    "      shi  = i // 10 % 10\n",
    "      bai = i // 100\n",
    "      if (ge**3 + shi**3 + bai**3)  == i:\n",
    "          print(i)\n",
    "\n",
    "  # 4. 求平均\n",
    "  score = [70, 90, 78, 85, 97, 94, 65, 80]\n",
    "  s = 0\n",
    "  for i in score:\n",
    "      s += i\n",
    "  print(s / len(score))\n",
    "\n",
    "  print(sum(score) / len(score))\n",
    "\n",
    "  # 5. 输出99乘法表\n",
    "  for i in range(1, 10):\n",
    "      for j in range(1,10):\n",
    "          if (j<=i):  # 调整格式\n",
    "              print(j, '*', i, '=', i*j, ' ', end='')\n",
    "      print()  # 输出空行\n",
    "\n",
    "  # 6. 求200以内能被17除的最大正整数\n",
    "  for i in range(200, 0, -1):\n",
    "      if (i % 17) == 0:\n",
    "          print(i)\n",
    "          break\n",
    "\n",
    "  # 7. 判断一个数是否为素数\n",
    "  # 遍历N能否能被从2到sqrt(N)之间的素数整除。若不能则为素数。\n",
    "  import math\n",
    "  \n",
    "  n = int(input('Input an integer:'))\n",
    "  m = math.ceil(math.sqrt(n) + 1)\n",
    "\n",
    "  for i in range(2, m):\n",
    "      if ((n % i) == 0) and (i < n):\n",
    "          print('No')\n",
    "          break\n",
    "  # NOTE THE POSITION OF THe ELSE\n",
    "  else:  \n",
    "      print('Yes')\n",
    "\n",
    "  # 8. 鸡兔同笼问题， 设共有鸡兔30只，查有90只脚，问鸡兔各多少只？\n",
    "  for chick in range(0, 31):\n",
    "      if ((2 * chick) + ((30 - chick) * 4)) == 90:\n",
    "          print('Chicks:', chick, 'Rabits:', (30 - chick))\n",
    "</pre>\n",
    "\n",
    "#### 课后作业\n",
    "1. 编写程序，运行后用户输入4为整数年份，判断是否为闰年。 判断闰年算法如下：如果年份能被400整除，是闰年; 如果年份能被4整除，但不能被100整除，也是闰年\n",
    "2. 编写程序，用户从键盘输入小于1000的整数，程序对其进行因式分解。\n",
    "   * 例： 10 = 2 * 5， 60 = 2 * 2 * 3 * 5\n",
    "3.  编写程序，实现分段函数计算，见表\\Cref{segfunc 。\n",
    "\n",
    "TODO:\n",
    "<pre>\n",
    "\n",
    "\\begin{table \n",
    "  \\centering\n",
    "  \\begin{tabular {cc \n",
    "    \\toprule\n",
    "    x           & y     \\\\\n",
    "    \\midrule\n",
    "    x < 0       & 0     \\\\\n",
    "    0 $\\leq$ x < 5  & x     \\\\\n",
    "    5 $\\leq$ x < 10 & 3x-5  \\\\\n",
    "    10$\\leq$ x < 20 & 0.5x-2\\\\\n",
    "    20$\\leq$ x      & 0     \\\\\n",
    "    \\bottomrule\n",
    "  \\end{tabular \n",
    "  \\caption{分段函数 %Segment function \n",
    "  \\label{segfunc \n",
    "\\end{table \n",
    "</pre>\n",
    "\n",
    "#### 阅读材料：代码可读性\n",
    "- [代码可读性提升指南](https://zhuanlan.zhihu.com/p/22334966)\n",
    "- [请优先提高代码的可读性](http://blog.jobbole.com/73791)\n",
    "- [Improving code readability](https://stackoverflow.com/questions/550861/improving-code-readability)\n",
    "- [Code smells](https://blog.codinghorror.com/code-smells)\n",
    "- [popular readability formulas](https://en.wikipedia.org/wiki/Readability#Popular_readability_formulas)\n",
    "- 《代码大全（第二版）》\n",
    "- 《代码整洁之道》\n",
    "- 《重构: 改善既有代码的设计》\n",
    "- 《编写可读代码的艺术》"
   ]
  },
  {
   "cell_type": "code",
   "execution_count": 11,
   "metadata": {},
   "outputs": [
    {
     "name": "stdout",
     "output_type": "stream",
     "text": [
      "3 10\n"
     ]
    },
    {
     "name": "stdin",
     "output_type": "stream",
     "text": [
      "What is your name? bobo\n"
     ]
    }
   ],
   "source": [
    "# 练习：单分支\n",
    "# 1.\n",
    "# x = input('Input two integers:')\n",
    "x = (3, 10)\n",
    "# x = (10, 3)\n",
    "a, b = x  # unpacking\n",
    "if a > b:\n",
    "    a, b = b, a\n",
    "print(a, b)\n",
    "\n",
    "# 2.\n",
    "name = input('What is your name?')\n",
    "if name.endswith('Michael'):\n",
    "    print(\"Hello, Mr. Michael\")"
   ]
  },
  {
   "cell_type": "code",
   "execution_count": 12,
   "metadata": {},
   "outputs": [
    {
     "name": "stdin",
     "output_type": "stream",
     "text": [
      "What is your name? hari\n"
     ]
    },
    {
     "name": "stdout",
     "output_type": "stream",
     "text": [
      "Hello, stranger\n",
      "['1', '2', '3', '4', '5']\n"
     ]
    }
   ],
   "source": [
    "# 练习：双分支\n",
    "# 1.\n",
    "name = input('What is your name?')\n",
    "# name = 'c'\n",
    "if name.endswith('Michael'):\n",
    "    print(\"Hello, Mr. Michael\")\n",
    "else:\n",
    "    print(\"Hello, stranger\")\n",
    "\n",
    "# 2.\n",
    "chTest = ['1', '2', '3', '4', '5']\n",
    "a = '6'\n",
    "\n",
    "if a in chTest:\n",
    "    # if a not in chTest:\n",
    "    print(a)\n",
    "else:\n",
    "    print(chTest)"
   ]
  },
  {
   "cell_type": "code",
   "execution_count": 13,
   "metadata": {},
   "outputs": [
    {
     "name": "stdin",
     "output_type": "stream",
     "text": [
      "Enter a number:  9762\n"
     ]
    },
    {
     "name": "stdout",
     "output_type": "stream",
     "text": [
      "The number is positive\n"
     ]
    }
   ],
   "source": [
    "# 练习：多分支\n",
    "num = int(input('Enter a number: '))\n",
    "if num > 0:\n",
    "    print('The number is positive')\n",
    "elif num < 0:\n",
    "    print('The number is negative')\n",
    "else:\n",
    "    print('The number is zero')"
   ]
  },
  {
   "cell_type": "code",
   "execution_count": 14,
   "metadata": {},
   "outputs": [
    {
     "name": "stdin",
     "output_type": "stream",
     "text": [
      "What is your name? Bob\n"
     ]
    },
    {
     "name": "stdout",
     "output_type": "stream",
     "text": [
      "Hello, stranger\n"
     ]
    }
   ],
   "source": [
    "# 练习：嵌套分支\n",
    "name = input('What is your name?')\n",
    "# name = 'c'\n",
    "if name.endswith('Adam'):\n",
    "    if name.startswith('Mr.'):\n",
    "        print(\"Hello, Mr. Adam\")\n",
    "    elif name.startswith('Mrs.'):\n",
    "        print(\"Hello, Mrs. Adam\")\n",
    "    else:\n",
    "        print(\"Hello, Adam\")\n",
    "else:\n",
    "    print(\"Hello, stranger\")"
   ]
  },
  {
   "cell_type": "code",
   "execution_count": 15,
   "metadata": {},
   "outputs": [
    {
     "ename": "AssertionError",
     "evalue": "Age is between 0 and 100.",
     "output_type": "error",
     "traceback": [
      "\u001b[0;31m---------------------------------------------------------------------------\u001b[0m",
      "\u001b[0;31mAssertionError\u001b[0m                            Traceback (most recent call last)",
      "\u001b[0;32m<ipython-input-15-2bb8d66e0075>\u001b[0m in \u001b[0;36m<module>\u001b[0;34m\u001b[0m\n\u001b[1;32m      3\u001b[0m \u001b[0;32massert\u001b[0m \u001b[0;36m0\u001b[0m \u001b[0;34m<\u001b[0m \u001b[0mage\u001b[0m \u001b[0;34m<\u001b[0m \u001b[0;36m100\u001b[0m\u001b[0;34m\u001b[0m\u001b[0;34m\u001b[0m\u001b[0m\n\u001b[1;32m      4\u001b[0m \u001b[0mage\u001b[0m \u001b[0;34m=\u001b[0m \u001b[0;34m-\u001b[0m\u001b[0;36m1\u001b[0m\u001b[0;34m\u001b[0m\u001b[0;34m\u001b[0m\u001b[0m\n\u001b[0;32m----> 5\u001b[0;31m \u001b[0;32massert\u001b[0m \u001b[0;36m0\u001b[0m \u001b[0;34m<\u001b[0m \u001b[0mage\u001b[0m \u001b[0;34m<\u001b[0m \u001b[0;36m100\u001b[0m\u001b[0;34m,\u001b[0m \u001b[0;34m'Age is between 0 and 100.'\u001b[0m\u001b[0;34m\u001b[0m\u001b[0;34m\u001b[0m\u001b[0m\n\u001b[0m\u001b[1;32m      6\u001b[0m \u001b[0;31m# if not 0<age<100 then raise exception '...'\u001b[0m\u001b[0;34m\u001b[0m\u001b[0;34m\u001b[0m\u001b[0;34m\u001b[0m\u001b[0m\n",
      "\u001b[0;31mAssertionError\u001b[0m: Age is between 0 and 100."
     ]
    }
   ],
   "source": [
    "# 练习：断言\n",
    "age = 10\n",
    "assert 0 < age < 100\n",
    "age = -1\n",
    "assert 0 < age < 100, 'Age is between 0 and 100.'\n",
    "# if not 0<age<100 then raise exception '...'"
   ]
  },
  {
   "cell_type": "code",
   "execution_count": 16,
   "metadata": {},
   "outputs": [
    {
     "name": "stdout",
     "output_type": "stream",
     "text": [
      "1\n",
      "2\n",
      "3\n",
      "4\n",
      "5\n",
      "6\n",
      "7\n",
      "8\n",
      "9\n",
      "10\n",
      "11\n",
      "12\n",
      "13\n",
      "14\n",
      "15\n",
      "16\n",
      "17\n",
      "18\n",
      "19\n",
      "20\n",
      "21\n",
      "22\n",
      "23\n",
      "24\n",
      "25\n",
      "26\n",
      "27\n",
      "28\n",
      "29\n",
      "30\n",
      "31\n",
      "32\n",
      "33\n",
      "34\n",
      "35\n",
      "36\n",
      "37\n",
      "38\n",
      "39\n",
      "40\n",
      "41\n",
      "42\n",
      "43\n",
      "44\n",
      "45\n",
      "46\n",
      "47\n",
      "48\n",
      "49\n",
      "50\n",
      "51\n",
      "52\n",
      "53\n",
      "54\n",
      "55\n",
      "56\n",
      "57\n",
      "58\n",
      "59\n",
      "60\n",
      "61\n",
      "62\n",
      "63\n",
      "64\n",
      "65\n",
      "66\n",
      "67\n",
      "68\n",
      "69\n",
      "70\n",
      "71\n",
      "72\n",
      "73\n",
      "74\n",
      "75\n",
      "76\n",
      "77\n",
      "78\n",
      "79\n",
      "80\n",
      "81\n",
      "82\n",
      "83\n",
      "84\n",
      "85\n",
      "86\n",
      "87\n",
      "88\n",
      "89\n",
      "90\n",
      "91\n",
      "92\n",
      "93\n",
      "94\n",
      "95\n",
      "96\n",
      "97\n",
      "98\n",
      "99\n",
      "100\n"
     ]
    },
    {
     "name": "stdin",
     "output_type": "stream",
     "text": [
      "Please enter your name:  Harry\n"
     ]
    },
    {
     "name": "stdout",
     "output_type": "stream",
     "text": [
      "Hello, Harry!\n"
     ]
    }
   ],
   "source": [
    "# 练习：while\n",
    "# 1.\n",
    "x = 1\n",
    "while x <= 100:\n",
    "    print(x)\n",
    "    x += 1\n",
    "\n",
    "# 2.\n",
    "name = ''\n",
    "while not name:\n",
    "    name = input('Please enter your name: ')\n",
    "print('Hello, %s!' % name)"
   ]
  },
  {
   "cell_type": "code",
   "execution_count": 17,
   "metadata": {},
   "outputs": [
    {
     "name": "stdout",
     "output_type": "stream",
     "text": [
      "this\n",
      "is\n",
      "an\n",
      "ex\n",
      "parrot\n",
      "0\n",
      "1\n",
      "2\n",
      "3\n",
      "4\n",
      "5\n",
      "6\n",
      "7\n",
      "8\n",
      "9\n",
      "1\n",
      "2\n",
      "3\n",
      "4\n",
      "5\n",
      "6\n",
      "7\n",
      "8\n",
      "9\n",
      "10\n",
      "11\n",
      "12\n",
      "13\n",
      "14\n",
      "15\n",
      "16\n",
      "17\n",
      "18\n",
      "19\n",
      "20\n",
      "21\n",
      "22\n",
      "23\n",
      "24\n",
      "25\n",
      "26\n",
      "27\n",
      "28\n",
      "29\n",
      "30\n",
      "31\n",
      "32\n",
      "33\n",
      "34\n",
      "35\n",
      "36\n",
      "37\n",
      "38\n",
      "39\n",
      "40\n",
      "41\n",
      "42\n",
      "43\n",
      "44\n",
      "45\n",
      "46\n",
      "47\n",
      "48\n",
      "49\n",
      "50\n",
      "51\n",
      "52\n",
      "53\n",
      "54\n",
      "55\n",
      "56\n",
      "57\n",
      "58\n",
      "59\n",
      "60\n",
      "61\n",
      "62\n",
      "63\n",
      "64\n",
      "65\n",
      "66\n",
      "67\n",
      "68\n",
      "69\n",
      "70\n",
      "71\n",
      "72\n",
      "73\n",
      "74\n",
      "75\n",
      "76\n",
      "77\n",
      "78\n",
      "79\n",
      "80\n",
      "81\n",
      "82\n",
      "83\n",
      "84\n",
      "85\n",
      "86\n",
      "87\n",
      "88\n",
      "89\n",
      "90\n",
      "91\n",
      "92\n",
      "93\n",
      "94\n",
      "95\n",
      "96\n",
      "97\n",
      "98\n",
      "99\n",
      "100\n"
     ]
    }
   ],
   "source": [
    "# 练习：for\n",
    "words = ['this', 'is', 'an', 'ex', 'parrot']\n",
    "for word in words:\n",
    "    print(word)\n",
    "\n",
    "numbers = [0, 1, 2, 3, 4, 5, 6, 7, 8, 9]\n",
    "for number in numbers:\n",
    "    print(number)\n",
    "\n",
    "for number in range(1, 101):\n",
    "    # This is more compact than the while loop above.\n",
    "    # replace for (i=1, i <=100, i++)\n",
    "    print(number)"
   ]
  },
  {
   "cell_type": "code",
   "execution_count": 18,
   "metadata": {},
   "outputs": [
    {
     "name": "stdout",
     "output_type": "stream",
     "text": [
      "2\n",
      "4\n",
      "6\n",
      "8\n",
      "10\n",
      "1\n",
      "2\n",
      "3\n",
      "4\n",
      "5\n",
      "6\n",
      "7\n",
      "8\n",
      "9\n",
      "10\n",
      "97\n"
     ]
    }
   ],
   "source": [
    "# 练习：终止循环\n",
    "i = 1\n",
    "while i < 10:\n",
    "    i += 1\n",
    "    if (i % 2) > 0:  # if not an even number, it won't print\n",
    "        continue\n",
    "    print(i)  # print even number\n",
    "\n",
    "i = 1\n",
    "while True:\n",
    "    print(i)  # print 1~10\n",
    "    i += 1\n",
    "    if i > 10:\n",
    "        break\n",
    "\n",
    "# for reading\n",
    "for n in range(100, 1, -1):\n",
    "    for i in range(2, n):\n",
    "        if n % i == 0:\n",
    "            break\n",
    "    else:\n",
    "        print(n)\n",
    "        break\n",
    "\n",
    "while i < 10:\n",
    "    if i % 2 == 0:\n",
    "        continue\n",
    "    print(i + ' ')\n",
    "    i += 1"
   ]
  },
  {
   "cell_type": "code",
   "execution_count": 19,
   "metadata": {},
   "outputs": [
    {
     "name": "stdout",
     "output_type": "stream",
     "text": [
      "0 is less than 5.\n",
      "1 is less than 5.\n",
      "2 is less than 5.\n",
      "3 is less than 5.\n",
      "4 is less than 5.\n",
      "5 is no less than 5.\n",
      "2 it's a prime number\n",
      "3 it's a prime number\n",
      "5 it's a prime number\n",
      "7 it's a prime number\n",
      "11 it's a prime number\n",
      "13 it's a prime number\n",
      "17 it's a prime number\n",
      "19 it's a prime number\n",
      "23 it's a prime number\n",
      "29 it's a prime number\n",
      "31 it's a prime number\n",
      "37 it's a prime number\n",
      "41 it's a prime number\n",
      "43 it's a prime number\n",
      "47 it's a prime number\n",
      "53 it's a prime number\n",
      "59 it's a prime number\n",
      "61 it's a prime number\n",
      "67 it's a prime number\n",
      "71 it's a prime number\n",
      "73 it's a prime number\n",
      "79 it's a prime number\n",
      "83 it's a prime number\n",
      "89 it's a prime number\n",
      "97 it's a prime number\n"
     ]
    }
   ],
   "source": [
    "# 练习：循环子句\n",
    "# 1. while else\n",
    "\n",
    "count = 0\n",
    "while count < 5:\n",
    "    print(\"%d is less than 5.\" % count)\n",
    "    count += 1\n",
    "else:\n",
    "    print(\"%d is no less than 5.\" % 5)\n",
    "\n",
    "# 2. for else\n",
    "n = 100\n",
    "for i in range(2, n):\n",
    "    # found = True\n",
    "    for j in range(2, i):\n",
    "        if i % j == 0:\n",
    "            # found = False\n",
    "            break\n",
    "    else:\n",
    "        print(\"{} it's a prime number\".format(i))\n",
    "    # if found:\n",
    "        # print(\"{} it's a prime number\".format(i))"
   ]
  },
  {
   "cell_type": "markdown",
   "metadata": {},
   "source": [
    "### 第四章 高级数据类型\n",
    "#### 内置数据类型\n",
    "数据结构，是将数据元素按特定方式组织成为有结构（数据元素之间有明确关系）的数据集合。程序设计语言中的数据结构的类型一般称为数据类型许多数据类型与对象的集合有关。具体来说，数据类型的值就是一组对象的集合，所有操作都是关于添加、修改、删除或是访问集合中的对象。[Python数据模型](https://docs.python.org/3/reference/datamodel.html)详尽说明了Python支持的数据类型，这些数据类型称为内置数据类型。\n",
    "\n",
    "Python主要内置数据类型有：\n",
    "- 数字，含整数、浮点数、复数\n",
    "- 序列\n",
    "- 映射\n",
    "- 类\n",
    "- 实例\n",
    "- 异常\n",
    "- 其他不常用的类型，如集合\n",
    "\n",
    "Python最常用的数据类型是序列。序列中的每个数据元素都附着一个整数，标示该数据元素在序列中的位置，称该整数为索引，索引从0开始计数。程序员通过索引可以访问并使用该数据元素。Python还经常使用的一种数据类型叫作映射。映射不使用整数索引访问数据元素，而是给映射中的数据元素附着一个名字，称该名字为键。程序员通过键可以访问并使用映射中的数据元素。序列有多种，典型代表是列表和元组，映射只有一种，字典。\n",
    "\n",
    "[Python3的几种基本内置序列类型](https://docs.python.org/3/library/stdtypes.html#sequence-types-list-tuple-range)\n",
    "- 列表 lists\n",
    "- 元组 tuples\n",
    "- 字符串 strings\n",
    "- 范围对象 range objects\n",
    "- 列表适用范围广，几乎适用于所有情况，元组适用范围要窄一些。\n",
    "\n",
    "#### 列表及列表函数\n",
    "当使用组合数据时，序列即派上用场。列表是序列最典型的代表。列表的创建、访问、修改、删除，均可通过列表函数完成。其语法为 function(list)。\n"
   ]
  },
  {
   "cell_type": "code",
   "execution_count": 31,
   "metadata": {},
   "outputs": [
    {
     "data": {
      "text/plain": [
       "[['ZhangSan', 20], ['LiSi', 19]]"
      ]
     },
     "execution_count": 31,
     "metadata": {},
     "output_type": "execute_result"
    }
   ],
   "source": [
    "zs = ['ZhangSan', 20]\n",
    "ls = ['LiSi', 19]\n",
    "database = [zs, ls]\n",
    "database"
   ]
  },
  {
   "cell_type": "markdown",
   "metadata": {},
   "source": [
    "##### 创建列表\n",
    "- 列表以[]为界定符，以逗号为分隔符\n",
    "- 使用=将变量赋值给列表即可创建列表对象。其执行顺序是先创建列表对象，再将变量绑定到列表\n",
    "- 使用list()函数可将其他数据类型转换为列表类型"
   ]
  },
  {
   "cell_type": "code",
   "execution_count": 21,
   "metadata": {},
   "outputs": [
    {
     "name": "stdout",
     "output_type": "stream",
     "text": [
      "False\n"
     ]
    },
    {
     "ename": "NameError",
     "evalue": "name 'd_list' is not defined",
     "output_type": "error",
     "traceback": [
      "\u001b[0;31m---------------------------------------------------------------------------\u001b[0m",
      "\u001b[0;31mNameError\u001b[0m                                 Traceback (most recent call last)",
      "\u001b[0;32m<ipython-input-21-dc5d7f7a7169>\u001b[0m in \u001b[0;36m<module>\u001b[0;34m\u001b[0m\n\u001b[1;32m     25\u001b[0m \u001b[0mg_list\u001b[0m \u001b[0;34m=\u001b[0m \u001b[0md_list\u001b[0m\u001b[0;34m\u001b[0m\u001b[0;34m\u001b[0m\u001b[0m\n\u001b[1;32m     26\u001b[0m \u001b[0;32mdel\u001b[0m \u001b[0md_list\u001b[0m\u001b[0;34m\u001b[0m\u001b[0;34m\u001b[0m\u001b[0m\n\u001b[0;32m---> 27\u001b[0;31m \u001b[0md_list\u001b[0m\u001b[0;34m\u001b[0m\u001b[0;34m\u001b[0m\u001b[0m\n\u001b[0m\u001b[1;32m     28\u001b[0m \u001b[0mg_list\u001b[0m\u001b[0;34m\u001b[0m\u001b[0;34m\u001b[0m\u001b[0m\n",
      "\u001b[0;31mNameError\u001b[0m: name 'd_list' is not defined"
     ]
    }
   ],
   "source": [
    "# 示例:创建列表\n",
    "# 1. create a list\n",
    "# consists of strings and nummerrics\n",
    "a_list = ['a', 'b', 'mpilgrim', 'z', 'example', 2018]\n",
    "b_list = []  # create a empty list, whose value is False\n",
    "\n",
    "# 2. take a list as conditional expression\n",
    "if b_list:\n",
    "    print('True')\n",
    "else:\n",
    "    print('False')\n",
    "\n",
    "# 3. create a list by list()\n",
    "c_list = list((3, 5, 7, 9, 11))  # cast a tuple to a list\n",
    "d_list = list(range(1, 10, 2))  # cast a range object to a list\n",
    "e_list = list('hello, world!')  # cast a string to a list\n",
    "f_list = list()  # create empty list\n",
    "\n",
    "# 4. unbinding the variables, and delete the object as well\n",
    "del a_list  # unbinding the variable\n",
    "# NameError: name 'a_list' is not defined. a_list is not binding to any value\n",
    "a_list\n",
    "\n",
    "# 5. unbinding the variable, but the object it pointed to still exists.\n",
    "g_list = d_list\n",
    "del d_list\n",
    "d_list\n",
    "g_list"
   ]
  },
  {
   "cell_type": "markdown",
   "metadata": {},
   "source": [
    "##### 查找列表元素\n",
    "1. 索引\n",
    "列表中所有元素的索引，从0起始编号。索引可以取负值。"
   ]
  },
  {
   "cell_type": "code",
   "execution_count": 22,
   "metadata": {},
   "outputs": [],
   "source": [
    "greeting = 'hello'\n",
    "greeting[0]\n",
    "greeting[-1]\n",
    "\n",
    "a_list = [3, 4, 5, 7]\n",
    "# a_list[4] # out of range"
   ]
  },
  {
   "cell_type": "markdown",
   "metadata": {},
   "source": [
    "2. 切片\n",
    "索引用以访问单个元素，切片用以访问连续多个元素。\n",
    "- 一般使用两个索引，中间一个冒号\n",
    "- 第一个索引所指的元素在，而第二个索引所指的元素不在访问范围内\n",
    "- 第一个索引位置要在第二个索引前，颠倒了，只能得到空列表\n",
    "- 切片可以使用3个索引数字，第三个称为步长，number[0:10:2]"
   ]
  },
  {
   "cell_type": "code",
   "execution_count": 23,
   "metadata": {},
   "outputs": [
    {
     "name": "stdout",
     "output_type": "stream",
     "text": [
      "May 16th,2019\n"
     ]
    }
   ],
   "source": [
    "# 示例：切片访问列表元素\n",
    "%run examples/lstslicing.py"
   ]
  },
  {
   "cell_type": "markdown",
   "metadata": {},
   "source": [
    "##### 修改列表元素\n",
    "列表具有可改变（mutable）的性质, 即可修改其内部数据元素。并不是每种序列都具有可改变的性质。后面讲的元组，也是序列之一种，但其具有不可改变（immutable）的性质，其内部元素是固定的，不可修改。\n",
    "\n",
    "1. 增加\n",
    "用+可以拼接序列。"
   ]
  },
  {
   "cell_type": "code",
   "execution_count": 24,
   "metadata": {},
   "outputs": [
    {
     "ename": "TypeError",
     "evalue": "can only concatenate list (not \"str\") to list",
     "output_type": "error",
     "traceback": [
      "\u001b[0;31m---------------------------------------------------------------------------\u001b[0m",
      "\u001b[0;31mTypeError\u001b[0m                                 Traceback (most recent call last)",
      "\u001b[0;32m<ipython-input-24-6723bd102879>\u001b[0m in \u001b[0;36m<module>\u001b[0;34m\u001b[0m\n\u001b[1;32m      3\u001b[0m \u001b[0;34m'Hello, '\u001b[0m \u001b[0;34m+\u001b[0m \u001b[0;34m'world!'\u001b[0m\u001b[0;34m\u001b[0m\u001b[0;34m\u001b[0m\u001b[0m\n\u001b[1;32m      4\u001b[0m \u001b[0;31m# TypeError, you cannot concatenate different type of lists\u001b[0m\u001b[0;34m\u001b[0m\u001b[0;34m\u001b[0m\u001b[0;34m\u001b[0m\u001b[0m\n\u001b[0;32m----> 5\u001b[0;31m \u001b[0;34m[\u001b[0m\u001b[0;36m1\u001b[0m\u001b[0;34m,\u001b[0m \u001b[0;36m2\u001b[0m\u001b[0;34m,\u001b[0m \u001b[0;36m3\u001b[0m\u001b[0;34m]\u001b[0m \u001b[0;34m+\u001b[0m \u001b[0;34m'world!'\u001b[0m\u001b[0;34m\u001b[0m\u001b[0;34m\u001b[0m\u001b[0m\n\u001b[0m",
      "\u001b[0;31mTypeError\u001b[0m: can only concatenate list (not \"str\") to list"
     ]
    }
   ],
   "source": [
    "# 示例：增加列表元素\n",
    "[1, 2, 3] + [4, 5, 6]\n",
    "'Hello, ' + 'world!'\n",
    "# TypeError, you cannot concatenate different type of lists\n",
    "[1, 2, 3] + 'world!'"
   ]
  },
  {
   "cell_type": "markdown",
   "metadata": {},
   "source": [
    "2. 倍增\n",
    "用*可以倍增拼接序列。"
   ]
  },
  {
   "cell_type": "code",
   "execution_count": 25,
   "metadata": {},
   "outputs": [
    {
     "name": "stdout",
     "output_type": "stream",
     "text": [
      "\n",
      "                        +-----------------------------+\n",
      "                        |                             |\n",
      "                        |He is a very naughty boy.    |\n",
      "                        |                             |\n",
      "                        +-----------------------------+\n"
     ]
    }
   ],
   "source": [
    "# 1.\n",
    "'python' * 5\n",
    "[42] * 10\n",
    "[None] * 10\n",
    "\n",
    "# 2. prints a sentence in a centered \"box\" of correct width\n",
    "# sentence = input('Input a Sentence:')\n",
    "sentence = 'He is a very naughty boy.'\n",
    "\n",
    "screen_width = 80\n",
    "text_width = len(sentence)\n",
    "box_width = text_width + 6\n",
    "left_margin = (screen_width - box_width) // 2\n",
    "\n",
    "print()\n",
    "print(' ' * left_margin + '+' + '-' * (box_width - 2) + '+')\n",
    "print(' ' * left_margin + '|' + ' ' * text_width      + '    |')\n",
    "print(' ' * left_margin + '|' +       sentence        + '    |')\n",
    "print(' ' * left_margin + '|' + ' ' * text_width      + '    |')\n",
    "print(' ' * left_margin + '+' + '-' * (box_width - 2) + '+')"
   ]
  },
  {
   "cell_type": "markdown",
   "metadata": {},
   "source": [
    "3. 赋值修改\n",
    "给某个索引位置赋值，修改列表一个元素。赋值给超范围索引，则报错。"
   ]
  },
  {
   "cell_type": "code",
   "execution_count": 26,
   "metadata": {},
   "outputs": [],
   "source": [
    "x = [1, 1, 1]\n",
    "x[1] = 2\n",
    "x\n",
    "\n",
    "y = []\n",
    "# x[42] = 'Foobar'  #  IndexError"
   ]
  },
  {
   "cell_type": "markdown",
   "metadata": {},
   "source": [
    "4. 切片赋值\n",
    "切片赋值是给若干个连续位置赋值，修改列表多个元素。"
   ]
  },
  {
   "cell_type": "code",
   "execution_count": 27,
   "metadata": {},
   "outputs": [
    {
     "data": {
      "text/plain": [
       "[1, 5]"
      ]
     },
     "execution_count": 27,
     "metadata": {},
     "output_type": "execute_result"
    }
   ],
   "source": [
    "name = list('perl')\n",
    "name\n",
    "name[2:] = list('ar')\n",
    "name\n",
    "\n",
    "a = list('Perl')\n",
    "a[1:] = list('ython')\n",
    "a\n",
    "\n",
    "# equal to insert \n",
    "n = [1, 5]\n",
    "n[1:1] = [2, 3, 4]\n",
    "n\n",
    "\n",
    "# equal to delete\n",
    "n[1:4] = [] # del n[1:4]\n",
    "n"
   ]
  },
  {
   "cell_type": "markdown",
   "metadata": {},
   "source": [
    "##### 删除元素\n",
    "删除元素后，该元素消失，列表的长度随之改变。"
   ]
  },
  {
   "cell_type": "code",
   "execution_count": 28,
   "metadata": {},
   "outputs": [
    {
     "data": {
      "text/plain": [
       "2"
      ]
     },
     "execution_count": 28,
     "metadata": {},
     "output_type": "execute_result"
    }
   ],
   "source": [
    "len(x)\n",
    "del x[1]\n",
    "x\n",
    "len(x)"
   ]
  },
  {
   "cell_type": "markdown",
   "metadata": {},
   "source": [
    "##### 归属\n",
    "使用关键字in检查元素值是否属于列表，结果返回布尔值。"
   ]
  },
  {
   "cell_type": "code",
   "execution_count": 29,
   "metadata": {},
   "outputs": [
    {
     "name": "stdout",
     "output_type": "stream",
     "text": [
      "Access granted!\n"
     ]
    }
   ],
   "source": [
    "# 示例：元素归属\n",
    "# 1.\n",
    "p = 'rw'\n",
    "'w' in p\n",
    "'x' in p\n",
    "'x' not in p\n",
    "\n",
    "# 2. Check a user name and PIN code\n",
    "database = [\n",
    "    ['albert', '1234'],\n",
    "    ['dilbert', '4242'],\n",
    "    ['smith' '7524'],\n",
    "    ['jones', '9843'],\n",
    "]\n",
    "\n",
    "# username = input('User Name: ')\n",
    "# pin = input('PIN code: ')\n",
    "username = 'jones'\n",
    "pin = '9843'\n",
    "if [username, pin] in database:\n",
    "    print('Access granted!')\n",
    "else:\n",
    "    print('Access denied!')"
   ]
  },
  {
   "cell_type": "markdown",
   "metadata": {},
   "source": [
    "##### 其他常用列表函数\n",
    "numbers = [100, 34, 678]\n",
    "len(numbers)\n",
    "max(numbers)\n",
    "min(numbers)\n",
    "zip()\n",
    "enumerate()\n",
    "reversed(seq)\n",
    "sorted(seq)\n",
    "tuple(seq)"
   ]
  },
  {
   "cell_type": "markdown",
   "metadata": {},
   "source": [
    "#### 列表方法\n",
    "方法是一种特殊函数，是紧密依附（绑定）于某个对象的函数。调用方法，语法上有特定的要求。调用方法的语法为：object.method(arguments)，必须指明其依附的对象。列表方法依附于列表对象，使用列表方法必须指明该方法操作的列表。使用列表方法能访问和修改列表内容，完成的任务与列表函数相似。\n",
    "1. index\n",
    "index()方法获取指定元素首次出现的索引，若该元素不存在于列表内，则报错。其功能是以值求索引，与以索引求值互为逆操作。"
   ]
  },
  {
   "cell_type": "code",
   "execution_count": 32,
   "metadata": {},
   "outputs": [
    {
     "ename": "ValueError",
     "evalue": "'herring' is not in list",
     "output_type": "error",
     "traceback": [
      "\u001b[0;31m---------------------------------------------------------------------------\u001b[0m",
      "\u001b[0;31mValueError\u001b[0m                                Traceback (most recent call last)",
      "\u001b[0;32m<ipython-input-32-8703be7bf0e3>\u001b[0m in \u001b[0;36m<module>\u001b[0;34m\u001b[0m\n\u001b[1;32m      1\u001b[0m \u001b[0mknights\u001b[0m \u001b[0;34m=\u001b[0m \u001b[0;34m[\u001b[0m\u001b[0;34m'we'\u001b[0m\u001b[0;34m,\u001b[0m \u001b[0;34m'are'\u001b[0m\u001b[0;34m,\u001b[0m \u001b[0;34m'the'\u001b[0m\u001b[0;34m,\u001b[0m \u001b[0;34m'knights'\u001b[0m\u001b[0;34m,\u001b[0m \u001b[0;34m'who'\u001b[0m\u001b[0;34m,\u001b[0m \u001b[0;34m'we'\u001b[0m\u001b[0;34m,\u001b[0m\u001b[0;34m'say'\u001b[0m\u001b[0;34m,\u001b[0m \u001b[0;34m'ni'\u001b[0m\u001b[0;34m]\u001b[0m\u001b[0;34m\u001b[0m\u001b[0;34m\u001b[0m\u001b[0m\n\u001b[1;32m      2\u001b[0m \u001b[0mknights\u001b[0m\u001b[0;34m.\u001b[0m\u001b[0mindex\u001b[0m\u001b[0;34m(\u001b[0m\u001b[0;34m'we'\u001b[0m\u001b[0;34m)\u001b[0m\u001b[0;34m\u001b[0m\u001b[0;34m\u001b[0m\u001b[0m\n\u001b[0;32m----> 3\u001b[0;31m \u001b[0mknights\u001b[0m\u001b[0;34m.\u001b[0m\u001b[0mindex\u001b[0m\u001b[0;34m(\u001b[0m\u001b[0;34m'herring'\u001b[0m\u001b[0;34m)\u001b[0m\u001b[0;34m\u001b[0m\u001b[0;34m\u001b[0m\u001b[0m\n\u001b[0m\u001b[1;32m      4\u001b[0m \u001b[0mknights\u001b[0m\u001b[0;34m.\u001b[0m\u001b[0mindex\u001b[0m\u001b[0;34m(\u001b[0m\u001b[0;34m'who'\u001b[0m\u001b[0;34m)\u001b[0m\u001b[0;34m\u001b[0m\u001b[0;34m\u001b[0m\u001b[0m\n\u001b[1;32m      5\u001b[0m \u001b[0;34m\u001b[0m\u001b[0m\n",
      "\u001b[0;31mValueError\u001b[0m: 'herring' is not in list"
     ]
    }
   ],
   "source": [
    "knights = ['we', 'are', 'the', 'knights', 'who', 'we','say', 'ni']\n",
    "knights.index('we')\n",
    "knights.index('herring')\n",
    "knights.index('who')\n",
    "\n",
    "knights[4] # see the difference"
   ]
  },
  {
   "cell_type": "markdown",
   "metadata": {},
   "source": [
    "2. count\n",
    "count()计算元素在列表中出现的总次数，即元素频次。"
   ]
  },
  {
   "cell_type": "code",
   "execution_count": 37,
   "metadata": {},
   "outputs": [
    {
     "data": {
      "text/plain": [
       "1"
      ]
     },
     "execution_count": 37,
     "metadata": {},
     "output_type": "execute_result"
    }
   ],
   "source": [
    "['to', 'be', 'or', 'not', 'to', 'be'].count('to')\n",
    "\n",
    "x = [[1,2], 1, 1, [2, 1, [1, 2]]]\n",
    "x.count(1)\n",
    "x.count([1, 2])"
   ]
  },
  {
   "cell_type": "markdown",
   "metadata": {},
   "source": [
    "3. insert\n",
    "insert()将一个元素增加到列表指定位置。"
   ]
  },
  {
   "cell_type": "code",
   "execution_count": 38,
   "metadata": {},
   "outputs": [
    {
     "data": {
      "text/plain": [
       "[1, 2, 3, 'Five', 'four', 4, 5, 6, 7]"
      ]
     },
     "execution_count": 38,
     "metadata": {},
     "output_type": "execute_result"
    }
   ],
   "source": [
    "numbers = [1,2,3,4,5,6,7]\n",
    "numbers.insert(3, 'four')\n",
    "numbers\n",
    "\n",
    "# slicing could be used to do what insert does\n",
    "numbers[3:3] = ['Five']\n",
    "numbers"
   ]
  },
  {
   "cell_type": "markdown",
   "metadata": {},
   "source": [
    "4. append\n",
    "append()方法也是向列表末尾增加元素，其操作是所谓“就地改变(change the list in place)”。其含义是，直接修改原列表对象。优点是快、节省空间，缺点是丢失了原对象。如果\\ append 操作失误，相当于没有备份原列表，没办法撤销误操作。如果原列表保存了很重要的数据，使用本方法一定要慎之又慎。"
   ]
  },
  {
   "cell_type": "code",
   "execution_count": 39,
   "metadata": {},
   "outputs": [
    {
     "data": {
      "text/plain": [
       "[1, 2, 3, 4]"
      ]
     },
     "execution_count": 39,
     "metadata": {},
     "output_type": "execute_result"
    }
   ],
   "source": [
    "lst = [1, 2, 3]\n",
    "lst.append(4)\n",
    "lst"
   ]
  },
  {
   "cell_type": "markdown",
   "metadata": {},
   "source": [
    "5. extend\n",
    "extend()允许一次增加若干新元素。调用该语法后，原列表对象扩展为新列表对象，也就就地改变。"
   ]
  },
  {
   "cell_type": "code",
   "execution_count": 40,
   "metadata": {},
   "outputs": [],
   "source": [
    "a = [1, 2, 3]\n",
    "b = [4, 5, 6]\n",
    "a.extend(b)  # a has changed in place\n",
    "\n",
    "# compare\n",
    "a + b\n",
    "a  # a does not change\n",
    "a = a + b # a has changed\n",
    "\n",
    "# slicing could be used to do what extend does.\n",
    "a = [1, 2, 3]\n",
    "b = [4, 5, 6]\n",
    "a[len(a):] = b"
   ]
  },
  {
   "cell_type": "markdown",
   "metadata": {},
   "source": [
    "6. pop\n",
    "pop()从列表末尾或指定位置（默认是末尾）删除一个元素，并返回这个元素的值。pop方法是列表方法中唯一一个既修改列表又返回值（非None值）的方法。pop方法可用于实现栈。"
   ]
  },
  {
   "cell_type": "code",
   "execution_count": 41,
   "metadata": {},
   "outputs": [
    {
     "data": {
      "text/plain": [
       "[2]"
      ]
     },
     "execution_count": 41,
     "metadata": {},
     "output_type": "execute_result"
    }
   ],
   "source": [
    "x = [1, 2, 3]\n",
    "x.pop()\n",
    "x\n",
    "x.pop(0)  # remove specific value\n",
    "x"
   ]
  },
  {
   "cell_type": "markdown",
   "metadata": {},
   "source": [
    "7. remove\n",
    "remove()删除某元素，当列表中有多个元素值相同时，只删除第一次出现的元素。\\ remove() 是所谓“就地改变而不返回值(nonreturning in-placechanging)”的方法，它与pop正相反，它修改了列表，但不返回值。这种静默修改，不会给出提示，很容易让人忽略列表发生的改变。因此，要小心使用该方法时，留意它的这种副作用。"
   ]
  },
  {
   "cell_type": "code",
   "execution_count": 42,
   "metadata": {},
   "outputs": [
    {
     "data": {
      "text/plain": [
       "['to', 'or', 'not', 'to', 'be']"
      ]
     },
     "execution_count": 42,
     "metadata": {},
     "output_type": "execute_result"
    }
   ],
   "source": [
    "x = ['to', 'be', 'or', 'not', 'to', 'be']\n",
    "x.remove('be')\n",
    "x\n",
    "# note the secone 'be'"
   ]
  },
  {
   "cell_type": "markdown",
   "metadata": {},
   "source": [
    "8. sort\n",
    "sort()方法是就地排序，排序后改变了原列表，没有生成新列表对象。与函数sorted对比，sorted是生成新列表对象。"
   ]
  },
  {
   "cell_type": "code",
   "execution_count": 43,
   "metadata": {},
   "outputs": [
    {
     "data": {
      "text/plain": [
       "[1, 2, 4, 6, 7, 9]"
      ]
     },
     "execution_count": 43,
     "metadata": {},
     "output_type": "execute_result"
    }
   ],
   "source": [
    "  # 1.\n",
    "x = [4, 6, 2, 1, 7, 9]\n",
    "y = x.sort()\n",
    "x\n",
    "y # None\n",
    "  # s is sorted and y is None\n",
    "\n",
    "  # 2. to reserve the original x, we need to make a copy of x\n",
    "x = [4, 6, 2, 1, 7, 9]\n",
    "y = x[:]  # make a copy of the original\n",
    "y.sort()  # sort\n",
    "x\n",
    "y\n",
    "\n",
    "  # 3. y = x is not the option, which binds x,y to the same object\n",
    "y=x\n",
    "y.sort()\n",
    "x\n",
    "y\n",
    "\n",
    "  # 4. Another way is to use `sorted` function\n",
    "x\n",
    "y = sorted(x)\n",
    "x\n",
    "y"
   ]
  },
  {
   "cell_type": "markdown",
   "metadata": {},
   "source": [
    "9. 扩展排序\n",
    "sort()方法有两个可选参数: key, reverse。这两个是关键字参数，设置这两个参数可以改变sort()方法的行为。"
   ]
  },
  {
   "cell_type": "code",
   "execution_count": 44,
   "metadata": {},
   "outputs": [
    {
     "name": "stdout",
     "output_type": "stream",
     "text": [
      "['aardvark', 'abalone', 'acme', 'add', 'aerate']\n",
      "['add', 'acme', 'aerate', 'abalone', 'aardvark']\n",
      "[9, 7, 6, 4, 2, 1]\n",
      "['aardvark', 'abalone', 'aerate', 'acme', 'add']\n"
     ]
    }
   ],
   "source": [
    "# 1. \n",
    "x = ['aardvark', 'abalone', 'acme', 'add', 'aerate']\n",
    "x.sort()  \n",
    "print(x)\n",
    "\n",
    "# 2.\n",
    "x = ['aardvark', 'abalone', 'acme', 'add', 'aerate']\n",
    "x.sort(key=len) # sort by the length of the elements ascent\n",
    "                # high-order function\n",
    "print(x)\n",
    "                 \n",
    "   # 3.\n",
    "x = [4, 6, 2, 1, 7, 9]\n",
    "x.sort(reverse=True)  # descent\n",
    "print(x)\n",
    "\n",
    "  # 4.\n",
    "x = ['aardvark', 'abalone', 'acme', 'add', 'aerate']\n",
    "x.sort(key=len, reverse=True)  # both by length and descent\n",
    "print(x)"
   ]
  },
  {
   "cell_type": "markdown",
   "metadata": {},
   "source": [
    "#### 列表推导\n",
    "- 列表是Python最常用的数据类型，而在列表技术中，列表推导（list comprehension）是常用的编程技术\n",
    "- 列表推导就一个目的：生成列表\n",
    "- 其技术功能类似循环，却十分简洁，在很多地方取代了循环\n",
    "\n",
    "下例的算法尽管紧凑，但可读性很差。这种情况下，首选用循环来描述算法，因为清晰简洁，可读性、可维护性更好。因此，面对具体问题，选择循环还是列表推导完成任务，不能一概而论，须视情况而定。"
   ]
  },
  {
   "cell_type": "code",
   "execution_count": 45,
   "metadata": {},
   "outputs": [
    {
     "data": {
      "text/plain": [
       "[2,\n",
       " 3,\n",
       " 5,\n",
       " 7,\n",
       " 11,\n",
       " 13,\n",
       " 17,\n",
       " 19,\n",
       " 23,\n",
       " 29,\n",
       " 31,\n",
       " 37,\n",
       " 41,\n",
       " 43,\n",
       " 47,\n",
       " 53,\n",
       " 59,\n",
       " 61,\n",
       " 67,\n",
       " 71,\n",
       " 73,\n",
       " 79,\n",
       " 83,\n",
       " 89,\n",
       " 97]"
      ]
     },
     "execution_count": 45,
     "metadata": {},
     "output_type": "execute_result"
    }
   ],
   "source": [
    "# 练习：列表推导\n",
    "\n",
    "# 1.\n",
    "alist = [x*x for x in range(10)]\n",
    "\n",
    "al = []\n",
    "for x in range(10):\n",
    "    al.append(x*x)\n",
    "\n",
    "# 2. list comprehension with condition\n",
    "b_list = [x*x for x in range(10) if x % 3 == 0]\n",
    "\n",
    "# 3. list comprehension creating tuple\n",
    "c_list = [(x, y) for x in range(3) for y in range(3)]\n",
    "\n",
    "result = []\n",
    "for x in range(3):\n",
    "    for y in range(3):\n",
    "        result.append((x, y))\n",
    "\n",
    "# 4. create a list by list comprehension with two smaller lists\n",
    "girls = ['alice', 'bernice', 'clarice']\n",
    "boys = ['chris', 'arnold', 'bob']\n",
    "[b + '+' + g for b in boys for g in girls if b[0] == g[0]]\n",
    "\n",
    "# 5. flat a nested list\n",
    "vec = [[1, 2, 3], [4, 5, 6], [7, 8, 9]]\n",
    "[num for elem in vec for num in elem]\n",
    "\n",
    "# 6. calsulate prime numbers less than 100, like a function\n",
    "import math\n",
    "[p for p in range(2, 100) if 0 not in\n",
    " [p % d for d in range(2, int(math.sqrt(p) + 1))]]"
   ]
  },
  {
   "cell_type": "markdown",
   "metadata": {},
   "source": [
    "#### 字典\n",
    "- 字典是映射数据类型\n",
    "- 映射中数据元素值没有整数索引，使用键作为索引访问元素值。\n",
    "- “键（key）：值（value）”组成的对（pair）称为项（items）。字典是由无序的项组成的集合，要求键必须唯一，不重复，值不必唯一。键只能由不可修改的数据类型充任，比如字符串、数字、元组\n",
    "- 字典界定符为花括号{ ，键值用冒号（：）分隔，项用逗号（，）分隔\n",
    "- 如果元组的元素是可改变的数据类型，比如，元组的元素是列表，那么这种元组不能充任键\n",
    "- 列表不能充任键。因为，以可改变类型充任键，意味着键值可以修改，一旦修改键，无法保证修改键与字典中的其他键不冲突，有可能破坏键的唯一性。\n",
    "\n",
    "1. 创建字典\n",
    "使用dict()函数可以将其他字典或（键:值）对序列元素创建为字典。"
   ]
  },
  {
   "cell_type": "code",
   "execution_count": 50,
   "metadata": {},
   "outputs": [
    {
     "data": {
      "text/plain": [
       "{}"
      ]
     },
     "execution_count": 50,
     "metadata": {},
     "output_type": "execute_result"
    }
   ],
   "source": [
    "# 1. use {  : , to create a dict\n",
    "d = {'Adam' : 24, 'Bob': 19 }\n",
    "\n",
    "# 2. ues dict() fucntion\n",
    "items = [('name', 'Adam'), ('age', 42)]\n",
    "d = dict(items)\n",
    "\n",
    "# 3. use optional arguments\n",
    "# d = dict(name='Adam', age=42) \n",
    "d\n",
    "d['name']\n",
    "\n",
    "# 4. use list\n",
    "k = ['a', 'b', 'c', 'd']\n",
    "v = [1, 2, 3, 4]\n",
    "di = dict(zip(k,v))\n",
    "di\n",
    "\n",
    "# 5. create empty dict\n",
    "x = dict()\n",
    "x"
   ]
  },
  {
   "cell_type": "markdown",
   "metadata": {},
   "source": [
    "2. 查找元素\n",
    "字典查找元素是通过查找键，进而查到值。我们熟悉的变量，即是一种字典，通过变量名字访问变量的绑定值。"
   ]
  },
  {
   "cell_type": "code",
   "execution_count": 63,
   "metadata": {},
   "outputs": [],
   "source": [
    "a = (1, 2, 3, 4, 5)  #  global\n",
    "b = 'Hello, world.'  #  global\n",
    "\n",
    "def demo():\n",
    "    a = 3            #  local\n",
    "    b = [1, 2, 3]    #  local\n",
    "    print('locals:', locals())\n",
    "    print('globals:', globals())\n",
    "\n",
    "# demo()"
   ]
  },
  {
   "cell_type": "markdown",
   "metadata": {},
   "source": [
    "通过例子，比较下列表和字典异同。 例：有一本电话簿如下，以列表方式实现查找电话号。"
   ]
  },
  {
   "cell_type": "code",
   "execution_count": 54,
   "metadata": {},
   "outputs": [
    {
     "data": {
      "text/plain": [
       "'3158'"
      ]
     },
     "execution_count": 54,
     "metadata": {},
     "output_type": "execute_result"
    }
   ],
   "source": [
    "names = ['Alice', 'Beth', 'Cecil', 'Dee-Dee', 'Earl','Frank','Gary',\n",
    "  'Henrry', 'Ivan', 'Jack', 'Karl', 'Leon', 'Monty', 'Nash', 'Owen', 'Peter']\n",
    "numbers = ['2341', '9102', '3158', '0142', '5551', '1908', '3392',\n",
    "  '4872', '1874', '2354', '4081' ,'3158','3201','8282', '6372', '2019']\n",
    "\n",
    "# find Cecil's number\n",
    "numbers[2]  # numbers[names.index('Cecil')]\n",
    "\n",
    "# What's Leon's number?"
   ]
  },
  {
   "cell_type": "markdown",
   "metadata": {},
   "source": [
    "用列表实现的电话簿，查找电话号方式不符合习惯，人们熟悉的查找方式是用键（名字）找值（电话号），形如：phonebook['Cecil']，也希望用这种方式查电话号。使用字典可以达到这种效果。\n",
    "\n",
    "我们修改例子，以字典方式实现查找电话号。"
   ]
  },
  {
   "cell_type": "code",
   "execution_count": 59,
   "metadata": {},
   "outputs": [
    {
     "data": {
      "text/plain": [
       "'3258'"
      ]
     },
     "execution_count": 59,
     "metadata": {},
     "output_type": "execute_result"
    }
   ],
   "source": [
    "# create a dictionary\n",
    "phonebook = {'Alice': '2341', 'Beth':'9102',\n",
    "    'Cecil': '3258', 'Dee-Dee': '0142', 'Earl': '5551' }\n",
    "\n",
    "  # find Cecil's and Leon's number\n",
    "phonebook['Cecil']\n",
    "# phonebook['Leon']"
   ]
  },
  {
   "cell_type": "markdown",
   "metadata": {},
   "source": [
    "##### 常用字典函数\n",
    "- len(dict)  返回项个数\n",
    "- dict[key]  返回键对应的值\n",
    "- dict[key] = value  将值value与键key对应起来，相当于向字典增加一个项\n",
    "- del dict[key]  根据键key删除项\n",
    "- key in dict  检查以key为键的项是否归属字典dict\n",
    "\n",
    "观察例子和各自的函数，可归纳出字典与列表的区别：\n",
    " -  字典的键不必是整数，可以是任意不可修改类型的数据\n",
    " -  字典自动增长，依据键给项赋值时，只要字典中尚没有该键，Python会自动给字典创建一项。列表，如果超出索引范围，无法赋值\n",
    " -  键必须唯一，值不必唯一\n",
    " -  字典归属操作，查找的是键，而非值。列表归属操作value in list查找的是值，而不是索引"
   ]
  },
  {
   "cell_type": "code",
   "execution_count": 60,
   "metadata": {},
   "outputs": [
    {
     "name": "stdout",
     "output_type": "stream",
     "text": [
      "{'name': 'Adam', 'age': 39}\n",
      "None\n"
     ]
    },
    {
     "data": {
      "text/plain": [
       "{}"
      ]
     },
     "execution_count": 60,
     "metadata": {},
     "output_type": "execute_result"
    }
   ],
   "source": [
    "# 练习：电话簿\n",
    "# 1.\n",
    "d = {}\n",
    "d['name'] = 'Adam'\n",
    "d['age'] = 39\n",
    "print(d)\n",
    "rv = d.clear()\n",
    "print(rv)\n",
    "\n",
    "# 2.\n",
    "# first scenario\n",
    "x = {}\n",
    "y = x\n",
    "x['key'] = 'value'\n",
    "y\n",
    "x = {}\n",
    "y\n",
    "\n",
    "# second scenario\n",
    "x = {}\n",
    "y = x\n",
    "x['key'] = 'value'\n",
    "y\n",
    "x.clear()\n",
    "y"
   ]
  },
  {
   "cell_type": "markdown",
   "metadata": {},
   "source": [
    "##### 字典推导\n",
    "字典也有推导式，注意与列表推导的区别。使用字典推导的目的，是为了创建字典。"
   ]
  },
  {
   "cell_type": "code",
   "execution_count": 61,
   "metadata": {},
   "outputs": [
    {
     "data": {
      "text/plain": [
       "{'A': 'Alice', 'B': 'Bob', 'C': 'Cecil', 'D': 'David'}"
      ]
     },
     "execution_count": 61,
     "metadata": {},
     "output_type": "execute_result"
    }
   ],
   "source": [
    "# 练习：　字典推导\n",
    "{i: str(i) for i in range(1, 5)}\n",
    "\n",
    "x = ['A', 'B', 'C', 'D']\n",
    "y = ['Alice', 'Bob', 'Cecil', 'David']\n",
    "{i: j for i, j in zip(x, y)}"
   ]
  },
  {
   "cell_type": "markdown",
   "metadata": {},
   "source": [
    "##### 字典方法\n",
    "回想下，函数与方法的异同。\n",
    "\n",
    "1. clear\n",
    "清除所有字典项。这是个就地(in-place)操作，返回值为None。如果目的是删除字典的所有项，必须使用clear()方法。"
   ]
  },
  {
   "cell_type": "code",
   "execution_count": 64,
   "metadata": {},
   "outputs": [
    {
     "name": "stdout",
     "output_type": "stream",
     "text": [
      "{'name': 'Adam', 'age': 39}\n",
      "None\n"
     ]
    },
    {
     "data": {
      "text/plain": [
       "{}"
      ]
     },
     "execution_count": 64,
     "metadata": {},
     "output_type": "execute_result"
    }
   ],
   "source": [
    "# 练习: clear\n",
    "# 1.\n",
    "d = {}\n",
    "d['name'] = 'Adam'\n",
    "d['age'] = 39\n",
    "print(d)\n",
    "rv = d.clear()\n",
    "print(rv)\n",
    "\n",
    "# 2.\n",
    "# first scenario\n",
    "x = {}\n",
    "y = x\n",
    "x['key'] = 'value'\n",
    "y\n",
    "x = {}\n",
    "y\n",
    "\n",
    "# second scenario\n",
    "x = {}\n",
    "y = x\n",
    "x['key'] = 'value'\n",
    "y\n",
    "x.clear()\n",
    "y"
   ]
  },
  {
   "cell_type": "markdown",
   "metadata": {},
   "source": [
    "2. copy\n",
    "浅复制（shallow copy），复制后，原件、复件变量名称不同，却绑定到同一个值。"
   ]
  },
  {
   "cell_type": "code",
   "execution_count": 66,
   "metadata": {},
   "outputs": [
    {
     "data": {
      "text/plain": [
       "{'username': 'admin', 'machines': ['foo', 'baz']}"
      ]
     },
     "execution_count": 66,
     "metadata": {},
     "output_type": "execute_result"
    }
   ],
   "source": [
    "#练习：　shallow copy\n",
    "# use pytutor to show the difference\n",
    "x = {'username': 'admin', 'machines': ['foo', 'bar', 'baz']}\n",
    "y = x.copy()\n",
    "y['username'] = 'mlh'\n",
    "y['machines'].remove('bar')\n",
    "y\n",
    "x"
   ]
  },
  {
   "cell_type": "markdown",
   "metadata": {},
   "source": [
    "通过例子，可以知道：\n",
    "-  替换复件中的值，原件不受影响，如username\n",
    "-  修改值（就地修改，而非替换），则原件受影响，如machines。因为他们的指向同一个值存储在同一个位置\n",
    "-  避免出现浅复制问题的办法是进行深复制（deep copy），拷贝值，同时拷贝值里面嵌套包含的值\n",
    "-  copy模块中的deepcopy函数完成深复制任务\n"
   ]
  },
  {
   "cell_type": "code",
   "execution_count": 69,
   "metadata": {},
   "outputs": [
    {
     "data": {
      "text/plain": [
       "{'names': ['Albert', 'Bob']}"
      ]
     },
     "execution_count": 69,
     "metadata": {},
     "output_type": "execute_result"
    }
   ],
   "source": [
    "#练习：深复制\n",
    "from copy import deepcopy\n",
    "\n",
    "d = {}\n",
    "d['names'] = ['Albert', 'Bob']\n",
    "c = d.copy()\n",
    "dc = deepcopy(d)\n",
    "d['names'].append('Clive')\n",
    "c\n",
    "dc"
   ]
  },
  {
   "cell_type": "markdown",
   "metadata": {},
   "source": [
    "> 阅读材料\n",
    "[辨析深浅复制文章 1](https://docs.python.org/2/library/copy.html)\n",
    "[辨析深浅复制文章 2](https://www.quora.com/What-is-deep-copy-and-shallow-copy-in-Python)"
   ]
  },
  {
   "cell_type": "markdown",
   "metadata": {},
   "source": [
    "3. fromkeys\n",
    "fromkeys()根据给定的键，创建新字典，这些键对应的值默认均为None。"
   ]
  },
  {
   "cell_type": "code",
   "execution_count": 70,
   "metadata": {},
   "outputs": [
    {
     "data": {
      "text/plain": [
       "{'name': '(unknown)', 'age': '(unknown)'}"
      ]
     },
     "execution_count": 70,
     "metadata": {},
     "output_type": "execute_result"
    }
   ],
   "source": [
    "{}.fromkeys(['name', 'age'])\n",
    "\n",
    "dict.fromkeys(['name', 'age'])\n",
    "\n",
    "# provide default values\n",
    "dict.fromkeys(['name', 'age'], '(unknown)')"
   ]
  },
  {
   "cell_type": "markdown",
   "metadata": {},
   "source": [
    "4. get\n",
    "get()是访问字典项的方法，它的特点是忽视错误。一般，如果访问的项不在字典里，会报错。而get方法不报错，当然，想报错的话，允许自定义错误提示。"
   ]
  },
  {
   "cell_type": "code",
   "execution_count": 75,
   "metadata": {},
   "outputs": [
    {
     "name": "stdin",
     "output_type": "stream",
     "text": [
      "Phone number(p) or address(a)? 3344\n"
     ]
    },
    {
     "name": "stdout",
     "output_type": "stream",
     "text": [
      "Cecil's Both Phone number and address is not available.\n"
     ]
    }
   ],
   "source": [
    "# 练习：用get方法重写电话簿\n",
    "# A simple database\n",
    "people = {\n",
    "    'Alice': {\n",
    "        'phone': '2341',\n",
    "        'addr': 'Foo drive 23'\n",
    "    },\n",
    "\n",
    "    'Beth': {\n",
    "        'phone': '9102',\n",
    "        'addr': 'Bar street 42'\n",
    "    },\n",
    "\n",
    "    'Cecil': {\n",
    "        'phone': '3158',\n",
    "        'addr': 'Baz avenue 90'\n",
    "    }\n",
    "}\n",
    "labels = {\n",
    "    'phone': 'phone number',\n",
    "    'addr': 'address'\n",
    "}\n",
    "# name = input('Name:')\n",
    "name = 'Cecil'\n",
    "request = input('Phone number(p) or address(a)?')\n",
    "if request == 'p':\n",
    "    key = 'phone'\n",
    "elif request == 'a':\n",
    "    key = 'addr'\n",
    "else:\n",
    "    key = 'Phone number and address'\n",
    "# Use get to provide default values:\n",
    "person = people.get(name, {})\n",
    "label = labels.get(key,key)\n",
    "result = person.get(key, 'not available')\n",
    "\n",
    "if name in people:\n",
    "    print(\"%s's %s is %s.\" % (name, label, result))"
   ]
  },
  {
   "cell_type": "markdown",
   "metadata": {},
   "source": [
    "4. key in dict (has_key()在python3中已删除。)\n",
    "- 检查字典中是否有某个键。\n",
    "- 面对多个方法、函数、编程技术可用时，选用适用即可\n",
    "- 掌握多种实现方式可以更好地读懂别人的代码\n",
    "- 当其他程序员使用按他们兴趣选出的方法、函数，我们能通过读懂代码，理解他们的意图"
   ]
  },
  {
   "cell_type": "code",
   "execution_count": 8,
   "metadata": {},
   "outputs": [
    {
     "name": "stdout",
     "output_type": "stream",
     "text": [
      "world\n"
     ]
    }
   ],
   "source": [
    "d = {}\n",
    "if 'name' in d:\n",
    "    print('hello')\n",
    "d['name'] = 'Eric'\n",
    "if 'name' in d:\n",
    "    print('world')"
   ]
  },
  {
   "cell_type": "markdown",
   "metadata": {},
   "source": [
    "5. items\n",
    "\n",
    "items()返回一个列表，该列表包含字典所有项，返回值没有特定顺序。"
   ]
  },
  {
   "cell_type": "code",
   "execution_count": 12,
   "metadata": {},
   "outputs": [
    {
     "data": {
      "text/plain": [
       "[('title', 'Python Web Site'), ('usl', 'http://www.python.org'), ('spam', 0)]"
      ]
     },
     "execution_count": 12,
     "metadata": {},
     "output_type": "execute_result"
    }
   ],
   "source": [
    "d = { 'title':'Python Web Site', 'usl': 'http://www.python.org', 'spam': 0 }\n",
    "d.items()\n",
    "it = d.items()\n",
    "it\n",
    "list(it)  # cast itertor into list"
   ]
  },
  {
   "cell_type": "markdown",
   "metadata": {},
   "source": [
    "6. keys\n",
    "keys()返回一个列表，列表内包含字典的键。iterkeys()返回包含字典键的iterator。\n",
    "\n",
    "7. pop\n",
    "pop()根据键返回对应的值，同时从字典中删除该项。"
   ]
  },
  {
   "cell_type": "code",
   "execution_count": 13,
   "metadata": {},
   "outputs": [
    {
     "data": {
      "text/plain": [
       "{'y': 2}"
      ]
     },
     "execution_count": 13,
     "metadata": {},
     "output_type": "execute_result"
    }
   ],
   "source": [
    "d = {'x':1, 'y':2}\n",
    "d.pop('x')\n",
    "d"
   ]
  },
  {
   "cell_type": "markdown",
   "metadata": {},
   "source": [
    "8. popitem\n",
    "popitem()从字典中弹出一个值，与列表的pop()方法不同，popitem()弹出的值，没有特定顺序，随意弹出字典一个项。如果想逐一弹出并处理字典项， 使用popitem()正合适。"
   ]
  },
  {
   "cell_type": "code",
   "execution_count": 14,
   "metadata": {},
   "outputs": [
    {
     "data": {
      "text/plain": [
       "{'title': 'Python Web Site', 'usl': 'http://www.python.org'}"
      ]
     },
     "execution_count": 14,
     "metadata": {},
     "output_type": "execute_result"
    }
   ],
   "source": [
    "d = {\n",
    "    'title': 'Python Web Site',\n",
    "    'usl': 'http://www.python.org',\n",
    "    'spam': 0\n",
    "}\n",
    "d.popitem()\n",
    "d"
   ]
  },
  {
   "cell_type": "markdown",
   "metadata": {},
   "source": [
    "9. setdefault\n",
    "setdefault()从字典中据键取值，当键在字典中不存在时，setdefault()可以给该键一个默认值，相当于错误提示。"
   ]
  },
  {
   "cell_type": "code",
   "execution_count": 15,
   "metadata": {},
   "outputs": [
    {
     "data": {
      "text/plain": [
       "{'name': 'Gumby'}"
      ]
     },
     "execution_count": 15,
     "metadata": {},
     "output_type": "execute_result"
    }
   ],
   "source": [
    "d = {}\n",
    "d.setdefault('name', 'N/A')\n",
    "d\n",
    "d['name'] = 'Gumby'\n",
    "d.setdefault('name', 'N/A')\n",
    "d"
   ]
  },
  {
   "cell_type": "markdown",
   "metadata": {},
   "source": [
    "10. update\n",
    "update()根据键更新值。"
   ]
  },
  {
   "cell_type": "code",
   "execution_count": 16,
   "metadata": {},
   "outputs": [
    {
     "data": {
      "text/plain": [
       "{'title': 'Python Language Website',\n",
       " 'usl': 'http://www.python.org',\n",
       " 'changed': 'Jan 30 11:15:15 Met 2018'}"
      ]
     },
     "execution_count": 16,
     "metadata": {},
     "output_type": "execute_result"
    }
   ],
   "source": [
    "d = {\n",
    "    'title': 'Python Web Site',\n",
    "    'usl': 'http://www.python.org',\n",
    "    'changed': 'Jan 30 11:15:15 Met 2018'\n",
    "  }\n",
    "x = {'title': 'Python Language Website'}\n",
    "d.update(x)\n",
    "d"
   ]
  },
  {
   "cell_type": "markdown",
   "metadata": {},
   "source": [
    "11. values\n",
    "values()返回一个列表， 列表包含字典的值。\n",
    "d = {}\n",
    "d[1] = 1\n",
    "d[2] = 2\n",
    "d[3] = 3\n",
    "d[4] = 1\n",
    "d.values()"
   ]
  },
  {
   "cell_type": "markdown",
   "metadata": {},
   "source": [
    "#### 元组\n",
    " -  元组和列表一样是序列数据类型，区别在于，元组的元素不可改变)\n",
    " -  元组以（）为界定符，以逗号（，）为分隔符\n",
    " -  创建单元素元组，必须在这单个元素后加“，”，创建元组的符号中，逗号是关键，仅有括号不起作用\n",
    " -  序列解包实际上是对元组元素赋值（x, y, z） = 1, 2, 3\n",
    " -  元组没有类似列表的方法，因它无须增加、修改、删除。"
   ]
  },
  {
   "cell_type": "markdown",
   "metadata": {},
   "source": [
    "##### 创建元组"
   ]
  },
  {
   "cell_type": "code",
   "execution_count": 17,
   "metadata": {},
   "outputs": [
    {
     "name": "stdout",
     "output_type": "stream",
     "text": [
      "('a', 'b', 'c', 'd', 'e', 'f', 'g')\n"
     ]
    }
   ],
   "source": [
    "at = ('a',)\n",
    "atu = ('a', 'b', 'mpilgrim', 'z', 'example')\n",
    "autp = ()  #  empty tuple\n",
    "\n",
    "a = (3)\n",
    "a = 3,  # create a tuple with one single element, comma must be suffixed!\n",
    "\n",
    "a = 1, 2\n",
    "\n",
    "# note the difference\n",
    "3 * (40+2)\n",
    "3 * (40+2,)\n",
    "\n",
    "print(tuple('abcdefg'))\n",
    "al = [-1 ,-4, 6, 7.5, -2.3, 9, -11]\n",
    "tuple(al)\n",
    "s = tuple\n",
    "\n",
    "del s  #  delete tuple, you cannot delete elements of a tuple"
   ]
  },
  {
   "cell_type": "markdown",
   "metadata": {},
   "source": [
    "##### 元组操作\n",
    "- 用索引和切片访问元组元素\n",
    "- 元组用途：可用作映射的键；可用作内置函数和方法的返回值\n",
    "- 元组中数据一旦定义就不允许更改。访问和处理元组速度比列表快， 如果定义一系列常量值，主要用于遍历元组元素，而不需要对元素进行修改，那么建议使用元组而不用列表\n",
    "\n",
    "> 特殊情况：虽元组元素不可改变，但若元组元素为可变序列，如列表，情况有所不同。见下例。"
   ]
  },
  {
   "cell_type": "code",
   "execution_count": 76,
   "metadata": {},
   "outputs": [
    {
     "data": {
      "text/plain": [
       "([5, 2, 8], 3)"
      ]
     },
     "execution_count": 76,
     "metadata": {},
     "output_type": "execute_result"
    }
   ],
   "source": [
    "x = ([1, 2], 3)\n",
    "x[0][0] = 5\n",
    "x\n",
    "\n",
    "x[0].append(8)\n",
    "x"
   ]
  },
  {
   "cell_type": "markdown",
   "metadata": {},
   "source": [
    "##### 序列解包\n",
    "表达式和语句一节，讲过序列解包，再看几个例子。可以对列表、元组等序列类型进行解包。"
   ]
  },
  {
   "cell_type": "code",
   "execution_count": 19,
   "metadata": {},
   "outputs": [
    {
     "name": "stdout",
     "output_type": "stream",
     "text": [
      "a 1\n",
      "b 2\n",
      "c 3\n",
      "d 4\n"
     ]
    }
   ],
   "source": [
    "keys = ['a', 'b', 'c', 'd']\n",
    "values = [1, 2, 3, 4]\n",
    "for k, v in zip(keys, values):\n",
    "    print(k, v)\n",
    "\n",
    "vt = (False, 3.5, 'exp')\n",
    "(x, y, z) = vt"
   ]
  },
  {
   "cell_type": "markdown",
   "metadata": {},
   "source": [
    "##### 生成器推导\n",
    "将列表推导、字典推导的语法套用在元组上，写出的推导式，不叫元组推导，而叫作生成器推导。\n",
    "- 生成器推导（generator comprehension）使用圆括号界定推导式\n",
    "- 列表推导式的结果是列表对象，字典推导的结果是字典，生成器推导式的结果却不是列表，不是字典，也不是元组，而是生成器对象（generator）\n",
    "- 生成器是较新的技术"
   ]
  },
  {
   "cell_type": "code",
   "execution_count": 20,
   "metadata": {},
   "outputs": [
    {
     "name": "stdout",
     "output_type": "stream",
     "text": [
      "162536496481100121"
     ]
    }
   ],
   "source": [
    "g = ((i+2)**2 for i in range(10))\n",
    "g\n",
    "tuple(g)\n",
    "list(g)\n",
    "\n",
    "g = ((i+2)**2 for i in range(10))\n",
    "g.__next__()\n",
    "g.__next__()\n",
    "for i in g:\n",
    "    print(i, end='')"
   ]
  },
  {
   "cell_type": "markdown",
   "metadata": {},
   "source": [
    "#### 集合\n",
    "集合是一种不同于序列和映射的数据类型。集合中元素是无序的，元素不重复，唯一。集合使用花括号{}做界定符。\n",
    "\n",
    "##### 主要方法：创建、修改、删除"
   ]
  },
  {
   "cell_type": "code",
   "execution_count": 77,
   "metadata": {},
   "outputs": [],
   "source": [
    "a = {3, 5}  # create use curly braces\n",
    "aset = set(range(8, 14))  # use set()\n",
    "\n",
    "bset = set([0, 1, 2, 3, 0, 1, 2, 3, 7, 8]) # delete the repeats while create setd \n",
    "c = set()  #  empty set\n",
    " \n",
    "a = {1, 4, 2, 3}\n",
    "a.pop()  \n",
    "a.add(7) \n",
    "a.remove(3)  \n",
    "a.clear() \n",
    "  \n",
    "del a "
   ]
  },
  {
   "cell_type": "markdown",
   "metadata": {},
   "source": [
    "##### 集合运算\n",
    "集合支持交、并、差集等运算"
   ]
  },
  {
   "cell_type": "code",
   "execution_count": 22,
   "metadata": {},
   "outputs": [
    {
     "data": {
      "text/plain": [
       "True"
      ]
     },
     "execution_count": 22,
     "metadata": {},
     "output_type": "execute_result"
    }
   ],
   "source": [
    "a = set([8, 9, 10, 11, 12, 13])\n",
    "b = set([0, 1, 2, 3, 7, 8])\n",
    "\n",
    "a | b   \n",
    "a.union(b)\n",
    "\n",
    "a & b    \n",
    "a.intersection(b)  \n",
    "a.difference(b) \n",
    "a.symmetric_difference(b) \n",
    "\n",
    "x = {1, 2, 3}\n",
    "y = {1, 2, 5}\n",
    "z = {1, 2, 3, 4}\n",
    "\n",
    "#  comparision\n",
    "x < y\n",
    "x < z\n",
    "y < z\n",
    "\n",
    "#  is sub set\n",
    "x.issubset(y)\n",
    "x.issubset(z)"
   ]
  },
  {
   "cell_type": "code",
   "execution_count": 29,
   "metadata": {},
   "outputs": [
    {
     "name": "stdout",
     "output_type": "stream",
     "text": [
      "100\n",
      "99\n",
      "99\n"
     ]
    }
   ],
   "source": [
    "# 练习：生成随机数\n",
    "# 要求：取100个介于0-9999之间的随机数。\n",
    "from random import randint\n",
    "listRandom = [randint(0, 9999) for i in range(100)]\n",
    "\n",
    "noRepeat = []\n",
    "for i in listRandom:\n",
    "    if i not in noRepeat:\n",
    "        noRepeat.append(i)\n",
    "\n",
    "print(len(listRandom))\n",
    "print(len(noRepeat))\n",
    "\n",
    "# By using set, one line of code do the job\n",
    "newSet = set(listRandom)\n",
    "print(len(newSet))"
   ]
  },
  {
   "cell_type": "markdown",
   "metadata": {},
   "source": [
    "#### 再学字符串\n",
    "字符串是不可修改序列数据类型（Strings are immutable sequence of Unicode points）。\n",
    "\n",
    "##### 基本操作\n",
    "所有序列操作索引、切片、倍增、归属、求长度、最大、最小值等均适用于字符串。但所有赋值操作均不适用，因为字符串不可修改。"
   ]
  },
  {
   "cell_type": "code",
   "execution_count": 78,
   "metadata": {},
   "outputs": [],
   "source": [
    "website = 'http://www.python.org'\n",
    "# website[-3:] = 'com'  # Type error"
   ]
  },
  {
   "cell_type": "markdown",
   "metadata": {},
   "source": [
    "##### 格式化字符串\n",
    "1. 传统方式\n",
    "字符串格式化适用格式化操作符， 百分号(%)。\n",
    "- 百分号左侧放待格式化字符串，右侧放置待格式化的值\n",
    "- 常见格式字符，有\\%s，\\%d, \\%e, \\%f, \\%\\%等。\n",
    "- 值可以是单个值，如字符串、数字，也可以是元组和字典，元组常用"
   ]
  },
  {
   "cell_type": "code",
   "execution_count": 79,
   "metadata": {},
   "outputs": [
    {
     "name": "stdout",
     "output_type": "stream",
     "text": [
      "Hello, world. Hot enough for ya?\n",
      "Pi with three decimals: 3.142\n"
     ]
    }
   ],
   "source": [
    "format = \"Hello, %s. %s enough for ya?\"\n",
    "values = ('world', 'Hot')\n",
    "print(format % values)\n",
    "\n",
    "s = \"Pi with three decimals: %.3f\"\n",
    "from math import pi\n",
    "print(s % pi)"
   ]
  },
  {
   "cell_type": "markdown",
   "metadata": {},
   "source": [
    "上例中，%s部分称为转换部分（conversion specifiers）。完整的转换部分包括5个成分，其值和顺序决定了以何种格式输出。\n",
    "- %标识转换部分开始\n",
    "- 转换标志flag，决定是否左对齐，数值是否带正负号\n",
    "- 最小宽度\n",
    "- 精度\n",
    "- 转换类型"
   ]
  },
  {
   "cell_type": "code",
   "execution_count": 81,
   "metadata": {},
   "outputs": [
    {
     "name": "stdout",
     "output_type": "stream",
     "text": [
      "   10\n",
      "  -10\n",
      "  +10\n",
      "  -10\n"
     ]
    },
    {
     "name": "stdin",
     "output_type": "stream",
     "text": [
      "Please enter width:  5\n"
     ]
    },
    {
     "name": "stdout",
     "output_type": "stream",
     "text": [
      "=====\n",
      "Item      Price\n",
      "-----\n",
      "Apples      0.40\n",
      "Pears      0.50\n",
      "Cantaloupes      1.92\n",
      "Dried Apricots (16 oz.)      8.00\n",
      "Prunes (4 libs.)     12.00\n",
      "=====\n"
     ]
    }
   ],
   "source": [
    "# 练习： 格式化输出字符串\n",
    "# 1.\n",
    "'Price of eggs: $%d' % 42\n",
    "'Hexadecimal price of eggs: %x' % 42\n",
    "\n",
    "# 2.\n",
    "from math import pi\n",
    "'Pi: %f...' % pi\n",
    "'Very inexact estimate of pi: %i' % pi  # signed integer %i, %d\n",
    "'Using str: %s' % 42\n",
    "\n",
    "# 3.\n",
    "'%10f' % pi  # width 10\n",
    "'%10.2f' % pi  # width 10, precision 2 demicals after point\n",
    "'%.2f' % pi  # default width, 2 decimals after point\n",
    "'%.5s' % 'Guido van Rossum'\n",
    "\n",
    "# 4. * can be used as wdith, precision or both,\n",
    "'%.*s' % (5, 'Guido van Rossum')\n",
    "\n",
    "# 5.\n",
    "# '010.2f' % pi  # flag: 0, -, +, or space, 0 is a placeholder\n",
    "'%-10.2f' % pi  # - align left\n",
    "print(('% 5d' % 10) + '\\n' + ('% 5d' % - 10))  # space for alignment\n",
    "print(('%+5d' % 10) + '\\n' + ('%+5d' % - 10))  # show + symbol\n",
    "\n",
    "# 6. print a formatted price list with a given width\n",
    "\n",
    "width = int(input('Please enter width: '))\n",
    "\n",
    "price_width = 10\n",
    "item_width = width - price_width\n",
    "\n",
    "header_format = '%-*s%*s'\n",
    "format = '%-*s%*.2f'\n",
    "\n",
    "print('=' * width)\n",
    "print(header_format % (item_width, 'Item', price_width, 'Price'))\n",
    "\n",
    "print('-' * width)\n",
    "print(format % (item_width, 'Apples', price_width, 0.4))\n",
    "print(format % (item_width, 'Pears', price_width, 0.5))\n",
    "print(format % (item_width, 'Cantaloupes', price_width, 1.92))\n",
    "print(format % (item_width, 'Dried Apricots (16 oz.)', price_width, 8))\n",
    "print(format % (item_width, 'Prunes (4 libs.)', price_width, 12))\n",
    "\n",
    "print('=' * width)"
   ]
  },
  {
   "cell_type": "markdown",
   "metadata": {},
   "source": [
    "2. 主流方式\n",
    "- 使用\\pyth{str.format(argument list)}方法格式化字符串\n",
    "- 该方法使用{}和:代替传统的\\%对字符串进行格式化\n",
    "- 该方法可以使用位置、参数名字对字符串进行格式化，且支持序列解包"
   ]
  },
  {
   "cell_type": "code",
   "execution_count": 82,
   "metadata": {},
   "outputs": [
    {
     "data": {
      "text/plain": [
       "'2010-07-04 12:15:58'"
      ]
     },
     "execution_count": 82,
     "metadata": {},
     "output_type": "execute_result"
    }
   ],
   "source": [
    "# 练习：格式化输出字符串2\n",
    "# The code is taken from\n",
    "# https://docs.python.org/3.6/library/string.html#template-strings\n",
    "\n",
    "# 1. positional formatting\n",
    "'{0}, {1}, {2}'.format('a', 'b', 'c')\n",
    "\n",
    "'{}, {}, {}'.format('a', 'b', 'c')  # 3.1+ only\n",
    "\n",
    "'{2}, {1}, {0}'.format('a', 'b', 'c')\n",
    "\n",
    "'{2}, {1}, {0}'.format(*'abc')      # unpacking argument sequence\n",
    "\n",
    "'{0}{1}{0}'.format('abra', 'cad')   # arguments' indices can be repeated\n",
    "\n",
    "\n",
    "# 2. formatting according to the argument's names\n",
    "'Coordinates: {latitude}, {longitude}'.format(latitude='37.24N',\n",
    "                                              longitude='-115.81W')\n",
    "\n",
    "coord = {'latitude': '37.24N', 'longitude': '-115.81W'}\n",
    "'Coordinates: {latitude}, {longitude}'.format(**coord)\n",
    "\n",
    "\n",
    "# 3. formatting the attributes of arguments\n",
    "c = 3-5j\n",
    "('The complex number {0} is formed from the real part {0.real} '\n",
    " 'and the imaginary part {0.imag}.').format(c)\n",
    "\n",
    "\n",
    "class Point:\n",
    "\n",
    "    def __init__(self, x, y):\n",
    "        self.x, self.y = x, y\n",
    "\n",
    "    def __str__(self):\n",
    "        return 'Point({self.x}, {self.y})'.format(self=self)\n",
    "\n",
    "\n",
    "str(Point(4, 2))\n",
    "\n",
    "# 4. formatting elements of the arguments\n",
    "coord = (3, 5)\n",
    "'X: {0[0]};  Y: {0[1]}'.format(coord)\n",
    "\n",
    "# 5. output as string\n",
    "\"repr() shows quotes: {!r}; str() doesn't: {!s}\".format('test1', 'test2')\n",
    "\n",
    "# 6. alignment and width\n",
    "'{:<30}'.format('left aligned')\n",
    "\n",
    "'{:>30}'.format('right aligned')\n",
    "\n",
    "'{:^30}'.format('centered')\n",
    "\n",
    "'{:*^30}'.format('centered')  # use '*' as a fill char\n",
    "\n",
    "# 7. floating numbers and sign\n",
    "'{:+f}; {:+f}'.format(3.14, -3.14)  # show it always\n",
    "\n",
    "'{: f}; {: f}'.format(3.14, -3.14)  # show a space for positive numbers\n",
    "\n",
    "# show only the minus -- # same as '{:f}; {:f}'\n",
    "'{:-f}; {:-f}'.format(3.14, -3.14)\n",
    "\n",
    "# 8. delimination of thousand\n",
    "'{:,}'.format(1234567890)\n",
    "\n",
    "# 9. formatting date\n",
    "import datetime\n",
    "d = datetime.datetime(2010, 7, 4, 12, 15, 58)\n",
    "'{:%Y-%m-%d %H:%M:%S}'.format(d)"
   ]
  },
  {
   "cell_type": "markdown",
   "metadata": {},
   "source": [
    "3. 新出现方式f-string\n",
    "这部分内容留给同学们自学。\n",
    "[f-string](https://docs.python.org/3/reference/lexical_analysis.html#f-strings)"
   ]
  },
  {
   "cell_type": "markdown",
   "metadata": {},
   "source": [
    "##### 格式化输出字典\n",
    "这里顺道讲下字典这种数据类型的格式化输出。"
   ]
  },
  {
   "cell_type": "code",
   "execution_count": 33,
   "metadata": {},
   "outputs": [
    {
     "name": "stdout",
     "output_type": "stream",
     "text": [
      "Cecil's phone number is 3258.\n"
     ]
    }
   ],
   "source": [
    "phonebook = {'Alice': '2341', 'Beth':'9102', 'Cecil': '3258', 'Dee-Dee': '0142', 'Earl': '5551'}\n",
    "# find the number of Cecil's\n",
    "print(\"Cecil's phone number is %(Cecil)s.\" % phonebook)"
   ]
  },
  {
   "cell_type": "markdown",
   "metadata": {},
   "source": [
    "##### 字符串方法\n",
    "字符串的方法比列表方法更丰富，语法为object.method(arguments)。\n",
    "\n",
    "- find\n",
    "在字符串中查找子串，若找到返回子串的第一个字符索引，若没找到则返回-1。\n",
    "\n",
    "本节给出一些与所讲字符串方法功能相近，又有一些细微差别的方法。留给同学们自学。\n",
    "rfind(), index(), rindex(), count(), startswith(), endswith()"
   ]
  },
  {
   "cell_type": "code",
   "execution_count": 83,
   "metadata": {},
   "outputs": [
    {
     "data": {
      "text/plain": [
       "-1"
      ]
     },
     "execution_count": 83,
     "metadata": {},
     "output_type": "execute_result"
    }
   ],
   "source": [
    "'With a moo-moo here, and a moo-moo there'.find('moo')\n",
    "\n",
    "title = 'Monty Python\"s Flying circus'\n",
    "title.find('Monty')\n",
    "title.find('Flying')\n",
    "title.find('Zirquss')"
   ]
  },
  {
   "cell_type": "markdown",
   "metadata": {},
   "source": [
    "- replace\n",
    "替换字符串。\n",
    "\n",
    "自学: translate(), expandtabs()"
   ]
  },
  {
   "cell_type": "code",
   "execution_count": 84,
   "metadata": {},
   "outputs": [
    {
     "data": {
      "text/plain": [
       "'Theez eez a test'"
      ]
     },
     "execution_count": 84,
     "metadata": {},
     "output_type": "execute_result"
    }
   ],
   "source": [
    "'This is a test'.replace('is', 'eez')"
   ]
  },
  {
   "cell_type": "markdown",
   "metadata": {},
   "source": [
    "- join\n",
    "非常重要的方法，与split()互为反操作，将序列元素拼接为字符串。"
   ]
  },
  {
   "cell_type": "code",
   "execution_count": 86,
   "metadata": {},
   "outputs": [
    {
     "name": "stdout",
     "output_type": "stream",
     "text": [
      "C:\\usr\\bin\\env\n",
      "\\usr\\bin\\env\n"
     ]
    },
    {
     "data": {
      "text/plain": [
       "'12345'"
      ]
     },
     "execution_count": 86,
     "metadata": {},
     "output_type": "execute_result"
    }
   ],
   "source": [
    "seq = [1, 2, 3, 4, 5]\n",
    "sep = '+'\n",
    "# sep.join(seq)  # type error\n",
    "\n",
    "seq = ['1', '2', '3', '4', '5']\n",
    "sep.join(seq)\n",
    "\n",
    "dirs = '', 'usr', 'bin', 'env'\n",
    "'/'.join(dirs)\n",
    "print('C:' + '\\\\'.join(dirs))\n",
    "print('\\\\'.join(dirs))  # how about this?\n",
    "\n",
    "''.join(seq)"
   ]
  },
  {
   "cell_type": "markdown",
   "metadata": {},
   "source": [
    "- split\n",
    "非常重要方法，与join()互为反操作，将字符串分割为序列。\n",
    "\n",
    "自学: rsplit(), splitlines()"
   ]
  },
  {
   "cell_type": "code",
   "execution_count": 87,
   "metadata": {},
   "outputs": [
    {
     "data": {
      "text/plain": [
       "['Using', 'the', 'defalut']"
      ]
     },
     "execution_count": 87,
     "metadata": {},
     "output_type": "execute_result"
    }
   ],
   "source": [
    "'1+2+3+4+5'.split('+')  # designate + as deliminator\n",
    "'/usr/bin/env'.split('/')  # /\n",
    "# default deliminator is whitespace including spaces, tabs, and newlines\n",
    "'Using the defalut'.split()"
   ]
  },
  {
   "cell_type": "markdown",
   "metadata": {},
   "source": [
    "- lower\n",
    "返回字符串小写形式。\n",
    "islower(), capitalize(), swapcase(), title(), istitle(), upper(), isupper()"
   ]
  },
  {
   "cell_type": "code",
   "execution_count": 88,
   "metadata": {},
   "outputs": [
    {
     "name": "stdout",
     "output_type": "stream",
     "text": [
      "Found it!\n"
     ]
    }
   ],
   "source": [
    "'Trodheim Hammer Dance'.lower()\n",
    "\n",
    "if 'Gumby' in ['gumby', 'smith', 'jone']:\n",
    "    print('Found it!')\n",
    "\n",
    "name = 'Gumby'\n",
    "names = ['gumby', 'smith', 'jones']\n",
    "if name.lower() in names:\n",
    "    print('Found it!')"
   ]
  },
  {
   "cell_type": "markdown",
   "metadata": {},
   "source": [
    "- strip\n",
    "清除字符串左端和右端空白，或指定字符。仅清除两端，字符串中间的空白或字符不受影响。"
   ]
  },
  {
   "cell_type": "code",
   "execution_count": 35,
   "metadata": {},
   "outputs": [
    {
     "data": {
      "text/plain": [
       "' SPAM * for * every one'"
      ]
     },
     "execution_count": 35,
     "metadata": {},
     "output_type": "execute_result"
    }
   ],
   "source": [
    "'internal whitespace is kept '.strip()\n",
    "'*** SPAM * for * every one!!!***'.strip('*!') #  delete *!"
   ]
  },
  {
   "cell_type": "markdown",
   "metadata": {},
   "source": [
    "#### 其他高级数据结构\n",
    "Python支持许多高级数据结构，只是这些数据结构不再是内置的，而由工具包支持。使用这些数据结构，需要引入相应的包。较常使用的有如下几种。\n",
    "\\begin{itemize}\n",
    "-  堆 \\pyth{import heapq}\n",
    "-  队列 \\pyth{import Queue}\n",
    "-  栈和链表，用列表模拟\n",
    "-  其他高级数据类型，通过import collectoins引入[容器类型](https://docs.python.org/3/library/collections.html?highlight=collections#module-collections)"
   ]
  },
  {
   "cell_type": "markdown",
   "metadata": {},
   "source": [
    "### 第五章 函数\n",
    "我们已经学习了以基本和高级数据类型为代表的算子、各种运算符、由算子运算符组合而成的表达式、语句、以及控制语句流向的控制结构。本章学习如何将所有这些内容组织成函数，构成相对完整的程序，用以完成任务。函数可以一次编写，反复使用，避免重复写代码。重复的代码，意味着，重复劳动。维护重复的代码，修改一处，必得处处修改，才能保持一致。重复的代码非常不利于维护。对程序员而言，其职业特质之一就是：懒，意指站在巨人肩膀上，不做无谓的重复工作。而既不重复工作，又保证工作进度的主要手段，就是代码重用(reusable)。\n",
    "\n",
    "#### 从问题抽象出函数\n",
    "实现代码重用的方式，与解决问题一样，是抽象。抽象是使人能理解计算机程序的关键步骤。对计算机而言， 再多的代码都无所谓，越详细越好。人却不行，人的思维方式必须用抽象、分治的方式降低事物复杂度，才能理解，然后予以解决。设计程序也应该遵循人的思维方式，抽象一点。\n",
    "\n",
    "模块化编程最重要部分就是记录方法的用法，撰写供他人参考的文档。api使得调用、实现分离，方便代码重用。\n",
    "\n",
    "比如，设计程序完成“统计网页上出现的词的词频”这个任务。我们考虑下，大致要做这样几件事：下载网页，统计网页中的词频，输出词与对应的频率。这样描述，理解起来很容易，转成Python也很容易。\n",
    "\n",
    "<pre>\n",
    "  # psuedo code\n",
    "  page = download_page()\n",
    "  freqs = compute_frequencies(page)\n",
    "  for word, freq in freqs:\n",
    "  print(word, freq)\n",
    "</pre>\n",
    "\n",
    "等等！有同学会问，那如何下载网页，如何统计等等。似乎很多细节问题都没有解决。是的！但请注意，您的注意力现在应放在完成整体任务上，也就是“统计网页上出现的词的词频”这个任务上。为完成这个任务 ，您需要下载网页及其他子任务。而如何下载网页与整体任务没有那么直接的联系，可以，留到整体任务变为“下载网页”时，再予考虑。在考虑高层整体任务时，如果陷到类似如何下载网页的细节问题中去，很可能不会有一个整体的解决框架。设计程序时，首先告诉计算机做什么，而暂不考虑如何做。如何做要放到函数定义中。这就是抽象，抽象的意义在于，向使用者隐藏所有实现细节，仅提供函数签名作为接口（或称协议）。Python中的协议，指控制行为的规则。\n",
    "\n",
    "通过这个例子，能观察到，伪码与Python语言的转换十分自然流畅。\n",
    "\n",
    "#### 定义和调用\n",
    "使用函数的方法是调用，调用后，函数执行某些语句，返回值。在Python中可以调用的事物称为可被调用（callable）。函数是典型的可被调用。Python共有七个可被调用实体。\n",
    "\n",
    "-  用户定义的函数 user-defined functions\n",
    "-  内置函数 built-in functions\n",
    "-  内置方法 built-in methods\n",
    "-  类方法 methods\n",
    "-  类 classes\n",
    "-  类实例 Class instances \n",
    "-  生成器 Generator\n",
    "\n",
    "下面例子演示如何判断一个对象是否是可被调用。"
   ]
  },
  {
   "cell_type": "code",
   "execution_count": 37,
   "metadata": {},
   "outputs": [
    {
     "data": {
      "text/plain": [
       "<method-wrapper '__call__' of builtin_function_or_method object at 0x7f019efc9e10>"
      ]
     },
     "execution_count": 37,
     "metadata": {},
     "output_type": "execute_result"
    }
   ],
   "source": [
    "import math\n",
    "x  = 1\n",
    "y = math.sqrt  # note no\n",
    "# x.__call__ # error\n",
    "y.__call__"
   ]
  },
  {
   "cell_type": "markdown",
   "metadata": {},
   "source": [
    "结构化程序设计，最核心的事情就是创建函数和使用函数。 一般，先写代码结构，再填空。以至于有人说，写程序不难，就是填空。看下面这个例子。\n",
    "<pre>\n",
    "def 函数名(参数列表):\n",
    "    \"\"\"\n",
    "    docstring： 函数说明，说明功能，算法，参数个数、类型，返回值等。\n",
    "    \"\"\"\n",
    "    #  注释\n",
    "\n",
    "    代码块（函数体）\n",
    "    1. 输入 input\n",
    "    2. 处理\n",
    "    3. 输出\n",
    "\n",
    "    return 返回值\n",
    "</pre>\n",
    "我们以编程实现计算斐波那契函数为例，尝试填下空。"
   ]
  },
  {
   "cell_type": "code",
   "execution_count": 43,
   "metadata": {},
   "outputs": [
    {
     "data": {
      "text/plain": [
       "[0, 1, 1, 2, 3, 5, 8, 13, 21, 34, 55, 89, 144, 233, 377]"
      ]
     },
     "execution_count": 43,
     "metadata": {},
     "output_type": "execute_result"
    }
   ],
   "source": [
    "# 函数的定义\n",
    "def fibs(num):\n",
    "    \"\"\"Calculate fibonacci nubmers\n",
    "\n",
    "　　 num: length of the output\n",
    "    \"\"\"\n",
    "\n",
    "    # １．初始化及输入\n",
    "    result = [0, 1]\n",
    "\n",
    "    # 2.处理\n",
    "    for i in range(num - 2):\n",
    "        result.append(result[-2] + result[-1])  \n",
    "    # 3.输出返回值\n",
    "    return result\n",
    "\n",
    "# 函数的调用\n",
    "fibs(10)\n",
    "fibs(15)"
   ]
  },
  {
   "cell_type": "markdown",
   "metadata": {},
   "source": [
    "docstring与功能无关，没有它程序依然可以执行。但程序员都十分重视它，普遍认为其重要程度不啻于代码。在撰写文档背后的想法叫作：程序文档化，即程序是自解释的。试下面两个命令。"
   ]
  },
  {
   "cell_type": "code",
   "execution_count": 44,
   "metadata": {},
   "outputs": [
    {
     "name": "stdout",
     "output_type": "stream",
     "text": [
      "Help on function fibs in module __main__:\n",
      "\n",
      "fibs(num)\n",
      "    Calculate fibonacci nubmers\n",
      "    \n",
      "    num: length of the output\n",
      "\n"
     ]
    }
   ],
   "source": [
    "fibs.__doc__\n",
    "help(fibs)"
   ]
  },
  {
   "cell_type": "markdown",
   "metadata": {},
   "source": [
    "#### 返回值\n",
    "从表面看，函数可以返回值，也可以不返回值，可写return某值，也可以不写return语句。实际上所有函数都返回值，当表面什么都不返回时，实际返回的是None值。"
   ]
  },
  {
   "cell_type": "code",
   "execution_count": null,
   "metadata": {},
   "outputs": [],
   "source": [
    "def test():\n",
    "    print('This is printed')\n",
    "    return\n",
    "    print('This is not')\n",
    "\n",
    "x = test()\n",
    "print(x)  # None"
   ]
  },
  {
   "cell_type": "markdown",
   "metadata": {},
   "source": [
    "#### Python程序文件名\n",
    "函数保存到以py为扩展名的文件中。与Python有关的程序文件扩展名如下。\n",
    "- py: python源文件，文本文件，由解释器解释执行\n",
    "- pyc: python字节码文件，二进制文件，用于隐藏python源代码和提高运行速度。python模块第一次被引入时将被编译成字节码文件，以后再次导入时，优先使用.pyc文件，提高加载和运行模块速度\n",
    "- pyw: python源文件，常用于图形界面程序"
   ]
  },
  {
   "cell_type": "markdown",
   "metadata": {},
   "source": [
    "### 参数\n",
    "定义函数时圆括号内用逗号界定形式参数（formal parameters）列表。调用函数时，调用者向函数传递实际参数（arguments）。函数通过参数得到外界值，参数可视为函数的输入。"
   ]
  },
  {
   "cell_type": "code",
   "execution_count": null,
   "metadata": {},
   "outputs": [],
   "source": [
    "def try_to_change(n):\n",
    "    n = 'Mr.Gumby'\n",
    "\n",
    "name = 'Mrs. Entity'\n",
    "try_to_change(name)\n",
    "name"
   ]
  },
  {
   "cell_type": "markdown",
   "metadata": {},
   "source": [
    "当参数、全局变量与函数内局部变量重名时，函数内的局部变量遮蔽（shadowing）外部的参数、局部变量或全局变量。上例的实际参数是字符串，它是不可改变类型的，如果以可改变类型数据做参数会怎样呢？看下面例子，试解释程序执行结果。"
   ]
  },
  {
   "cell_type": "code",
   "execution_count": null,
   "metadata": {},
   "outputs": [],
   "source": [
    "def change(m):\n",
    "    m[0] = 'Mr.Gumby'\n",
    "\n",
    "mlist = ['Mrs. Entity', 'Mrs. Thing']\n",
    "\n",
    "change(mlist)\n",
    "\n",
    "mlist"
   ]
  },
  {
   "cell_type": "markdown",
   "metadata": {},
   "source": [
    "前例是将值赋予局部变量，所谓“传值调用(call by value)”。本例是将列表名字（name），传给变量m，因此m和mlist两个名字，指向的是同一个列表，修改m指向的列表时，mlist所指的列表自然改变，即所谓“传引用调用(call by reference)”。\n",
    "思考:   如何将列表传递改为传值调用？"
   ]
  },
  {
   "cell_type": "markdown",
   "metadata": {},
   "source": [
    "#### 参数类型\n",
    "##### 位置参数\n",
    "位置参数（positional parameters），位置起重要作用，比参数名字更重要。"
   ]
  },
  {
   "cell_type": "code",
   "execution_count": 45,
   "metadata": {},
   "outputs": [
    {
     "name": "stdout",
     "output_type": "stream",
     "text": [
      "hello, world!!\n",
      "HELLO, WORLD!!\n"
     ]
    }
   ],
   "source": [
    "def hello1(greeting, name):\n",
    "    print('%s, %s!' % (greeting, name))\n",
    "\n",
    "def hello2(name, greeting):\n",
    "    print('%s, %s!' % (name, greeting))\n",
    "\n",
    "hello1('hello', 'world!')\n",
    "hello2('HELLO', 'WORLD!')"
   ]
  },
  {
   "cell_type": "markdown",
   "metadata": {},
   "source": [
    "可看出参数名字不甚重要，尽管参数名字不同，这两个函数做的是同一件事。"
   ]
  },
  {
   "cell_type": "markdown",
   "metadata": {},
   "source": [
    "##### 关键字参数\n",
    "当参数过多时，不容易记住参数的顺序。为了简化记忆，可以给参数起名字。关键字参数，用名字明确指示参数含义和功能。用关键字参数时，参数的位置不重要了，名字重要。"
   ]
  },
  {
   "cell_type": "code",
   "execution_count": 46,
   "metadata": {},
   "outputs": [
    {
     "name": "stdout",
     "output_type": "stream",
     "text": [
      "hEllo, world!\n",
      "hEllo, world!\n",
      "world, heLLo!\n"
     ]
    }
   ],
   "source": [
    "hello1(greeting='hEllo', name='world')\n",
    "hello1(name='world',greeting='hEllo')\n",
    "hello2(greeting='heLLo', name='world')"
   ]
  },
  {
   "cell_type": "markdown",
   "metadata": {},
   "source": [
    "使用关键字参数的函数，优势在于该函数清楚表明需要什么样的参数，有助于理解函数要表达的意思的，也防止记错参数位置。比如调用函数store('Mr.Brainsample', 10, 20, 13, 5)，很难一眼看出函数要做什么。如果改成store(patient='Mr.Brainsample',hour=10,minute=20, day=13, month=5)，几乎可以猜到该函数完成什么功能了。关键字参数另一个亮点，是在函数定义时，可定义参数默认值。如此，再也不用为少传递一个参数引起报错担心了。\n",
    "\n",
    "位置参数和关键字参数可以组合使用，用法要求位置参数在前，关键字参数在后。注意下例位置参数和关键字参数先后次序"
   ]
  },
  {
   "cell_type": "code",
   "execution_count": 47,
   "metadata": {},
   "outputs": [
    {
     "name": "stdout",
     "output_type": "stream",
     "text": [
      "world, Hello!\n",
      "Greetings, Hello!\n",
      "Greetings, universe!\n",
      "Hello, Mars!\n",
      "Howdy, Mars!\n",
      "Howdy, Mars...\n",
      "Hello, Mars.\n",
      "Top of the morning to ya, Mars!\n"
     ]
    },
    {
     "ename": "TypeError",
     "evalue": "hello5() missing 1 required positional argument: 'name'",
     "output_type": "error",
     "traceback": [
      "\u001b[0;31m---------------------------------------------------------------------------\u001b[0m",
      "\u001b[0;31mTypeError\u001b[0m                                 Traceback (most recent call last)",
      "\u001b[0;32m<ipython-input-47-ed4ca6b3f6c3>\u001b[0m in \u001b[0;36m<module>\u001b[0;34m\u001b[0m\n\u001b[1;32m     14\u001b[0m \u001b[0mhello5\u001b[0m\u001b[0;34m(\u001b[0m\u001b[0;34m'Mars'\u001b[0m\u001b[0;34m,\u001b[0m \u001b[0mpunctuation\u001b[0m\u001b[0;34m=\u001b[0m\u001b[0;34m'.'\u001b[0m\u001b[0;34m)\u001b[0m\u001b[0;34m\u001b[0m\u001b[0;34m\u001b[0m\u001b[0m\n\u001b[1;32m     15\u001b[0m \u001b[0mhello5\u001b[0m\u001b[0;34m(\u001b[0m\u001b[0;34m'Mars'\u001b[0m\u001b[0;34m,\u001b[0m \u001b[0mgreeting\u001b[0m\u001b[0;34m=\u001b[0m\u001b[0;34m'Top of the morning to ya'\u001b[0m\u001b[0;34m)\u001b[0m\u001b[0;34m\u001b[0m\u001b[0;34m\u001b[0m\u001b[0m\n\u001b[0;32m---> 16\u001b[0;31m \u001b[0mhello5\u001b[0m\u001b[0;34m(\u001b[0m\u001b[0;34m)\u001b[0m\u001b[0;34m\u001b[0m\u001b[0;34m\u001b[0m\u001b[0m\n\u001b[0m",
      "\u001b[0;31mTypeError\u001b[0m: hello5() missing 1 required positional argument: 'name'"
     ]
    }
   ],
   "source": [
    "def hello4(name='world', greeting='Hello'):\n",
    "    print('%s, %s!' % (name, greeting))\n",
    "\n",
    "hello4()\n",
    "hello4('Greetings')\n",
    "hello4('Greetings', 'universe')\n",
    "\n",
    "def hello5(name, greeting='Hello', punctuation='!'):\n",
    "    print('%s, %s%s' % (greeting, name, punctuation))\n",
    "\n",
    "hello5('Mars')\n",
    "hello5('Mars', 'Howdy')\n",
    "hello5('Mars', 'Howdy', '...')\n",
    "hello5('Mars', punctuation='.')\n",
    "hello5('Mars', greeting='Top of the morning to ya')\n",
    "# hello5()"
   ]
  },
  {
   "cell_type": "markdown",
   "metadata": {},
   "source": [
    "##### 可变长参数\n",
    "可变长参数，指有时程序员无法在定义函数时确定参数个数，因此函数必须允许用户提供任意多的参数。比如，store(data, name1, name2, name3)，此种情况应该允许提供任意多的名字。为此，要在函数定义中使用可变长参数，语法是function(\\*args),function(\\*\\* kwargs)。"
   ]
  },
  {
   "cell_type": "code",
   "execution_count": 89,
   "metadata": {},
   "outputs": [
    {
     "name": "stdout",
     "output_type": "stream",
     "text": [
      "Params:\n",
      "(1, 2, 3)\n",
      "Nothing:\n",
      "()\n"
     ]
    }
   ],
   "source": [
    "def print_params(*params):\n",
    "    print(params)\n",
    "    print_params('Testing')\n",
    "    print_params(1, 2, 3) # the argument is a tuple\n",
    "\n",
    "def print_params_2(title, *params):\n",
    "    print(title)\n",
    "    print(params)\n",
    "\n",
    "print_params_2('Params:', 1, 2, 3)\n",
    "print_params_2('Nothing:')  # get an empty tuple"
   ]
  },
  {
   "cell_type": "markdown",
   "metadata": {},
   "source": [
    "一个星号表示把余下所有的位置参数收集到一个元组里，该符号只能收集位置参数，无法收集关键字参数。"
   ]
  },
  {
   "cell_type": "code",
   "execution_count": null,
   "metadata": {},
   "outputs": [],
   "source": [
    "print_params_2('Hmm...', something=42)  # TypeError"
   ]
  },
  {
   "cell_type": "markdown",
   "metadata": {},
   "source": [
    "需要使用另外一个操作符，收集所有关键字参数。两个星号将关键字参数收集到字典里。"
   ]
  },
  {
   "cell_type": "code",
   "execution_count": 90,
   "metadata": {},
   "outputs": [
    {
     "name": "stdout",
     "output_type": "stream",
     "text": [
      "{'x': 1, 'y': 2, 'z': 3}\n",
      "1 2 3\n",
      "(4, 5, 6, 7)\n",
      "{'foo': 1, 'bar': 2}\n"
     ]
    }
   ],
   "source": [
    "def print_params_3(**params):\n",
    "    print(params)\n",
    "\n",
    "print_params_3(x=1, y=2, z=3)\n",
    "\n",
    "def print_params_4(x, y, z=3, *pospar, **keypar):\n",
    "    print(x, y, z)\n",
    "    print(pospar)\n",
    "    print(keypar)\n",
    "\n",
    "print_params_4(1, 2, 3, 4, 5, 6, 7, foo=1, bar=2)  # can you explain the result?"
   ]
  },
  {
   "cell_type": "markdown",
   "metadata": {},
   "source": [
    "#### 反向过程\n",
    "可变长参数的作用是收集参数，其反过程是将收集的参数打散分配给变量。在调用时，给参数前加星号，即可将参数分配给变量。一个星号适用于元组、列表，两个星号，适用于字典。定义函数和调用函数，仅一方使用时，才能体现可变参数优势。都使用或都不使用，体现不出优势。"
   ]
  },
  {
   "cell_type": "code",
   "execution_count": 50,
   "metadata": {},
   "outputs": [
    {
     "name": "stdout",
     "output_type": "stream",
     "text": [
      "Sir Robin, Well met!\n",
      "Mr. Adam is 23 years old\n",
      "Mr. Adam is 23 years old\n"
     ]
    }
   ],
   "source": [
    "def add(x, y):\n",
    "    return x + y\n",
    "\n",
    "params = (1, 2)\n",
    "add(*params)  #  for tuple, list\n",
    "\n",
    "params = {'name': 'Sir Robin', 'greeting': 'Well met'}\n",
    "hello2(**params)  # for dictionary\n",
    "\n",
    "# onle used in one side is good\n",
    "def with_stars(**kwds):\n",
    "    print(kwds['name'], 'is', kwds['age'], 'years old')\n",
    "\n",
    "def without_stars(kwds):\n",
    "    print(kwds['name'], 'is', kwds['age'], 'years old')\n",
    "\n",
    "args = {'name': 'Mr. Adam', 'age': 23}\n",
    "with_stars(**args)\n",
    "without_stars(args)"
   ]
  },
  {
   "cell_type": "code",
   "execution_count": 91,
   "metadata": {},
   "outputs": [
    {
     "name": "stdout",
     "output_type": "stream",
     "text": [
      "Once upon a time, there was a king called Gumby.\n",
      "Once upon a time, there was a brave knight called Sir Robin.\n",
      "Once upon a time, there was a language called Python.\n",
      "Once upon a time, there was a stroke of genius called Python.\n",
      "(5, 5)\n",
      "Received redundant parameters: ('Hello, World',)\n",
      "Received redundant parameters: (5, 6)\n"
     ]
    },
    {
     "data": {
      "text/plain": [
       "81"
      ]
     },
     "execution_count": 91,
     "metadata": {},
     "output_type": "execute_result"
    }
   ],
   "source": [
    "# 练习：函数参数\n",
    "def story(**kwds):\n",
    "    return 'Once upon a time, there was a ' \\\n",
    "    '%(job)s called %(name)s.' % kwds\n",
    "\n",
    "def power(x, y, *others):\n",
    "    if others:\n",
    "        print('Received redundant parameters:', others)\n",
    "    return pow(x,y)\n",
    "\n",
    "def interval(start, stop=None, step=1):\n",
    "    'Imitates range() for step > 0'\n",
    "    if stop is None:\n",
    "        start, stop = 0, start\n",
    "    result = []\n",
    "    i = start\n",
    "    while i < stop:\n",
    "        result.append(i)\n",
    "        i += step\n",
    "    return result\n",
    "\n",
    "print(story(job='king', name='Gumby'))\n",
    "print(story(name='Sir Robin', job='brave knight'))\n",
    "params = {'job': 'language', 'name':'Python'}\n",
    "print(story(**params))\n",
    "\n",
    "del params['job']\n",
    "params\n",
    "print(story(job='stroke of genius', **params))\n",
    "\n",
    "power(2, 3), power(3, 2)\n",
    "params = (5,) * 2\n",
    "print(params)\n",
    "power(*params)\n",
    "\n",
    "power(3,3, 'Hello, World')\n",
    "\n",
    "interval(10), interval(1,5), interval(3, 12, 4)\n",
    "\n",
    "power(*interval(3,7))"
   ]
  },
  {
   "cell_type": "markdown",
   "metadata": {},
   "source": [
    "#### 作用域、命名空间\n",
    "变量是什么？可以把变量理解为指向值的名字、标签。\\pyth{x = 1}就像字典项一样，只不过变量归属于一个“无形”的字典。内置函数\\pyth{vars}的返回值，就是这个“无形”字典。"
   ]
  },
  {
   "cell_type": "code",
   "execution_count": 92,
   "metadata": {},
   "outputs": [
    {
     "data": {
      "text/plain": [
       "2"
      ]
     },
     "execution_count": 92,
     "metadata": {},
     "output_type": "execute_result"
    }
   ],
   "source": [
    "x = 1\n",
    "scope = vars()\n",
    "scope['x']\n",
    "scope['x'] += 1\n",
    "x"
   ]
  },
  {
   "cell_type": "markdown",
   "metadata": {},
   "source": [
    "这种无形的字典称为作用域（scope）或命名空间（namespace），标识了一个变量起作用的范围。全局空间是一个命名空间，每调用一个函数都会创建一个新的命名空间，该空间内是被调用函数能使用的全部变量。所以，函数的局部变量仅在其局部命名空间中起作用。传值参数是典型的局部变量，其起作用的作用域，就是它传进的那个函数的命名空间。"
   ]
  },
  {
   "cell_type": "code",
   "execution_count": 93,
   "metadata": {},
   "outputs": [
    {
     "name": "stdout",
     "output_type": "stream",
     "text": [
      "42\n"
     ]
    }
   ],
   "source": [
    "def output(x):\n",
    "    x = 42\n",
    "    print(x)\n",
    "\n",
    "x = 1\n",
    "y = 2\n",
    "output(y)"
   ]
  },
  {
   "cell_type": "markdown",
   "metadata": {},
   "source": [
    "如果要在函数内访问全局变量怎么办？"
   ]
  },
  {
   "cell_type": "code",
   "execution_count": 52,
   "metadata": {},
   "outputs": [
    {
     "name": "stdout",
     "output_type": "stream",
     "text": [
      "Shrubberry\n"
     ]
    }
   ],
   "source": [
    "def combine(param):\n",
    "    print(param + external)\n",
    "\n",
    "external = 'berry'\n",
    "combine('Shrub')"
   ]
  },
  {
   "cell_type": "markdown",
   "metadata": {},
   "source": [
    "可以在函数内重新绑定（rebinding）变量。默认函数内变量都是局部变量，通过重新绑定，改为全局变量。写程序，应尽量减少使用全局变量，尽量不要在函数内绑定全局变量。 频繁使用全局变量是不良编程风格。"
   ]
  },
  {
   "cell_type": "code",
   "execution_count": null,
   "metadata": {},
   "outputs": [],
   "source": [
    "x = 1\n",
    "def change_g():\n",
    "    global x  \n",
    "    x = x + 1\n",
    "\n",
    "change_g()\n",
    "x"
   ]
  },
  {
   "cell_type": "markdown",
   "metadata": {},
   "source": [
    "#### 递归\n",
    "\n",
    "这部分，留给同学们自学。\n",
    "\n",
    "函数可以调用其他函数。而且，函数还可以调用自身（函数），调用自身称为递归。\n",
    "递归关键是识别出两种情况：\n",
    "- 基础情况: 最简单情况，函数直接返回值\n",
    "- 递归情况: 调用自身，但问题规模减小了"
   ]
  },
  {
   "cell_type": "code",
   "execution_count": 94,
   "metadata": {},
   "outputs": [],
   "source": [
    "# 练习：阶乘和乘方\n",
    "\n",
    "def frac(n):\n",
    "    result = n\n",
    "    for i in range(1, n):\n",
    "        result *= i\n",
    "    return result\n",
    "# + base case: the fractorial of 1 is 1\n",
    "# + recursive case: the fractorial of n greater than 1 is the product of\n",
    "#  n and the fractorial of n-1\n",
    "def frac(n):\n",
    "    if n == 1:\n",
    "        return 1\n",
    "    else:\n",
    "        return n * frac(n-1)\n",
    "    print('n in this level is %d' % n)\n",
    "\n",
    "def power(x, n):\n",
    "    result = 1\n",
    "    for i in range(n):\n",
    "        result *= x\n",
    "    return result\n",
    "\n",
    "# + power(x, 0) is 1 for all number x.\n",
    "# + power(x, n) for n > 0 is the product of x and the power(x, n-1)\n",
    "def power(x, n):\n",
    "    if n == 0:\n",
    "        return 1\n",
    "    else:\n",
    "        return x * power(x, n-1)"
   ]
  },
  {
   "cell_type": "code",
   "execution_count": 95,
   "metadata": {},
   "outputs": [
    {
     "data": {
      "text/plain": [
       "2"
      ]
     },
     "execution_count": 95,
     "metadata": {},
     "output_type": "execute_result"
    }
   ],
   "source": [
    "# 练习: 二分法\n",
    "\n",
    "def search(sequence, number, lower=0, upper=None):\n",
    "    if upper is None:\n",
    "        upper = len(sequence) - 1\n",
    "    if lower == upper:\n",
    "        assert number == sequence[upper]\n",
    "        return upper\n",
    "    else:\n",
    "        middle = (lower + upper) // 2\n",
    "        if number > sequence[middle]:\n",
    "            return search(sequence, number, middle+1, upper)\n",
    "        else:\n",
    "            return search(sequence, number, lower, middle)\n",
    "\n",
    "seq = [34, 67, 8, 123, 4, 100, 95]\n",
    "seq.sort()\n",
    "seq\n",
    "search(seq, 34)"
   ]
  },
  {
   "cell_type": "markdown",
   "metadata": {},
   "source": [
    "#### Batteries Included\n",
    "Python号称Batteries Include，意指是万能的。Python真正强大、吸引人之处在于其丰富的内置工具包及海量的第三方工具包，[pip: PYthon Package Index](https://pypi.python.org/pypi)。安装Python时自带的内置工具包称为标准库。第三发开发的称为第三方库或扩展库。这些工具包几乎让Python能完成任何工作。Python使用工具包的方式是引入工具包的模块。"
   ]
  },
  {
   "cell_type": "code",
   "execution_count": 97,
   "metadata": {},
   "outputs": [],
   "source": [
    "# hello2.py\n",
    "def hello():\n",
    "    print(\"Hello world!\")\n",
    "\n",
    "import hello2\n",
    "hello2.hello() "
   ]
  },
  {
   "cell_type": "markdown",
   "metadata": {},
   "source": [
    "模块被引入时，主要工作是声明变量、函数、类等。声明一次就够了，多次引用同一个模块，与引用一次效果相当。引入模块后，该模块会保持其作用域，该模块中定义的变量、函数、类自动成为该模块属性。"
   ]
  },
  {
   "cell_type": "code",
   "execution_count": 101,
   "metadata": {},
   "outputs": [
    {
     "name": "stdout",
     "output_type": "stream",
     "text": [
      "math\n"
     ]
    }
   ],
   "source": [
    "import math\n",
    "# print(constants.PI)\n",
    "print(math.__name__)"
   ]
  },
  {
   "cell_type": "markdown",
   "metadata": {},
   "source": [
    "模块可以被引入，也可以独立运行。独立运行时，需要告诉Python解释器，此模块是主文件"
   ]
  },
  {
   "cell_type": "code",
   "execution_count": 99,
   "metadata": {},
   "outputs": [
    {
     "name": "stdout",
     "output_type": "stream",
     "text": [
      "hello, world!\n",
      "hello world!\n"
     ]
    }
   ],
   "source": [
    "# hello3.py\n",
    "def hello():\n",
    "    print(\"hello, world!\")\n",
    "\n",
    "# a test:\n",
    "hello()\n",
    "\n",
    "# The key to avoiding it is \"telling\" the module whether it's being run\n",
    "# as a program on its own or being imported into another program.  To do\n",
    "# that,  you need the variable __name__:\n",
    "# hello4.py\n",
    "def hello():\n",
    "    print(\"hello world!\")\n",
    "\n",
    "def test():\n",
    "    hello()\n",
    "\n",
    "if __name__ == '__main__':\n",
    "    test()"
   ]
  },
  {
   "cell_type": "markdown",
   "metadata": {},
   "source": [
    "##### 工具包的安装目录\n",
    "第三方工具包一般安装在名为site-packages的目录中。"
   ]
  },
  {
   "cell_type": "code",
   "execution_count": 102,
   "metadata": {},
   "outputs": [
    {
     "name": "stdout",
     "output_type": "stream",
     "text": [
      "['/home/fred/anaconda3/lib/python36.zip',\n",
      " '/home/fred/anaconda3/lib/python3.6',\n",
      " '/home/fred/anaconda3/lib/python3.6/lib-dynload',\n",
      " '',\n",
      " '/home/fred/anaconda3/lib/python3.6/site-packages',\n",
      " '/home/fred/anaconda3/lib/python3.6/site-packages/IPython/extensions',\n",
      " '/home/fred/.ipython']\n"
     ]
    }
   ],
   "source": [
    "import sys, pprint\n",
    "pprint.pprint(sys.path)"
   ]
  },
  {
   "cell_type": "markdown",
   "metadata": {},
   "source": [
    "#### 包\n",
    "当模块多起来时，需要组织成包（package）。包也是一种模块，区别于普通模块，包可以包含普通模块。可以将包视为文件夹。一个包能从文件夹变身为Python能识别的包，它内部必须包含一个名为__init__.py的文件，该文件描述了包的内容。"
   ]
  },
  {
   "cell_type": "markdown",
   "metadata": {},
   "source": [
    "##### [程序打包](https://packaging.python.org/tutorials/packaging-projects)\n",
    "\n",
    "假设我们写好了若干模块。我们如何将自己的程序打包成二进制工具包，供他人使用呢？这涉及Python打包技术。让我们循例，给一个模块打包，并发给他人使用。\n",
    "<pre>\n",
    "/packaging_tutorial\n",
    "  /example_pkg\n",
    "    __init__.py\n",
    "</pre>\n",
    "- \\_\\_init\\_\\_.py\n",
    "\n",
    "  告诉Python，example_pkg不仅是个文件夹，而且是一个Python包。编辑\\_\\_init\\_\\_.py，写入name = \"example_pkg\"，这就是此工具包的名字。\n",
    "\n",
    "<pre>\n",
    "/packaging_tutorial\n",
    "  /example_pkg\n",
    "    __init__.py\n",
    "  setup.py\n",
    "  LICENSE\n",
    "  README.md\n",
    "</pre>\n",
    "\n",
    "- setup.py\n",
    "\n",
    "  提供了包的信息，如名字、版本、源文件等。打包工具setuptools根据该文件内的信息进行打包。练习打包时，须用自己包的信息替换模板中的信息。"
   ]
  },
  {
   "cell_type": "code",
   "execution_count": 104,
   "metadata": {},
   "outputs": [],
   "source": [
    "## setup.py\n",
    "\n",
    "import setuptools\n",
    "\n",
    "with open(\"README.md\", \"r\") as fh:\n",
    "    long_description = fh.read()\n",
    "\n",
    "setuptools.setup(\n",
    "    name=\"example-pkg-your-username\", # ffrreedd\n",
    "    version=\"0.0.1\",\n",
    "    author=\"Example Author\", # Fred\n",
    "    author_email=\"author@example.com\",\n",
    "    description=\"A small example package\",\n",
    "    long_description=long_description,\n",
    "    long_description_content_type=\"text/markdown\",\n",
    "    url=\"https://github.com/pypa/sampleproject\",\n",
    "    packages=setuptools.find_packages(),\n",
    "    classifiers=[\n",
    "        \"Programming Language :: Python :: 3\",\n",
    "        \"License :: OSI Approved :: MIT License\",\n",
    "        \"Operating System :: OS Independent\",\n",
    "    ],\n",
    ")"
   ]
  },
  {
   "cell_type": "markdown",
   "metadata": {},
   "source": [
    "- README.md\n",
    "\n",
    "用Markdown格式写的使用说明。\n",
    "<pre>\n",
    "# Example Package\n",
    "\n",
    "This is a simple example package. You can use\n",
    "Github-flavored Markdown:\n",
    "https://guides.github.com/features/mastering-markdown/\n",
    "to write your content.\n",
    "</pre>"
   ]
  },
  {
   "cell_type": "markdown",
   "metadata": {},
   "source": [
    "- LICENSE\n",
    "\n",
    "是版权文件。现在很多工具都是开源版权，开源版权之间有或多或少的差异，想确定自己的程序应该用哪种版权，请参看[如何选择版权](https://choosealicense.com)。"
   ]
  },
  {
   "cell_type": "markdown",
   "metadata": {},
   "source": [
    "##### 创建Python包\n",
    "打包需要使用setuptools, wheel两个工具，确保已安装这两个工具包。没安装，用如下命令安装。\n",
    "<pre>\n",
    "  python3 -m pip install --user --upgrade setuptools wheel\n",
    "</pre>\n",
    "在setup.py所在目录下，执行下面命令。\n",
    "<pre>\n",
    "  python3 setup.py sdist bdist_wheel\n",
    "</pre>\n",
    "该命令生成一个名为dist的文件夹，内有两个文件。\n",
    "<pre>\n",
    "dist/\n",
    "  example_pkg_your_username-0.0.1-py3-none-any.whl\n",
    "  example_pkg_your_username-0.0.1.tar.gz\n",
    "</pre>\n",
    "\\*.tar.gz是工具包压缩的源代码，因公开源代码，所以此工具包才是自由软件、开源软件。当然，严格说，是不是开源软件，是由软件的版权决定的。whl是打包后的二进制文件，即常说的“发行版”。可以将该发行版拷给同学使用，也可以将该发行版上传到Pypi供更多人使用。wheel是Python文件的二进制格式。安装wheel文件命令：\n",
    "<pre>\n",
    "  python install example_pkg_your_username-0.0.1-py3-none-any.whl\n",
    "</pre>\n",
    "使用下面命令，看该包安装到哪里去了。\n",
    "<pre>    \n",
    "pip list\n",
    "</pre>\n",
    "如果安装好了，则可以使用该包了。使用下面命令，看看结果是什么。\n",
    "<pre>\n",
    "import example_pkg\n",
    "example_pkg.name  # 'example_pkg'\n",
    "</pre>"
   ]
  },
  {
   "cell_type": "markdown",
   "metadata": {},
   "source": [
    "##### 练习：打包\n",
    "写一个程序，打包，将程序的whl文件，发布给同学使用。看看你写的程序能否为同学们使用。然后，听听同学们的意见，根据反馈，修改程序，发布第二个版本。\n",
    "\n",
    "使用github练习多人协作编写较大的程序。"
   ]
  },
  {
   "cell_type": "markdown",
   "metadata": {},
   "source": [
    "#### 如何自学\n",
    "Python的工具包实在是太多了，不可能都学，也没必要。同学们应当在需用时，找到相应模块，尽力了解、探索，对模块有个大致掌握。为后续深入钻研打个基础。学会自学是学习中最重要的事情。\n",
    "\n",
    "以copy为例，我们看看如何自学Python模块。为了了解copy梗概，我们在解释器提示符下，探索该模块。"
   ]
  },
  {
   "cell_type": "code",
   "execution_count": 53,
   "metadata": {},
   "outputs": [
    {
     "data": {
      "text/plain": [
       "['Error',\n",
       " '__all__',\n",
       " '__builtins__',\n",
       " '__cached__',\n",
       " '__doc__',\n",
       " '__file__',\n",
       " '__loader__',\n",
       " '__name__',\n",
       " '__package__',\n",
       " '__spec__',\n",
       " '_copy_dispatch',\n",
       " '_copy_immutable',\n",
       " '_deepcopy_atomic',\n",
       " '_deepcopy_dict',\n",
       " '_deepcopy_dispatch',\n",
       " '_deepcopy_list',\n",
       " '_deepcopy_method',\n",
       " '_deepcopy_tuple',\n",
       " '_keep_alive',\n",
       " '_reconstruct',\n",
       " 'copy',\n",
       " 'deepcopy',\n",
       " 'dispatch_table',\n",
       " 'error']"
      ]
     },
     "execution_count": 53,
     "metadata": {},
     "output_type": "execute_result"
    }
   ],
   "source": [
    "import copy\n",
    "dir(copy)"
   ]
  },
  {
   "cell_type": "markdown",
   "metadata": {},
   "source": [
    "dir()列出模块中的属性、函数、类、变量等。有些名字带下划线，下划线是作者按Python编程惯例明示，这些名字不应该在模块外使用，下划线表明这些名字代表的函数或类是作者自用的，而不是给用户用的，原则上用户无需关注它们。"
   ]
  },
  {
   "cell_type": "code",
   "execution_count": 54,
   "metadata": {},
   "outputs": [
    {
     "data": {
      "text/plain": [
       "['Error', 'copy', 'deepcopy', 'dispatch_table', 'error']"
      ]
     },
     "execution_count": 54,
     "metadata": {},
     "output_type": "execute_result"
    }
   ],
   "source": [
    "# 看看这个程序做了什么，能否解释下。\n",
    "[ n for n in dir(copy) if not n.startswith('_')]"
   ]
  },
  {
   "cell_type": "markdown",
   "metadata": {},
   "source": [
    "##### \\_\\_all\\_\\_"
   ]
  },
  {
   "cell_type": "markdown",
   "metadata": {},
   "source": [
    "copy.\\_\\_all\\_\\_会输出一个列表，列出可用名字。与上一个列表推导式基本一致。区别在于，\\_\\_all\\_\\_}的内容是由工具包作者拟定的，也就是说作者认为，用户应当重点关注这些函数和类。\n",
    "\n",
    "看copy.py里面的\\_\\_all\\_\\_}变量声明，就知道作者在哪里可以告诉用户，哪些类和函数是他希望用户关注的。\n",
    "\n",
    "使用from copy import \\*得到的正是\\_\\_all\\_\\_中列出的函数。当程序员自己写模块时，也应在模块中声明\\_\\_all\\_\\_变量，明确告诉读者，哪些函数是可用的，这是个好习惯。"
   ]
  },
  {
   "cell_type": "markdown",
   "metadata": {},
   "source": [
    "##### help\n",
    "help(copy.copy)}给出的信息，基本够一个程序员正常所需。"
   ]
  },
  {
   "cell_type": "markdown",
   "metadata": {},
   "source": [
    "##### \\_\\_doc\\_\\_\n",
    "print(copy.\\_\\_doc\\_\\_)显示copy模块中copy函数的\\_\\_doc\\_\\_}属性help一般比doc给出更多关于模块的信息。"
   ]
  },
  {
   "cell_type": "markdown",
   "metadata": {},
   "source": [
    "##### 参考手册\n",
    "[Python Library Reference(for Python 3.7)](https://docs.python.org/3.7/library/index.html)描述了所有内置库的模块。遇到问题，尤其是想了解关于Python的具体情况时，一定要去这里找到答案。"
   ]
  },
  {
   "cell_type": "markdown",
   "metadata": {},
   "source": [
    "##### \\_\\_file\\_\\_\n",
    "真想理解Python，真想透彻搞清一个模块，哪个办法能比直接阅读模块的源代码更好呢？阅读Python源码是第二有效的学习Python的方法。第一有效呢？动手写Python代码。那么，如何找到源码文件？先要找到该源文件的位置，print(copy.\\_\\_file\\_\\_)。到这个文件夹下，打开文件，开始阅读理解这个模块的工作原理和技术细节吧。\n",
    "\n",
    "##### 练习：自学以下内置模块\n",
    "<pre>\n",
    "  sys, os, file, input, sets, heapq, collections, time, random,\n",
    "  shelve, re, functools, difflib, hashlib, csv, timeit, profile,\n",
    "  trace, datetime, itertools, logging, getopt, optparse, cmd, re\n",
    "</pre>\n",
    "\n",
    "re实现“正则表达式(regular expression)”，用于匹配字符串。关于正则表达式，参考（余晟著《正则指引》电子工业出版社，2012）,\n",
    "（Jeffrey E.F.Friedl著，余晟译.精通正则表达式.电子工业出版社,2012）。\n",
    "\n",
    "##### 练习：结构化程序\n",
    "- reExample.py\n",
    "- Mudball.py\n",
    "- howdoi"
   ]
  },
  {
   "cell_type": "markdown",
   "metadata": {},
   "source": [
    "### 第六章　文件\n",
    "\n",
    "为长期保存数据，须将数据以文件形式存储到磁盘中。文件分为文本文件、二进制文件。文件操作流程如下。\n",
    "- 打开文件并创建文件对象\n",
    "- 通过文件对象对文件内容进行读取、写入、修改、删除\n",
    "- 保存文件，关闭文件对象"
   ]
  },
  {
   "cell_type": "markdown",
   "metadata": {},
   "source": [
    "#### 打开文件\n",
    "open(name[, mode[, buffering]])函数打开文件。扩展巴克斯范式（Extended Backus-Naur form）用于描述函数。其中，name是必要（madatory）参数，mode和buffering是可选（optional）参数，该函数返回一个文件对象。"
   ]
  },
  {
   "cell_type": "code",
   "execution_count": null,
   "metadata": {},
   "outputs": [],
   "source": [
    "# f = open(r'c:\\text\\somefile.txt')"
   ]
  },
  {
   "cell_type": "markdown",
   "metadata": {},
   "source": [
    "打开后，f文件对象代表该文件。\n",
    "\n",
    "##### 打开模式\n",
    "\n",
    "-  值 :  说明 \n",
    "- 'r' : 只读 \n",
    "- 'w' : 写入 \n",
    "- 'a' : 追加 \n",
    "- 'b' : 二进制模式(可组合)\n",
    "- '+' : 读写模式(可组合) \n",
    "\n",
    "一般，Python默认处理文本文件，如处理二进制文件需要明确指定二进制模式。缓存标志位，0表示不缓存,1表示使用缓存。"
   ]
  },
  {
   "cell_type": "markdown",
   "metadata": {},
   "source": [
    "#### 文件操作\n",
    "##### 读写文件内容\n",
    "上下文（context）管理关键字with自动完成管理资源，不论何种原因跳出with块，总能保证文件正确关闭。操作文件时，应用这种方式打开文件。"
   ]
  },
  {
   "cell_type": "code",
   "execution_count": 106,
   "metadata": {},
   "outputs": [],
   "source": [
    "f = open('somefile.txt', 'w')\n",
    "f.write('1')\n",
    "f.write('2')\n",
    "f.close()\n",
    "\n",
    "f = open('somefile.txt', 'r')\n",
    "f.read(4)\n",
    "f.read()\n",
    "\n",
    "# recommend syntax, using context\n",
    "with open('somefile.txt', 'w') as f:\n",
    "    f.write('Hello,')\n",
    "    f.write('World!')"
   ]
  },
  {
   "cell_type": "markdown",
   "metadata": {},
   "source": [
    "##### 按行读写文件\n",
    "见下例"
   ]
  },
  {
   "cell_type": "code",
   "execution_count": null,
   "metadata": {},
   "outputs": [],
   "source": [
    "with open('sample.txt','r') as f:\n",
    "    while True:\n",
    "        line = f.readline()\n",
    "        if line == '':\n",
    "            breal\n",
    "            print(line, end='')\n",
    "# sample.txt\n",
    "# Welcome to this file\n",
    "# There is nothing here except\n",
    "# this strange line\n",
    "f = open(r'c:\\text\\sample.txt')\n",
    "f.read(7)\n",
    "f.read(4)\n",
    "f.close()\n",
    "\n",
    "f = open(r'c:\\text\\sample.txt')\n",
    "print(f.read())\n",
    "f.close()\n",
    "\n",
    "f = open(r'c:\\text\\sample.txt')\n",
    "for i range(3):\n",
    "    print(str(i) + \":\" + f.readline())\n",
    "f.close()\n",
    "\n",
    "import pprint\n",
    "pprint.pprint(open(r'c:\\text\\sample.txt').readlines()) # file object is being closed automatically.\n",
    "\n",
    "# this\n",
    "# is no\n",
    "# haiku\n",
    "lines[1] = \"isn't a\\n\"\n",
    "f = oepn(r'c:\\text\\sample.txt', 'w')\n",
    "f.writelines(lines)\n",
    "f.close()\n",
    "\n",
    "# one char a time\n",
    "def process(string):\n",
    "    print('Processing: ', string)\n",
    "\n",
    "f = open(filename)\n",
    "while True:\n",
    "   char = f.read(1)\n",
    "   if not char: \n",
    "        break\n",
    "   process(char)\n",
    "f.close()\n",
    "\n",
    "# one line a time\n",
    "f = open(filename)\n",
    "while True:\n",
    "   line = f.readline()\n",
    "   if not line: \n",
    "        break\n",
    "   process(line)\n",
    "f.close()\n",
    "\n",
    "f = open(filename)\n",
    "for char in f.read():\n",
    "    process(char)\n",
    "f.close()\n",
    "\n",
    "f = open(filename)\n",
    "for line in f.readlines():\n",
    "    process(line)\n",
    "f.close()\n",
    "\n",
    "# Lazy Line Iteration with fileinput\n",
    "# lazy line iteration\n",
    "import fileinput\n",
    "for line in fileinput.input(filename):\n",
    "    process(line)\n",
    "\n",
    "# file objects are iterable\n",
    "f = open(filename)\n",
    "for line in f:\n",
    "    process(line)\n",
    "f.close\n",
    "\n",
    "# Iterating over a file without storing the file object in a variable\n",
    "for line in open(filename):\n",
    "    process(line)"
   ]
  },
  {
   "cell_type": "markdown",
   "metadata": {},
   "source": [
    "#### 操作二进制文件和目录\n",
    "##### 二进制文件\n",
    "Python使用pickle模块，操作二进制文件。pickle是常用且速度快的二进制文件序列化模块。使用pickle进行对象序列化和二进制文件读写。"
   ]
  },
  {
   "cell_type": "code",
   "execution_count": null,
   "metadata": {},
   "outputs": [],
   "source": [
    "import pickle\n",
    "\n",
    "dir(pickle)  #  查看pickle模块属性\n",
    "#  定义数据\n",
    "f = open('sample_pickle.dat', 'wb')\n",
    "n = 7\n",
    "i = 13000000\n",
    "a = 99.056\n",
    "s = '中华人民共和国 abc 123'\n",
    "lst = [[1, 2, 3], [40, 50, 60], [7, 8, 9]]\n",
    "tpl = (-5, 10, 8)\n",
    "clctn = {4, 5, 6}\n",
    "dct = {'a': 'apple', 'b': 'banana', 'g': 'grape', 'o': 'orange'}\n",
    "\n",
    "#  将数据写入二进制文件\n",
    "try:\n",
    "    pickle.dump(n, f)  #  转储\n",
    "    pickle.dump(i, f)\n",
    "    pickle.dump(a, f)\n",
    "    pickle.dump(s, f)\n",
    "    pickle.dump(lst, f)\n",
    "    pickle.dump(tpl, f)\n",
    "    pickle.dump(clctn, f)\n",
    "    pickle.dump(dct, f)\n",
    "except:\n",
    "    print('Writing file exception')\n",
    "finally:\n",
    "    f.close()\n",
    "\n",
    "#  从二进制文件读入数据，并输出到屏幕\n",
    "try:\n",
    "    f2 = open('sample_pickle.dat', 'rb')\n",
    "    n = pickle.load(f2)\n",
    "    i = 0\n",
    "    while i<n:\n",
    "        x = pickle.load(f2)\n",
    "        print(x)\n",
    "        i += 1\n",
    "except Exception as e:\n",
    "    print(e)\n",
    "finally:\n",
    "    f2.close()"
   ]
  },
  {
   "cell_type": "markdown",
   "metadata": {},
   "source": [
    "##### 操作目录\n",
    "处理文件路径，要使用\\pyth{os.path}模块中的对象和方法。该模块提供大量用于路径判断、切分、连接及文件夹遍历方法"
   ]
  },
  {
   "cell_type": "code",
   "execution_count": null,
   "metadata": {},
   "outputs": [],
   "source": [
    "# 例： 查找特定后缀文件\n",
    "\n",
    "import os\n",
    "# dir(os.path)\n",
    "print([fname for fname in os.listdir(os.getcwd()) if os.path.isfile(fname) and fname.endswith('.org')])\n",
    "\n",
    "# 例： 遍历文件夹\n",
    "import os\n",
    "\n",
    "for root, dirs, files in os.walk(\".\", topdown=False):\n",
    "    for name in files:\n",
    "        #  print(os.path.join(root, name))\n",
    "        pass\n",
    "    for name in dirs:\n",
    "        #  print(os.path.join(root, name))\n",
    "        pass"
   ]
  },
  {
   "cell_type": "markdown",
   "metadata": {},
   "source": [
    "#### 练习\n",
    "简单爬取网页、解析文本程序。"
   ]
  },
  {
   "cell_type": "code",
   "execution_count": 108,
   "metadata": {},
   "outputs": [],
   "source": [
    "from urllib.request import urlopen\n",
    "from BeautifulSoup import BeautifulSoup  # install BeautifulSoup\n",
    "\n",
    "html = urlopen('http://python.org/community/jobs').read()\n",
    "# print(html)\n",
    "soup = BeautifulSoup(text)\n",
    "\n",
    "jobs = set()\n",
    "for header in soup('h3'):\n",
    "    links = header('a', 'reference')\n",
    "    if not links: \n",
    "        continue\n",
    "    link = links[0]\n",
    "    jobs.add('%s (%s)' % (link.string, link['href']))\n",
    "\n",
    "print('\\n'.join(sorted(jobs, key=lambda s: s.lower())))"
   ]
  }
 ],
 "metadata": {
  "kernelspec": {
   "display_name": "Python 3",
   "language": "python",
   "name": "python3"
  },
  "language_info": {
   "codemirror_mode": {
    "name": "ipython",
    "version": 3
   },
   "file_extension": ".py",
   "mimetype": "text/x-python",
   "name": "python",
   "nbconvert_exporter": "python",
   "pygments_lexer": "ipython3",
   "version": "3.6.9"
  }
 },
 "nbformat": 4,
 "nbformat_minor": 4
}
